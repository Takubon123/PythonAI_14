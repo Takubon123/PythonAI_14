{
 "cells": [
  {
   "cell_type": "markdown",
   "metadata": {
    "toc": true
   },
   "source": [
    "<h1>Table of Contents<span class=\"tocSkip\"></span></h1>\n",
    "<div class=\"toc\"><ul class=\"toc-item\"><li><span><a href=\"#第4章　ニューラルネットワークとKeras\" data-toc-modified-id=\"第4章　ニューラルネットワークとKeras-1\"><span class=\"toc-item-num\">1&nbsp;&nbsp;</span>第4章　ニューラルネットワークとKeras</a></span></li></ul></div>"
   ]
  },
  {
   "cell_type": "markdown",
   "metadata": {},
   "source": [
    "# 第4章　ニューラルネットワークとKeras"
   ]
  },
  {
   "cell_type": "code",
   "execution_count": null,
   "metadata": {},
   "outputs": [],
   "source": [
    "# 参考\n",
    "import numpy as np\n",
    "\n",
    "A = np.zeros(20)\n",
    "num = np.zeros(20)\n",
    "\n",
    "for n in range(20):\n",
    "    num[n]=n/20"
   ]
  },
  {
   "cell_type": "markdown",
   "metadata": {},
   "source": [
    "**Tensorboard起動**\n",
    "\n",
    "Anaconda Prompt- Jupyter起動させる\n",
    "\n",
    "(base) C:\\Users\\a4070>cd C:\\Users\\a4070\\Python\\Jupyter\\PythonAI_14\n",
    "\n",
    "(base) C:\\Users\\a4070\\Python\\Jupyter\\PythonAI_14>tensorboard --logdir=logs1\n",
    "\n",
    "***************\n",
    "\n",
    "TensorBoard 1.11.0 at http://PC-A4070-1807-1:6006 (Press CTRL+C to quit)\n",
    "\n",
    "***************\n",
    "\n",
    "TensorBoard 1.11.0 at http://localhost:6006/ (Press CTRL+C to quit)\n",
    "\n",
    "***************\n"
   ]
  },
  {
   "cell_type": "markdown",
   "metadata": {},
   "source": [
    "** リスト4.1:データのインポート **"
   ]
  },
  {
   "cell_type": "code",
   "execution_count": 30,
   "metadata": {},
   "outputs": [],
   "source": [
    "from tensorflow.python.keras.datasets import mnist\n",
    "\n",
    "\n",
    "(x_train, y_train), (x_test, y_test) = mnist.load_data()"
   ]
  },
  {
   "cell_type": "markdown",
   "metadata": {},
   "source": [
    "** リスト4.2:インポートしたデータの形 **"
   ]
  },
  {
   "cell_type": "code",
   "execution_count": 31,
   "metadata": {},
   "outputs": [
    {
     "name": "stdout",
     "output_type": "stream",
     "text": [
      "x_train.shape: (60000, 28, 28)\n",
      "x_test.shape: (10000, 28, 28)\n",
      "y_train.shape: (60000,)\n",
      "y_test.shape: (10000,)\n"
     ]
    }
   ],
   "source": [
    "# インポートしたデータの形を確認\n",
    "print('x_train.shape:', x_train.shape)\n",
    "print('x_test.shape:', x_test.shape)\n",
    "print('y_train.shape:', y_train.shape)\n",
    "print('y_test.shape:', y_test.shape)"
   ]
  },
  {
   "cell_type": "markdown",
   "metadata": {},
   "source": [
    "** リスト4.3:インポートしたデータ（特徴量）をネットワークに対応するように変形する **"
   ]
  },
  {
   "cell_type": "code",
   "execution_count": 32,
   "metadata": {},
   "outputs": [],
   "source": [
    "x_train = x_train.reshape(60000, 784)\n",
    "x_train = x_train/255.\n",
    "x_test = x_test.reshape(10000, 784)\n",
    "x_test = x_test/255."
   ]
  },
  {
   "cell_type": "markdown",
   "metadata": {},
   "source": [
    "** リスト4.4:インポートしたデータ（クラスラベル）をネットワークに対応するように変形する **"
   ]
  },
  {
   "cell_type": "code",
   "execution_count": 33,
   "metadata": {},
   "outputs": [],
   "source": [
    "from tensorflow.python.keras.utils import to_categorical\n",
    "\n",
    "\n",
    "y_train = to_categorical(y_train, 10)\n",
    "y_test = to_categorical(y_test, 10)"
   ]
  },
  {
   "cell_type": "markdown",
   "metadata": {},
   "source": [
    "** リスト4.5:モデル構築の準備 **"
   ]
  },
  {
   "cell_type": "code",
   "execution_count": 34,
   "metadata": {},
   "outputs": [],
   "source": [
    "from tensorflow.python.keras.models import Sequential\n",
    "\n",
    "\n",
    "model = Sequential()"
   ]
  },
  {
   "cell_type": "markdown",
   "metadata": {},
   "source": [
    "** リスト4.6:中間層の追加 **"
   ]
  },
  {
   "cell_type": "code",
   "execution_count": 35,
   "metadata": {},
   "outputs": [],
   "source": [
    "from tensorflow.python.keras.layers import Dense\n",
    "\n",
    "\n",
    "model.add(\n",
    "    Dense(\n",
    "        units=64, \n",
    "        input_shape=(784,),\n",
    "        activation='relu'\n",
    "    )\n",
    ")"
   ]
  },
  {
   "cell_type": "markdown",
   "metadata": {},
   "source": [
    "** リスト4.7:出力層の追加 **"
   ]
  },
  {
   "cell_type": "code",
   "execution_count": 36,
   "metadata": {},
   "outputs": [],
   "source": [
    "model.add(\n",
    "    Dense(\n",
    "        units=10, \n",
    "        activation='softmax'\n",
    "    )\n",
    ")"
   ]
  },
  {
   "cell_type": "markdown",
   "metadata": {},
   "source": [
    "**Tensorboard起動**\n",
    "\n",
    "Anaconda Prompt- Jupyter起動させる\n",
    "\n",
    "(base) C:\\Users\\a4070>cd C:\\Users\\a4070\\Python\\Jupyter\\PythonAI_14\n",
    "\n",
    "(base) C:\\Users\\a4070\\Python\\Jupyter\\PythonAI_14>tensorboard --logdir=logs1\n",
    "\n",
    "TensorBoard 1.11.0 at http://localhost:6006/ (Press CTRL+C to quit)"
   ]
  },
  {
   "cell_type": "markdown",
   "metadata": {},
   "source": [
    "** リスト4.8:Adamを用いた、本モデルでのMNISTデータの学習**"
   ]
  },
  {
   "cell_type": "code",
   "execution_count": 39,
   "metadata": {
    "scrolled": false
   },
   "outputs": [
    {
     "name": "stdout",
     "output_type": "stream",
     "text": [
      "Train on 48000 samples, validate on 12000 samples\n",
      "Epoch 1/20\n",
      "48000/48000 [==============================] - 32s 662us/step - loss: 0.0087 - acc: 0.9974 - val_loss: 0.1107 - val_acc: 0.9738\n",
      "Epoch 2/20\n",
      "48000/48000 [==============================] - 27s 559us/step - loss: 0.0073 - acc: 0.9977 - val_loss: 0.1256 - val_acc: 0.9721\n",
      "Epoch 3/20\n",
      "48000/48000 [==============================] - 26s 550us/step - loss: 0.0057 - acc: 0.9985 - val_loss: 0.1258 - val_acc: 0.9743\n",
      "Epoch 4/20\n",
      "48000/48000 [==============================] - 27s 553us/step - loss: 0.0073 - acc: 0.9977 - val_loss: 0.1248 - val_acc: 0.9735\n",
      "Epoch 5/20\n",
      "48000/48000 [==============================] - 26s 551us/step - loss: 0.0062 - acc: 0.9982 - val_loss: 0.1322 - val_acc: 0.9735\n",
      "Epoch 6/20\n",
      "48000/48000 [==============================] - 26s 541us/step - loss: 0.0048 - acc: 0.9987 - val_loss: 0.1212 - val_acc: 0.9750\n",
      "Epoch 7/20\n",
      "48000/48000 [==============================] - 25s 525us/step - loss: 0.0055 - acc: 0.9985 - val_loss: 0.1270 - val_acc: 0.9737\n",
      "Epoch 8/20\n",
      "48000/48000 [==============================] - 26s 537us/step - loss: 0.0054 - acc: 0.9984 - val_loss: 0.1275 - val_acc: 0.9744\n",
      "Epoch 9/20\n",
      "48000/48000 [==============================] - 30s 630us/step - loss: 0.0034 - acc: 0.9991 - val_loss: 0.1240 - val_acc: 0.9751\n",
      "Epoch 10/20\n",
      "48000/48000 [==============================] - 26s 532us/step - loss: 0.0063 - acc: 0.9981 - val_loss: 0.1405 - val_acc: 0.9724\n",
      "Epoch 11/20\n",
      "48000/48000 [==============================] - 24s 504us/step - loss: 0.0027 - acc: 0.9993 - val_loss: 0.1260 - val_acc: 0.9762\n",
      "Epoch 12/20\n",
      "48000/48000 [==============================] - 25s 520us/step - loss: 0.0041 - acc: 0.9988 - val_loss: 0.1414 - val_acc: 0.9748\n",
      "Epoch 13/20\n",
      "48000/48000 [==============================] - 24s 498us/step - loss: 0.0052 - acc: 0.9984 - val_loss: 0.1366 - val_acc: 0.9734\n",
      "Epoch 14/20\n",
      "48000/48000 [==============================] - 28s 581us/step - loss: 0.0010 - acc: 0.9999 - val_loss: 0.1395 - val_acc: 0.9747\n",
      "Epoch 15/20\n",
      "48000/48000 [==============================] - 25s 514us/step - loss: 0.0067 - acc: 0.9980 - val_loss: 0.1342 - val_acc: 0.9753\n",
      "Epoch 16/20\n",
      "48000/48000 [==============================] - 25s 526us/step - loss: 0.0024 - acc: 0.9995 - val_loss: 0.1369 - val_acc: 0.9750\n",
      "Epoch 17/20\n",
      "48000/48000 [==============================] - 29s 604us/step - loss: 0.0029 - acc: 0.9992 - val_loss: 0.1616 - val_acc: 0.9720\n",
      "Epoch 18/20\n",
      "48000/48000 [==============================] - 27s 568us/step - loss: 0.0052 - acc: 0.9985 - val_loss: 0.1481 - val_acc: 0.9729\n",
      "Epoch 19/20\n",
      "48000/48000 [==============================] - 27s 568us/step - loss: 9.8214e-04 - acc: 0.9999 - val_loss: 0.1377 - val_acc: 0.9757\n",
      "Epoch 20/20\n",
      "48000/48000 [==============================] - 29s 602us/step - loss: 0.0053 - acc: 0.9982 - val_loss: 0.1478 - val_acc: 0.9738\n"
     ]
    }
   ],
   "source": [
    "from tensorflow.python.keras.callbacks import TensorBoard\n",
    "\n",
    "\n",
    "model.compile(\n",
    "    optimizer='adam',\n",
    "    loss='categorical_crossentropy',\n",
    "    metrics=['accuracy']\n",
    ")\n",
    "tsb = TensorBoard(log_dir='./logs1')\n",
    "history_adam = model.fit(\n",
    "    x_train,\n",
    "    y_train,\n",
    "    batch_size=32,\n",
    "    epochs=20,\n",
    "    validation_split=0.2,\n",
    "    callbacks=[tsb]\n",
    ")"
   ]
  },
  {
   "cell_type": "markdown",
   "metadata": {},
   "source": [
    "Train on 48000 samples, validate on 12000 samples\n",
    "\n",
    "Epoch 1/20\n",
    "48000/48000 [==============================] - 28s 588us/step - loss: 0.3273 - acc: 0.9070 - val_loss: 0.1884 - val_acc: 0.9459\n",
    "\n",
    "Epoch 2/20\n",
    "48000/48000 [==============================] - 26s 548us/step - loss: 0.1574 - acc: 0.9540 - val_loss: 0.1343 - val_acc: 0.9615\n",
    "\n",
    "Epoch 3/20\n",
    "48000/48000 [==============================] - 29s 598us/step - loss: 0.1130 - acc: 0.9669 - val_loss: 0.1171 - val_acc: 0.9652\n",
    "\n",
    "Epoch 4/20\n",
    "48000/48000 [==============================] - 29s 598us/step - loss: 0.0883 - acc: 0.9738 - val_loss: 0.1029 - val_acc: 0.9703\n",
    "\n",
    "Epoch 5/20\n",
    "48000/48000 [==============================] - 29s 598us/step - loss: 0.0727 - acc: 0.9784 - val_loss: 0.0973 - val_acc: 0.9702\n",
    "\n",
    "Epoch 6/20\n",
    "48000/48000 [==============================] - 30s 615us/step - loss: 0.0596 - acc: 0.9818 - val_loss: 0.0909 - val_acc: 0.9734\n",
    "\n",
    "Epoch 7/20\n",
    "48000/48000 [==============================] - 27s 557us/step - loss: 0.0500 - acc: 0.9848 - val_loss: 0.0894 - val_acc: 0.9737\n",
    "\n",
    "Epoch 8/20\n",
    "48000/48000 [==============================] - 26s 546us/step - loss: 0.0423 - acc: 0.9876 - val_loss: 0.0929 - val_acc: 0.9732\n",
    "\n",
    "Epoch 9/20\n",
    "48000/48000 [==============================] - 27s 560us/step - loss: 0.0367 - acc: 0.9887 - val_loss: 0.0886 - val_acc: 0.9740\n",
    "\n",
    "Epoch 10/20\n",
    "48000/48000 [==============================] - 27s 561us/step - loss: 0.0311 - acc: 0.9905 - val_loss: 0.1023 - val_acc: 0.9709\n",
    "\n",
    "Epoch 11/20\n",
    "48000/48000 [==============================] - 26s 537us/step - loss: 0.0274 - acc: 0.9917 - val_loss: 0.0960 - val_acc: 0.9734\n",
    "\n",
    "Epoch 12/20\n",
    "48000/48000 [==============================] - 26s 533us/step - loss: 0.0230 - acc: 0.9932 - val_loss: 0.1004 - val_acc: 0.9729\n",
    "\n",
    "Epoch 13/20\n",
    "48000/48000 [==============================] - 25s 517us/step - loss: 0.0200 - acc: 0.9943 - val_loss: 0.1080 - val_acc: 0.9705\n",
    "\n",
    "Epoch 14/20\n",
    "48000/48000 [==============================] - 26s 534us/step - loss: 0.0174 - acc: 0.9950 - val_loss: 0.1071 - val_acc: 0.9725\n",
    "\n",
    "Epoch 15/20\n",
    "48000/48000 [==============================] - 26s 545us/step - loss: 0.0162 - acc: 0.9953 - val_loss: 0.1015 - val_acc: 0.9742\n",
    "\n",
    "Epoch 16/20\n",
    "48000/48000 [==============================] - 26s 533us/step - loss: 0.0134 - acc: 0.9964 - val_loss: 0.1071 - val_acc: 0.9733\n",
    "\n",
    "Epoch 17/20\n",
    "48000/48000 [==============================] - 25s 520us/step - loss: 0.0121 - acc: 0.9968 - val_loss: 0.1122 - val_acc: 0.9740\n",
    "\n",
    "Epoch 18/20\n",
    "48000/48000 [==============================] - 25s 516us/step - loss: 0.0110 - acc: 0.9971 - val_loss: 0.1109 - val_acc: 0.9735\n",
    "\n",
    "Epoch 19/20\n",
    "48000/48000 [==============================] - 26s 540us/step - loss: 0.0083 - acc: 0.9979 - val_loss: 0.1143 - val_acc: 0.9736\n",
    "\n",
    "Epoch 20/20\n",
    "48000/48000 [==============================] - 27s 565us/step - loss: 0.0098 - acc: 0.9972 - val_loss: 0.1153 - val_acc: 0.9734"
   ]
  },
  {
   "cell_type": "markdown",
   "metadata": {},
   "source": [
    "![CNT](TensorBoard_C4_0.PNG \"CNT\")\n",
    "![CNT](TensorBoard_C4_1.PNG \"CNT\")\n",
    "![CNT](TensorBoard_C4_2.PNG \"CNT\")"
   ]
  },
  {
   "cell_type": "markdown",
   "metadata": {},
   "source": [
    "**Tensorboard起動**\n",
    "\n",
    "Anaconda Prompt- Jupyter起動させる\n",
    "\n",
    "(base) C:\\Users\\a4070>cd C:\\Users\\a4070\\Python\\Jupyter\\PythonAI_14\n",
    "\n",
    "(base) C:\\Users\\a4070\\Python\\Jupyter\\PythonAI_14>tensorboard --logdir=logs1\n",
    "\n",
    "TensorBoard 1.11.0 at http://localhost:6006/ (Press CTRL+C to quit)"
   ]
  },
  {
   "cell_type": "markdown",
   "metadata": {},
   "source": [
    "** リスト4.9:Functional APIを用いたモデル構築のための準備**"
   ]
  },
  {
   "cell_type": "code",
   "execution_count": 44,
   "metadata": {},
   "outputs": [],
   "source": [
    "from tensorflow.python.keras.datasets import mnist\n",
    "from tensorflow.python.keras.utils import to_categorical\n",
    "from tensorflow.python.keras.callbacks import TensorBoard\n",
    "from tensorflow.python.keras.layers import Input, Dense\n",
    "from tensorflow.python.keras.models import Model\n",
    "\n",
    "\n",
    "(x_train, y_train), (x_test, y_test) = mnist.load_data()\n",
    "x_train = x_train.reshape(60000, 784)\n",
    "x_train = x_train/255.\n",
    "x_test = x_test.reshape(10000, 784)\n",
    "x_test = x_test/255.\n",
    "y_train = to_categorical(y_train, 10)\n",
    "y_test = to_categorical(y_test, 10)\n",
    "tsb = TensorBoard(log_dir='./logs1')"
   ]
  },
  {
   "cell_type": "markdown",
   "metadata": {},
   "source": [
    "** リスト4.10:Functional APIによるモデルの構築 **"
   ]
  },
  {
   "cell_type": "code",
   "execution_count": 45,
   "metadata": {},
   "outputs": [],
   "source": [
    "input = Input(shape=(784, ))\n",
    "middle = Dense(units=64, activation='relu')(input)\n",
    "output = Dense(units=10, activation='softmax')(middle)\n",
    "model = Model(inputs=[input], outputs=[output])"
   ]
  },
  {
   "cell_type": "markdown",
   "metadata": {},
   "source": [
    "** リスト4.11:構築したモデルのコンパイル例 **"
   ]
  },
  {
   "cell_type": "code",
   "execution_count": 46,
   "metadata": {},
   "outputs": [],
   "source": [
    "model.compile(\n",
    "    optimizer='adam',\n",
    "    loss='categorical_crossentropy',\n",
    "    metrics=['accuracy']\n",
    ")"
   ]
  },
  {
   "cell_type": "markdown",
   "metadata": {},
   "source": [
    "** リスト4.12:MNISTのデータセットを学習する **"
   ]
  },
  {
   "cell_type": "code",
   "execution_count": 47,
   "metadata": {},
   "outputs": [
    {
     "name": "stdout",
     "output_type": "stream",
     "text": [
      "Train on 48000 samples, validate on 12000 samples\n",
      "Epoch 1/20\n",
      "48000/48000 [==============================] - 30s 625us/step - loss: 0.3385 - acc: 0.9047 - val_loss: 0.1955 - val_acc: 0.9438\n",
      "Epoch 2/20\n",
      "48000/48000 [==============================] - 29s 607us/step - loss: 0.1669 - acc: 0.9518 - val_loss: 0.1377 - val_acc: 0.9609\n",
      "Epoch 3/20\n",
      "48000/48000 [==============================] - 30s 628us/step - loss: 0.1213 - acc: 0.9654 - val_loss: 0.1259 - val_acc: 0.9648\n",
      "Epoch 4/20\n",
      "48000/48000 [==============================] - 29s 611us/step - loss: 0.0946 - acc: 0.9724 - val_loss: 0.1092 - val_acc: 0.9683\n",
      "Epoch 5/20\n",
      "48000/48000 [==============================] - 30s 616us/step - loss: 0.0766 - acc: 0.9775 - val_loss: 0.1003 - val_acc: 0.9695\n",
      "Epoch 6/20\n",
      "48000/48000 [==============================] - 28s 593us/step - loss: 0.0634 - acc: 0.9816 - val_loss: 0.1021 - val_acc: 0.9695\n",
      "Epoch 7/20\n",
      "48000/48000 [==============================] - 29s 597us/step - loss: 0.0527 - acc: 0.9844 - val_loss: 0.1044 - val_acc: 0.9691\n",
      "Epoch 8/20\n",
      "48000/48000 [==============================] - 27s 568us/step - loss: 0.0451 - acc: 0.9864 - val_loss: 0.0975 - val_acc: 0.9708\n",
      "Epoch 9/20\n",
      "48000/48000 [==============================] - 29s 603us/step - loss: 0.0387 - acc: 0.9882 - val_loss: 0.0971 - val_acc: 0.9723\n",
      "Epoch 10/20\n",
      "48000/48000 [==============================] - 28s 588us/step - loss: 0.0329 - acc: 0.9902 - val_loss: 0.1007 - val_acc: 0.9718\n",
      "Epoch 11/20\n",
      "48000/48000 [==============================] - 32s 662us/step - loss: 0.0278 - acc: 0.9916 - val_loss: 0.1001 - val_acc: 0.9724\n",
      "Epoch 12/20\n",
      "48000/48000 [==============================] - 39s 809us/step - loss: 0.0241 - acc: 0.9930 - val_loss: 0.1063 - val_acc: 0.9716\n",
      "Epoch 13/20\n",
      "48000/48000 [==============================] - 32s 658us/step - loss: 0.0213 - acc: 0.9935 - val_loss: 0.1054 - val_acc: 0.9742\n",
      "Epoch 14/20\n",
      "48000/48000 [==============================] - 29s 612us/step - loss: 0.0180 - acc: 0.9948 - val_loss: 0.1100 - val_acc: 0.9708\n",
      "Epoch 15/20\n",
      "48000/48000 [==============================] - 37s 761us/step - loss: 0.0169 - acc: 0.9950 - val_loss: 0.1053 - val_acc: 0.9737\n",
      "Epoch 16/20\n",
      "48000/48000 [==============================] - 32s 662us/step - loss: 0.0139 - acc: 0.9962 - val_loss: 0.1091 - val_acc: 0.9748\n",
      "Epoch 17/20\n",
      "48000/48000 [==============================] - 26s 551us/step - loss: 0.0127 - acc: 0.9962 - val_loss: 0.1220 - val_acc: 0.9718\n",
      "Epoch 18/20\n",
      "48000/48000 [==============================] - 25s 522us/step - loss: 0.0118 - acc: 0.9966 - val_loss: 0.1142 - val_acc: 0.9738\n",
      "Epoch 19/20\n",
      "48000/48000 [==============================] - 25s 517us/step - loss: 0.0097 - acc: 0.9976 - val_loss: 0.1308 - val_acc: 0.9700\n",
      "Epoch 20/20\n",
      "48000/48000 [==============================] - 26s 541us/step - loss: 0.0102 - acc: 0.9969 - val_loss: 0.1146 - val_acc: 0.9738\n"
     ]
    },
    {
     "data": {
      "text/plain": [
       "<tensorflow.python.keras.callbacks.History at 0x18f1f17ee48>"
      ]
     },
     "execution_count": 47,
     "metadata": {},
     "output_type": "execute_result"
    }
   ],
   "source": [
    "model.fit(\n",
    "    x_train,\n",
    "    y_train,\n",
    "    batch_size=32,\n",
    "    epochs=20,\n",
    "    callbacks=[tsb],\n",
    "    validation_split=0.2\n",
    ")"
   ]
  },
  {
   "cell_type": "markdown",
   "metadata": {},
   "source": [
    "Train on 48000 samples, validate on 12000 samples\n",
    "\n",
    "Epoch 1/20\n",
    "48000/48000 [==============================] - 8s 159us/step - loss: 0.3252 - acc: 0.9086 - val_loss: 0.1851 - val_acc: 0.9487\n",
    "\n",
    "Epoch 2/20\n",
    "48000/48000 [==============================] - 10s 202us/step - loss: 0.1560 - acc: 0.9550 - val_loss: 0.1399 - val_acc: 0.9599\n",
    "\n",
    "Epoch 3/20\n",
    "48000/48000 [==============================] - 10s 203us/step - loss: 0.1157 - acc: 0.9648 - val_loss: 0.1347 - val_acc: 0.9600\n",
    "\n",
    "Epoch 4/20\n",
    "48000/48000 [==============================] - 10s 206us/step - loss: 0.0926 - acc: 0.9722 - val_loss: 0.1204 - val_acc: 0.9645\n",
    "\n",
    "Epoch 5/20\n",
    "48000/48000 [==============================] - 9s 194us/step - loss: 0.0769 - acc: 0.9769 - val_loss: 0.1059 - val_acc: 0.9686\n",
    "\n",
    "Epoch 6/20\n",
    "48000/48000 [==============================] - 10s 209us/step - loss: 0.0628 - acc: 0.9815 - val_loss: 0.1107 - val_acc: 0.9692\n",
    "\n",
    "Epoch 7/20\n",
    "48000/48000 [==============================] - 12s 241us/step - loss: 0.0537 - acc: 0.9841 - val_loss: 0.1151 - val_acc: 0.9663\n",
    "\n",
    "Epoch 8/20\n",
    "48000/48000 [==============================] - 10s 201us/step - loss: 0.0465 - acc: 0.9862 - val_loss: 0.1028 - val_acc: 0.9701\n",
    "\n",
    "Epoch 9/20\n",
    "48000/48000 [==============================] - 11s 236us/step - loss: 0.0398 - acc: 0.9883 - val_loss: 0.1036 - val_acc: 0.9706\n",
    "\n",
    "Epoch 10/20\n",
    "48000/48000 [==============================] - 10s 205us/step - loss: 0.0345 - acc: 0.9896 - val_loss: 0.1014 - val_acc: 0.9732\n",
    "\n",
    "Epoch 11/20\n",
    "48000/48000 [==============================] - 11s 219us/step - loss: 0.0297 - acc: 0.9911 - val_loss: 0.1065 - val_acc: 0.9726\n",
    "\n",
    "Epoch 12/20\n",
    "48000/48000 [==============================] - 13s 276us/step - loss: 0.0246 - acc: 0.9929 - val_loss: 0.1054 - val_acc: 0.9719\n",
    "\n",
    "Epoch 13/20\n",
    "48000/48000 [==============================] - 11s 223us/step - loss: 0.0226 - acc: 0.9929 - val_loss: 0.1144 - val_acc: 0.9699\n",
    "\n",
    "Epoch 14/20\n",
    "48000/48000 [==============================] - 9s 197us/step - loss: 0.0187 - acc: 0.9943 - val_loss: 0.1138 - val_acc: 0.9720\n",
    "\n",
    "Epoch 15/20\n",
    "48000/48000 [==============================] - 11s 221us/step - loss: 0.0160 - acc: 0.9954 - val_loss: 0.1140 - val_acc: 0.9732\n",
    "\n",
    "Epoch 16/20\n",
    "48000/48000 [==============================] - 11s 230us/step - loss: 0.0141 - acc: 0.9962 - val_loss: 0.1211 - val_acc: 0.9714\n",
    "\n",
    "Epoch 17/20\n",
    "48000/48000 [==============================] - 10s 212us/step - loss: 0.0130 - acc: 0.9964 - val_loss: 0.1177 - val_acc: 0.9741\n",
    "\n",
    "Epoch 18/20\n",
    "48000/48000 [==============================] - 12s 245us/step - loss: 0.0113 - acc: 0.9972 - val_loss: 0.1303 - val_acc: 0.9703\n",
    "\n",
    "Epoch 19/20\n",
    "48000/48000 [==============================] - 12s 243us/step - loss: 0.0109 - acc: 0.9972 - val_loss: 0.1235 - val_acc: 0.9722\n",
    "\n",
    "Epoch 20/20\n",
    "48000/48000 [==============================] - 11s 227us/step - loss: 0.0090 - acc: 0.9977 - val_loss: 0.1256 - val_acc: 0.9742\n",
    "\n",
    "\n",
    "<tensorflow.python.keras.callbacks.History at 0x18f153b8588>\n"
   ]
  },
  {
   "cell_type": "markdown",
   "metadata": {},
   "source": [
    "![CNT](TensorBoard_C4_3.PNG \"CNT\")\n",
    "![CNT](TensorBoard_C4_4.PNG \"CNT\")\n",
    "![CNT](TensorBoard_C4_5.PNG \"CNT\")"
   ]
  },
  {
   "cell_type": "code",
   "execution_count": 1,
   "metadata": {},
   "outputs": [
    {
     "data": {
      "text/html": [
       "\n",
       "<button id=\"code-show-switch-btn\">スクリプトを非表示にする</button>\n",
       "\n",
       "<script>\n",
       "var code_show = true;\n",
       "\n",
       "function switch_display_setting() {\n",
       "    var switch_btn = $(\"#code-show-switch-btn\");\n",
       "    if (code_show) {\n",
       "        $(\"div.input\").hide();\n",
       "        code_show = false;\n",
       "        switch_btn.text(\"スクリプトを表示する\");\n",
       "    }else {\n",
       "        $(\"div.input\").show();\n",
       "        code_show = true;\n",
       "        switch_btn.text(\"スクリプトを非表示にする\");\n",
       "    }\n",
       "}\n",
       "\n",
       "$(\"#code-show-switch-btn\").click(switch_display_setting);\n",
       "</script>\n"
      ],
      "text/plain": [
       "<IPython.core.display.HTML object>"
      ]
     },
     "execution_count": 1,
     "metadata": {},
     "output_type": "execute_result"
    }
   ],
   "source": [
    "from IPython.display import HTML\n",
    "\n",
    "HTML(\"\"\"\n",
    "<button id=\"code-show-switch-btn\">スクリプトを非表示にする</button>\n",
    "\n",
    "<script>\n",
    "var code_show = true;\n",
    "\n",
    "function switch_display_setting() {\n",
    "    var switch_btn = $(\"#code-show-switch-btn\");\n",
    "    if (code_show) {\n",
    "        $(\"div.input\").hide();\n",
    "        code_show = false;\n",
    "        switch_btn.text(\"スクリプトを表示する\");\n",
    "    }else {\n",
    "        $(\"div.input\").show();\n",
    "        code_show = true;\n",
    "        switch_btn.text(\"スクリプトを非表示にする\");\n",
    "    }\n",
    "}\n",
    "\n",
    "$(\"#code-show-switch-btn\").click(switch_display_setting);\n",
    "</script>\n",
    "\"\"\")"
   ]
  },
  {
   "cell_type": "code",
   "execution_count": null,
   "metadata": {},
   "outputs": [],
   "source": []
  }
 ],
 "metadata": {
  "kernelspec": {
   "display_name": "Python 3",
   "language": "python",
   "name": "python3"
  },
  "language_info": {
   "codemirror_mode": {
    "name": "ipython",
    "version": 3
   },
   "file_extension": ".py",
   "mimetype": "text/x-python",
   "name": "python",
   "nbconvert_exporter": "python",
   "pygments_lexer": "ipython3",
   "version": "3.6.4"
  },
  "toc": {
   "base_numbering": 1,
   "nav_menu": {},
   "number_sections": true,
   "sideBar": true,
   "skip_h1_title": false,
   "title_cell": "Table of Contents",
   "title_sidebar": "Contents",
   "toc_cell": true,
   "toc_position": {},
   "toc_section_display": true,
   "toc_window_display": false
  }
 },
 "nbformat": 4,
 "nbformat_minor": 2
}
