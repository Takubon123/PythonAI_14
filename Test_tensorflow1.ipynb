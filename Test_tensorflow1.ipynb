{
 "cells": [
  {
   "cell_type": "markdown",
   "metadata": {},
   "source": []
  },
  {
   "cell_type": "code",
   "execution_count": 1,
   "metadata": {},
   "outputs": [
    {
     "name": "stderr",
     "output_type": "stream",
     "text": [
      "UsageError: Cell magic `%%matplotlib` not found (But line magic `%matplotlib` exists, did you mean that instead?).\n"
     ]
    }
   ],
   "source": [
    "%matplotlib inline\n",
    "\n",
    "import matplotlib.pyplot as plt"
   ]
  },
  {
   "cell_type": "markdown",
   "metadata": {},
   "source": []
  },
  {
   "cell_type": "code",
   "execution_count": 2,
   "metadata": {},
   "outputs": [
    {
     "name": "stderr",
     "output_type": "stream",
     "text": [
      "/usr/local/envs/py3env/lib/python3.5/site-packages/h5py/__init__.py:36: FutureWarning: Conversion of the second argument of issubdtype from `float` to `np.floating` is deprecated. In future, it will be treated as `np.float64 == np.dtype(float).type`.\n",
      "  from ._conv import register_converters as _register_converters\n"
     ]
    },
    {
     "name": "stdout",
     "output_type": "stream",
     "text": [
      "2\n"
     ]
    }
   ],
   "source": [
    "import tensorflow as tf\n",
    "\n",
    "\n",
    "a = tf.constant(1, name='a')\n",
    "b = tf.constant(1, name='b')\n",
    "c = a + b\n",
    "\n",
    "with tf.Session() as sess:\n",
    "    print(sess.run(c))"
   ]
  },
  {
   "cell_type": "markdown",
   "metadata": {},
   "source": []
  },
  {
   "cell_type": "code",
   "execution_count": 3,
   "metadata": {},
   "outputs": [
    {
     "name": "stdout",
     "output_type": "stream",
     "text": [
      "Tensor(\"add_1:0\", shape=(), dtype=int32)\n"
     ]
    }
   ],
   "source": [
    "import tensorflow as tf\n",
    "\n",
    "\n",
    "a = tf.constant(1, name='a')\n",
    "b = tf.constant(1, name='b')\n",
    "c = a + b\n",
    "\n",
    "print(c)"
   ]
  },
  {
   "cell_type": "markdown",
   "metadata": {},
   "source": []
  },
  {
   "cell_type": "code",
   "execution_count": 4,
   "metadata": {},
   "outputs": [],
   "source": [
    "LOG_DIR = './logs'\n",
    "graph = tf.get_default_graph()\n",
    "with tf.summary.FileWriter(LOG_DIR) as writer:\n",
    "    writer.add_graph(graph)"
   ]
  },
  {
   "cell_type": "markdown",
   "metadata": {},
   "source": []
  },
  {
   "cell_type": "code",
   "execution_count": 5,
   "metadata": {},
   "outputs": [],
   "source": [
    "# リスト3.3の結果がわかりづらくならいよう、グラフをリセットする\n",
    "tf.reset_default_graph()"
   ]
  },
  {
   "cell_type": "code",
   "execution_count": 6,
   "metadata": {},
   "outputs": [],
   "source": [
    "LOG_DIR = './logs'\n",
    "graph = tf.get_default_graph()\n",
    "with tf.summary.FileWriter(LOG_DIR) as writer:\n",
    "    writer.add_graph(graph)"
   ]
  },
  {
   "cell_type": "code",
   "execution_count": 7,
   "metadata": {},
   "outputs": [
    {
     "name": "stdout",
     "output_type": "stream",
     "text": [
      "node {\n",
      "  name: \"a\"\n",
      "  op: \"Const\"\n",
      "  attr {\n",
      "    key: \"dtype\"\n",
      "    value {\n",
      "      type: DT_INT32\n",
      "    }\n",
      "  }\n",
      "  attr {\n",
      "    key: \"value\"\n",
      "    value {\n",
      "      tensor {\n",
      "        dtype: DT_INT32\n",
      "        tensor_shape {\n",
      "        }\n",
      "        int_val: 1\n",
      "      }\n",
      "    }\n",
      "  }\n",
      "}\n",
      "node {\n",
      "  name: \"b\"\n",
      "  op: \"Const\"\n",
      "  attr {\n",
      "    key: \"dtype\"\n",
      "    value {\n",
      "      type: DT_INT32\n",
      "    }\n",
      "  }\n",
      "  attr {\n",
      "    key: \"value\"\n",
      "    value {\n",
      "      tensor {\n",
      "        dtype: DT_INT32\n",
      "        tensor_shape {\n",
      "        }\n",
      "        int_val: 1\n",
      "      }\n",
      "    }\n",
      "  }\n",
      "}\n",
      "node {\n",
      "  name: \"add\"\n",
      "  op: \"Add\"\n",
      "  input: \"a\"\n",
      "  input: \"b\"\n",
      "  attr {\n",
      "    key: \"T\"\n",
      "    value {\n",
      "      type: DT_INT32\n",
      "    }\n",
      "  }\n",
      "}\n",
      "versions {\n",
      "  producer: 26\n",
      "}\n",
      "\n"
     ]
    }
   ],
   "source": [
    "import tensorflow as tf\n",
    "\n",
    "\n",
    "a = tf.constant(1, name='a')\n",
    "b = tf.constant(1, name='b')\n",
    "c = a + b\n",
    "\n",
    "graph = tf.get_default_graph()\n",
    "print(graph.as_graph_def())"
   ]
  },
  {
   "cell_type": "code",
   "execution_count": 8,
   "metadata": {},
   "outputs": [],
   "source": [
    "LOG_DIR = './logs'\n",
    "graph = tf.get_default_graph()\n",
    "with tf.summary.FileWriter(LOG_DIR) as writer:\n",
    "    writer.add_graph(graph)"
   ]
  },
  {
   "cell_type": "code",
   "execution_count": 9,
   "metadata": {},
   "outputs": [
    {
     "name": "stdout",
     "output_type": "stream",
     "text": [
      "一回目: [c, a] = [2, 2]\n",
      "二回目: [c, a] = [3, 3]\n"
     ]
    }
   ],
   "source": [
    "import tensorflow as tf\n",
    "\n",
    "\n",
    "a = tf.Variable(1, name='a')\n",
    "b = tf.constant(1, name='b')\n",
    "c = tf.assign(a, a + b)\n",
    "\n",
    "with tf.Session() as sess:\n",
    "    sess.run(tf.global_variables_initializer())\n",
    "    print('一回目: [c, a] =', sess.run([c, a]))\n",
    "    # 変数 c が更新されている\n",
    "    print('二回目: [c, a] =', sess.run([c, a])) "
   ]
  },
  {
   "cell_type": "code",
   "execution_count": 10,
   "metadata": {},
   "outputs": [],
   "source": [
    "LOG_DIR = './logs'\n",
    "graph = tf.get_default_graph()\n",
    "with tf.summary.FileWriter(LOG_DIR) as writer:\n",
    "    writer.add_graph(graph)"
   ]
  },
  {
   "cell_type": "code",
   "execution_count": 11,
   "metadata": {},
   "outputs": [
    {
     "name": "stdout",
     "output_type": "stream",
     "text": [
      "a + b = 2\n"
     ]
    }
   ],
   "source": [
    "import tensorflow as tf\n",
    "\n",
    "\n",
    "a = tf.placeholder(dtype=tf.int32, name='a')\n",
    "b = tf.constant(1, name='b')\n",
    "c = a + b\n",
    "\n",
    "with tf.Session() as sess:\n",
    "    print('a + b =', sess.run(c, feed_dict={a: 1}))"
   ]
  },
  {
   "cell_type": "code",
   "execution_count": 12,
   "metadata": {},
   "outputs": [],
   "source": [
    "LOG_DIR = './logs'\n",
    "graph = tf.get_default_graph()\n",
    "with tf.summary.FileWriter(LOG_DIR) as writer:\n",
    "    writer.add_graph(graph)"
   ]
  },
  {
   "cell_type": "code",
   "execution_count": 13,
   "metadata": {},
   "outputs": [
    {
     "name": "stdout",
     "output_type": "stream",
     "text": [
      "a + b =  5\n",
      "a * b =  6\n"
     ]
    }
   ],
   "source": [
    "import tensorflow as tf\n",
    "\n",
    "\n",
    "a = tf.constant(2, name='a')\n",
    "b = tf.constant(3, name='b')\n",
    "c = tf.add(a, b)  # a + b と等価\n",
    "d = tf.multiply(a, b)  # a*b と等価\n",
    "\n",
    "with tf.Session() as sess:\n",
    "    print('a + b = ', sess.run(c))\n",
    "    print('a * b = ', sess.run(d))"
   ]
  },
  {
   "cell_type": "code",
   "execution_count": 14,
   "metadata": {},
   "outputs": [],
   "source": [
    "LOG_DIR = './logs'\n",
    "graph = tf.get_default_graph()\n",
    "with tf.summary.FileWriter(LOG_DIR) as writer:\n",
    "    writer.add_graph(graph)"
   ]
  },
  {
   "cell_type": "code",
   "execution_count": 15,
   "metadata": {},
   "outputs": [
    {
     "name": "stdout",
     "output_type": "stream",
     "text": [
      "a + b =  [5 7 9]\n"
     ]
    }
   ],
   "source": [
    "import tensorflow as tf\n",
    "\n",
    "\n",
    "a = tf.constant([1, 2, 3], name='a')\n",
    "b = tf.constant([4, 5, 6], name='b')\n",
    "c = a + b\n",
    "\n",
    "with tf.Session() as sess:\n",
    "    print('a + b = ', sess.run(c))"
   ]
  },
  {
   "cell_type": "code",
   "execution_count": 16,
   "metadata": {},
   "outputs": [],
   "source": [
    "LOG_DIR = './logs'\n",
    "graph = tf.get_default_graph()\n",
    "with tf.summary.FileWriter(LOG_DIR) as writer:\n",
    "    writer.add_graph(graph)"
   ]
  },
  {
   "cell_type": "code",
   "execution_count": 17,
   "metadata": {},
   "outputs": [
    {
     "name": "stdout",
     "output_type": "stream",
     "text": [
      "shape of a:  (2, 2)\n",
      "shape of b:  (2, 1)\n",
      "shape of c:  (2, 1)\n",
      "a = \n",
      " [[1 2]\n",
      " [3 4]]\n",
      "b = \n",
      " [[1]\n",
      " [2]]\n",
      "c = \n",
      " [[ 5]\n",
      " [11]]\n"
     ]
    }
   ],
   "source": [
    "import tensorflow as tf\n",
    "\n",
    "\n",
    "a = tf.constant([[1, 2], [3, 4]], name='a')\n",
    "b = tf.constant([[1], [2]], name='b')\n",
    "c = tf.matmul(a, b)\n",
    "\n",
    "print('shape of a: ', a.shape)\n",
    "print('shape of b: ', b.shape)\n",
    "print('shape of c: ', c.shape)\n",
    "\n",
    "with tf.Session() as sess:\n",
    "    print('a = \\n', sess.run(a))\n",
    "    print('b = \\n', sess.run(b))\n",
    "    print('c = \\n', sess.run(c))"
   ]
  },
  {
   "cell_type": "code",
   "execution_count": 18,
   "metadata": {},
   "outputs": [],
   "source": [
    "LOG_DIR = './logs'\n",
    "graph = tf.get_default_graph()\n",
    "with tf.summary.FileWriter(LOG_DIR) as writer:\n",
    "    writer.add_graph(graph)"
   ]
  },
  {
   "cell_type": "code",
   "execution_count": 19,
   "metadata": {},
   "outputs": [
    {
     "name": "stdout",
     "output_type": "stream",
     "text": [
      "-- [[1, 2]]を代入 --\n",
      "a =  [[1 2]]\n",
      "\n",
      "-- [[1, 2], [3, 4]]を代入 --\n",
      "a =  [[1 2]\n",
      " [3 4]]\n"
     ]
    }
   ],
   "source": [
    "import tensorflow as tf\n",
    "\n",
    "a = tf.placeholder(shape=(None, 2), dtype=tf.int32, name='a')\n",
    "\n",
    "with tf.Session() as sess:\n",
    "    print('-- [[1, 2]]を代入 --')\n",
    "    print('a = ', sess.run(a, feed_dict={a: [[1, 2]]}))\n",
    "    print('\\n-- [[1, 2], [3, 4]]を代入 --')\n",
    "    print('a = ', sess.run(a, feed_dict={a: [[1, 2], [3, 4]]}))"
   ]
  },
  {
   "cell_type": "code",
   "execution_count": 20,
   "metadata": {},
   "outputs": [],
   "source": [
    "LOG_DIR = './logs'\n",
    "graph = tf.get_default_graph()\n",
    "with tf.summary.FileWriter(LOG_DIR) as writer:\n",
    "    writer.add_graph(graph)"
   ]
  },
  {
   "cell_type": "code",
   "execution_count": 21,
   "metadata": {},
   "outputs": [
    {
     "name": "stdout",
     "output_type": "stream",
     "text": [
      "一回目 b =  2\n",
      "二回目 b =  3\n",
      "-- 新しいセッション --\n",
      "一回目 b =  2\n",
      "二回目 b =  3\n"
     ]
    }
   ],
   "source": [
    "import tensorflow as tf\n",
    "\n",
    "\n",
    "a = tf.Variable(1, name='a')\n",
    "b = tf.assign(a, a + 1)\n",
    "\n",
    "with tf.Session() as sess:\n",
    "    sess.run(tf.global_variables_initializer())\n",
    "    print('一回目 b = ', sess.run(b))\n",
    "    print('二回目 b = ', sess.run(b))\n",
    "\n",
    "# セッションが変わると元の値に戻ってしまう\n",
    "with tf.Session() as sess:\n",
    "    print('-- 新しいセッション --')\n",
    "    sess.run(tf.global_variables_initializer())\n",
    "    print('一回目 b = ', sess.run(b))\n",
    "    print('二回目 b = ', sess.run(b))"
   ]
  },
  {
   "cell_type": "code",
   "execution_count": 22,
   "metadata": {},
   "outputs": [],
   "source": [
    "LOG_DIR = './logs'\n",
    "graph = tf.get_default_graph()\n",
    "with tf.summary.FileWriter(LOG_DIR) as writer:\n",
    "    writer.add_graph(graph)"
   ]
  },
  {
   "cell_type": "code",
   "execution_count": 23,
   "metadata": {},
   "outputs": [
    {
     "name": "stdout",
     "output_type": "stream",
     "text": [
      "2\n",
      "3\n",
      "INFO:tensorflow:Restoring parameters from model/model.ckpt\n",
      "4\n",
      "5\n"
     ]
    }
   ],
   "source": [
    "import tensorflow as tf\n",
    "\n",
    "\n",
    "a = tf.Variable(1, name='a')\n",
    "b = tf.assign(a, a + 1)\n",
    "\n",
    "saver = tf.train.Saver()\n",
    "with tf.Session() as sess:\n",
    "    sess.run(tf.global_variables_initializer())\n",
    "    print(sess.run(b))\n",
    "    print(sess.run(b))\n",
    "    # 変数の値を model/model.ckpt に保存する\n",
    "    saver.save(sess, 'model/model.ckpt')\n",
    "\n",
    "# Saver を利用すると\n",
    "saver = tf.train.Saver()\n",
    "with tf.Session() as sess:\n",
    "    sess.run(tf.global_variables_initializer())\n",
    "    # model/model.ckpt から変数の値をリストアする\n",
    "    saver.restore(sess, save_path='model/model.ckpt')\n",
    "    print(sess.run(b))\n",
    "    print(sess.run(b))"
   ]
  },
  {
   "cell_type": "code",
   "execution_count": 24,
   "metadata": {},
   "outputs": [],
   "source": [
    "LOG_DIR = './logs'\n",
    "graph = tf.get_default_graph()\n",
    "with tf.summary.FileWriter(LOG_DIR) as writer:\n",
    "    writer.add_graph(graph)\n"
   ]
  },
  {
   "cell_type": "code",
   "execution_count": 25,
   "metadata": {},
   "outputs": [],
   "source": [
    "import tensorflow as tf\n",
    "\n",
    "\n",
    "LOG_DIR = './logs'\n",
    "\n",
    "a = tf.constant(1, name='a')\n",
    "b = tf.constant(1, name='b')\n",
    "c = a + b\n",
    "\n",
    "graph = tf.get_default_graph()\n",
    "with tf.summary.FileWriter(LOG_DIR) as writer:\n",
    "    writer.add_graph(graph)"
   ]
  },
  {
   "cell_type": "code",
   "execution_count": 26,
   "metadata": {},
   "outputs": [
    {
     "name": "stdout",
     "output_type": "stream",
     "text": [
      "events.out.tfevents.1545978436.40169d3b5d2c\r\n",
      "events.out.tfevents.1545978441.40169d3b5d2c\r\n",
      "events.out.tfevents.1545978446.40169d3b5d2c\r\n",
      "events.out.tfevents.1545978447.40169d3b5d2c\r\n",
      "events.out.tfevents.1545978451.40169d3b5d2c\r\n",
      "events.out.tfevents.1545978456.40169d3b5d2c\r\n",
      "events.out.tfevents.1545978460.40169d3b5d2c\r\n",
      "events.out.tfevents.1545978468.40169d3b5d2c\r\n",
      "events.out.tfevents.1545978477.40169d3b5d2c\r\n",
      "events.out.tfevents.1545978483.40169d3b5d2c\r\n",
      "events.out.tfevents.1545978495.40169d3b5d2c\r\n",
      "events.out.tfevents.1545978502.40169d3b5d2c\r\n",
      "events.out.tfevents.1545978744.40169d3b5d2c\r\n",
      "events.out.tfevents.1545978751.40169d3b5d2c\r\n",
      "events.out.tfevents.1545978752.40169d3b5d2c\r\n",
      "events.out.tfevents.1545978761.40169d3b5d2c\r\n",
      "events.out.tfevents.1545978762.40169d3b5d2c\r\n",
      "events.out.tfevents.1545978765.40169d3b5d2c\r\n",
      "events.out.tfevents.1545978766.40169d3b5d2c\r\n",
      "events.out.tfevents.1545978771.40169d3b5d2c\r\n",
      "events.out.tfevents.1545978792.40169d3b5d2c\r\n",
      "events.out.tfevents.1545978794.40169d3b5d2c\r\n",
      "events.out.tfevents.1545978798.40169d3b5d2c\r\n"
     ]
    }
   ],
   "source": [
    "# !ls ./logs\n",
    "!dir logs"
   ]
  },
  {
   "cell_type": "code",
   "execution_count": 27,
   "metadata": {},
   "outputs": [
    {
     "name": "stdout",
     "output_type": "stream",
     "text": [
      "num[i] =  0.0\n",
      "num[i] =  0.05\n",
      "num[i] =  0.1\n",
      "num[i] =  0.15\n",
      "num[i] =  0.2\n",
      "num[i] =  0.25\n",
      "num[i] =  0.3\n",
      "num[i] =  0.35\n",
      "num[i] =  0.4\n",
      "num[i] =  0.45\n",
      "num[i] =  0.5\n",
      "num[i] =  0.55\n",
      "num[i] =  0.6\n",
      "num[i] =  0.65\n",
      "num[i] =  0.7\n",
      "num[i] =  0.75\n",
      "num[i] =  0.8\n",
      "num[i] =  0.85\n",
      "num[i] =  0.9\n",
      "num[i] =  0.95\n"
     ]
    }
   ],
   "source": [
    "import numpy as np\n",
    "import math\n",
    "from scipy.interpolate import interp1d\n",
    "\n",
    "Min_data = np.zeros(20)\n",
    "num = np.zeros(20)\n",
    "\n",
    "for n in range(20):\n",
    "    num[n]=n/20\n",
    "    \n",
    "Houbutsu_data1 = np.zeros(100)\n",
    "num1 = np.zeros(100)\n",
    "for n in range(100):\n",
    "    num1[n]=n/50\n",
    "    #Houbutsu_data1[n] = 0.8*(num1[n]-1)**2\n",
    "    Houbutsu_data1[n] = 1 - 0.8*(num1[n]-1)**2\n",
    "    \n",
    "Houbutsu_data2 = np.zeros(100)\n",
    "num2 = np.zeros(100)\n",
    "for n in range(100):\n",
    "    num2[n]=n/50\n",
    "    # Houbutsu_data2[n] = 4-2*math.sqrt(4-(num2[n]-1)**2)\n",
    "    Houbutsu_data2[n] = 6-3*math.sqrt(4-(num2[n]-1)**2)\n",
    "\n",
    "Houbutsu_data3 = np.zeros(100)\n",
    "num3 = np.zeros(100)\n",
    "for n in range(100):\n",
    "    num3[n]=n/50\n",
    "\n",
    "for i in range(20):\n",
    "    print('num[i] = ', num[i])"
   ]
  },
  {
   "cell_type": "code",
   "execution_count": 28,
   "metadata": {},
   "outputs": [
    {
     "name": "stdout",
     "output_type": "stream",
     "text": [
      "x(i) =  0.2\n",
      "num(i) =  0.0\n",
      "x(i) =  0.36\n",
      "num(i) =  0.05\n",
      "x(i) =  0.48800004\n",
      "num(i) =  0.1\n",
      "x(i) =  0.59040004\n",
      "num(i) =  0.15000000000000002\n",
      "x(i) =  0.67232\n",
      "num(i) =  0.2\n",
      "x(i) =  0.73785603\n",
      "num(i) =  0.25\n",
      "x(i) =  0.7902848\n",
      "num(i) =  0.30000000000000004\n",
      "x(i) =  0.8322278\n",
      "num(i) =  0.35000000000000003\n",
      "x(i) =  0.86578226\n",
      "num(i) =  0.4\n",
      "x(i) =  0.8926258\n",
      "num(i) =  0.45\n",
      "x(i) =  0.91410065\n",
      "num(i) =  0.5\n",
      "x(i) =  0.9312805\n",
      "num(i) =  0.55\n",
      "x(i) =  0.9450244\n",
      "num(i) =  0.6000000000000001\n",
      "x(i) =  0.9560195\n",
      "num(i) =  0.65\n",
      "x(i) =  0.9648156\n",
      "num(i) =  0.7000000000000001\n",
      "x(i) =  0.9718525\n",
      "num(i) =  0.75\n",
      "x(i) =  0.97748196\n",
      "num(i) =  0.8\n",
      "x(i) =  0.98198557\n",
      "num(i) =  0.8500000000000001\n",
      "x(i) =  0.98558843\n",
      "num(i) =  0.9\n",
      "x(i) =  0.98847073\n",
      "num(i) =  0.9500000000000001\n",
      "x =  0.98847073\n"
     ]
    }
   ],
   "source": [
    "import tensorflow as tf\n",
    "\n",
    "\n",
    "# パラメータは変数として定義\n",
    "x = tf.Variable(0., name='x')\n",
    "# パラメータを使って最小化したい関数を定義\n",
    "func = (x - 1)**2\n",
    "\n",
    "# learning_rate は一度にずらす大きさを決める\n",
    "optimizer = tf.train.GradientDescentOptimizer(\n",
    "    learning_rate=0.1\n",
    ") \n",
    "# train_step が x を少しずらす操作を表す\n",
    "train_step = optimizer.minimize(func)\n",
    "\n",
    "# train_step を繰り返し実行する\n",
    "with tf.Session() as sess:\n",
    "    sess.run(tf.global_variables_initializer())\n",
    "    for i in range(20):\n",
    "        sess.run(train_step)\n",
    "        Min_data[i] = 1 - sess.run(x) # 経過LOG\n",
    "        num[i] = 0.05*i \n",
    "        print('x(i) = ', sess.run(x))\n",
    "        print('num(i) = ', num[i])\n",
    "    print('x = ', sess.run(x))\n",
    "    "
   ]
  },
  {
   "cell_type": "code",
   "execution_count": 29,
   "metadata": {},
   "outputs": [
    {
     "name": "stdout",
     "output_type": "stream",
     "text": [
      "xnew =  [0.   0.05 0.1  0.15 0.2  0.25 0.3  0.35 0.4  0.45 0.5  0.55 0.6  0.65\n",
      " 0.7  0.75 0.8  0.85 0.9  0.95]\n"
     ]
    }
   ],
   "source": [
    "Houbutsu_data3 = interp1d(num, Min_data, kind='cubic')  #3次スプライン補間実行！\n",
    "xnew =np.linspace(0,0.95,num=20)\n",
    "print('xnew = ', xnew)\n",
    "# print('Houbutsu_data3 = ', Houbutsu_data3)"
   ]
  },
  {
   "cell_type": "code",
   "execution_count": 30,
   "metadata": {},
   "outputs": [
    {
     "data": {
      "text/plain": [
       "(0, 2)"
      ]
     },
     "execution_count": 30,
     "metadata": {},
     "output_type": "execute_result"
    },
    {
     "name": "stderr",
     "output_type": "stream",
     "text": [
      "/usr/local/envs/py3env/lib/python3.5/site-packages/matplotlib/font_manager.py:1320: UserWarning: findfont: Font family ['sans-serif'] not found. Falling back to DejaVu Sans\n",
      "  (prop.get_family(), self.defaultFamily[fontext]))\n"
     ]
    },
    {
     "data": {
      "image/png": "[encoded data removed]",
      "text/plain": [
       "<matplotlib.figure.Figure at 0x7f801db34c18>"
      ]
     },
     "metadata": {},
     "output_type": "display_data"
    }
   ],
   "source": [
    "import matplotlib.pyplot as plt\n",
    "# 経過LOG\n",
    "\n",
    "plt.plot(num, Min_data, color='red',  linestyle='--', marker='.')\n",
    "plt.plot(num1, Houbutsu_data1, color='blue',  linestyle='--', marker='.')\n",
    "plt.plot(num2, Houbutsu_data2, color='green',  linestyle='--', marker='.')\n",
    "#plt.plot(num, Min_data, 'o',   xnew, Houbutsu_data3(xnew), '-')\n",
    "plt.grid(True)\n",
    "plt.ylim(0, 1.0)\n",
    "plt.xlim(0, 2)\n",
    "#plt.yticks([0,0.1,0.2,0.3,0.4,0.5,0.6,0.7,0.8,0.9,1.0])"
   ]
  },
  {
   "cell_type": "code",
   "execution_count": 31,
   "metadata": {},
   "outputs": [
    {
     "data": {
      "text/plain": [
       "(0, 2)"
      ]
     },
     "execution_count": 31,
     "metadata": {},
     "output_type": "execute_result"
    },
    {
     "name": "stderr",
     "output_type": "stream",
     "text": [
      "/usr/local/envs/py3env/lib/python3.5/site-packages/matplotlib/font_manager.py:1320: UserWarning: findfont: Font family ['sans-serif'] not found. Falling back to DejaVu Sans\n",
      "  (prop.get_family(), self.defaultFamily[fontext]))\n"
     ]
    },
    {
     "data": {
      "image/png": "[encoded data removed]",
      "text/plain": [
       "<matplotlib.figure.Figure at 0x7f7ff81c74a8>"
      ]
     },
     "metadata": {},
     "output_type": "display_data"
    }
   ],
   "source": [
    "plt.plot(num, Min_data, 'o',   xnew, Houbutsu_data3(xnew), '-')\n",
    "plt.grid(True)\n",
    "plt.ylim(0, 1.0)\n",
    "plt.xlim(0, 2)"
   ]
  },
  {
   "cell_type": "code",
   "execution_count": 32,
   "metadata": {},
   "outputs": [
    {
     "name": "stderr",
     "output_type": "stream",
     "text": [
      "/usr/local/envs/py3env/lib/python3.5/site-packages/matplotlib/font_manager.py:1320: UserWarning: findfont: Font family ['sans-serif'] not found. Falling back to DejaVu Sans\n",
      "  (prop.get_family(), self.defaultFamily[fontext]))\n"
     ]
    },
    {
     "data": {
      "image/png": "[encoded data removed]",
      "text/plain": [
       "<matplotlib.figure.Figure at 0x7f7ff80c7e48>"
      ]
     },
     "metadata": {},
     "output_type": "display_data"
    }
   ],
   "source": [
    "#近似式の係数\n",
    "res1=np.polyfit(num, Min_data, 1)\n",
    "res2=np.polyfit(num, Min_data, 2)\n",
    "res3=np.polyfit(num, Min_data, 3)\n",
    "res4=np.polyfit(num, Min_data, 4)\n",
    "res5=np.polyfit(num, Min_data, 5)\n",
    "\n",
    "#近似式の計算\n",
    "y1 = np.poly1d(res1)(num) #1次\n",
    "y2 = np.poly1d(res2)(num) #2次\n",
    "y3 = np.poly1d(res3)(num) #3次\n",
    "y4 = np.poly1d(res4)(num) #4次\n",
    "y5 = np.poly1d(res5)(num) #5次\n",
    "\n",
    "#グラフ表示\n",
    "plt.scatter(num, Min_data, label='元データ')\n",
    "plt.plot(num, y1, label='1次')\n",
    "plt.plot(num, y2, label='2次')\n",
    "plt.plot(num, y3, label='3次')\n",
    "plt.plot(num, y4, label='4次')\n",
    "plt.plot(num, y5, label='5次')\n",
    "plt.legend()\n",
    "plt.show()"
   ]
  },
  {
   "cell_type": "code",
   "execution_count": 33,
   "metadata": {},
   "outputs": [
    {
     "name": "stdout",
     "output_type": "stream",
     "text": [
      "係数１次 =  [-0.68176517  0.52153262]\n",
      "係数２次 =  [ 1.34233264 -1.95698117  0.71281502]\n",
      "係数３次 =  [-1.85510331  3.98585485 -2.93601194  0.78022484]\n",
      "係数４次 =  [ 1.97177088 -5.60146798  6.23719467 -3.38423772  0.7966018 ]\n",
      "係数５次 =  [-1.70039385  6.01020626 -8.97391577  7.39824484 -3.52726766  0.79954409]\n"
     ]
    }
   ],
   "source": [
    "print('係数１次 = ', res1)\n",
    "print('係数２次 = ', res2)\n",
    "print('係数３次 = ', res3)\n",
    "print('係数４次 = ', res4)\n",
    "print('係数５次 = ', res5)"
   ]
  },
  {
   "cell_type": "code",
   "execution_count": 34,
   "metadata": {},
   "outputs": [
    {
     "name": "stderr",
     "output_type": "stream",
     "text": [
      "/usr/local/envs/py3env/lib/python3.5/site-packages/matplotlib/font_manager.py:1320: UserWarning: findfont: Font family ['sans-serif'] not found. Falling back to DejaVu Sans\n",
      "  (prop.get_family(), self.defaultFamily[fontext]))\n"
     ]
    },
    {
     "data": {
      "image/png": "[encoded data removed]",
      "text/plain": [
       "<matplotlib.figure.Figure at 0x7f7ff80618d0>"
      ]
     },
     "metadata": {},
     "output_type": "display_data"
    }
   ],
   "source": [
    "plt.figure(figsize=(8,5))\n",
    "plt.plot(num,Min_data,'bo', label='Exp.')\n",
    "plt.plot(num,res5[0]*num**5+res5[1]*num**4+res5[2]*num**3+res5[3]*num**2+res5[4]*num+res5[5],'k-', label='fitted parabora', linewidth=10, alpha=0.3)\n",
    "plt.xlabel('X-axis')\n",
    "plt.ylabel('Y-axis')\n",
    "plt.legend(loc='best',fancybox=True, shadow=True)\n",
    "plt.grid(True)\n",
    "plt.show()"
   ]
  },
  {
   "cell_type": "code",
   "execution_count": 35,
   "metadata": {},
   "outputs": [],
   "source": [
    "y = Min_data\n",
    "x = num\n",
    "# print('Min_data = ', Min_data)\n",
    "# print('y = ', y)"
   ]
  },
  {
   "cell_type": "code",
   "execution_count": 36,
   "metadata": {},
   "outputs": [
    {
     "name": "stdout",
     "output_type": "stream",
     "text": [
      "-0.6817651672489452 0.5215326211021231\n",
      "1.3423326355091147 -1.9569811712557243 0.7128150218940751\n",
      "-1.8551033271550972 3.9858548761190424 -2.936011951615773 0.7802248389548224\n",
      "1.9717711462153815 -5.601468494003642 6.237194988326187 -3.384237780824525 0.7966018065313463\n",
      "-1.7003935851739225 6.010205625598366 -8.973915220993739 7.39824464553472 -3.527267633529383 0.7995440919917078\n"
     ]
    }
   ],
   "source": [
    "from scipy import optimize\n",
    "\n",
    "# 1次式の近似\n",
    "def func1(param,x,y):\n",
    "    residual = y - (param[0]*x + param[1])\n",
    "    return residual\n",
    "param1 = [0, 0]\n",
    "res_leas1 = optimize.leastsq(func1, param1, args=(x, y))#係数\n",
    "a_fit1=res_leas1[0][0]\n",
    "b_fit1=res_leas1[0][1]\n",
    "print(a_fit1,b_fit1)\n",
    "\n",
    "# 2次式の近似\n",
    "def func2(param,x,y):\n",
    "    residual = y - (param[0]*x**2 + param[1]*x + param[2])\n",
    "    return residual\n",
    "param2 = [0, 0, 0]\n",
    "res_leas2 = optimize.leastsq(func2, param2, args=(x, y))\n",
    "a_fit2=res_leas2[0][0]\n",
    "b_fit2=res_leas2[0][1]\n",
    "c_fit2=res_leas2[0][2]\n",
    "print(a_fit2,b_fit2,c_fit2)\n",
    "\n",
    "# 3次式の近似\n",
    "def func3(param,x,y):\n",
    "    residual = y - (param[0]*x**3 + param[1]*x**2 + param[2]*x + param[3])\n",
    "    return residual\n",
    "param3 = [0, 0, 0, 0]\n",
    "res_leas3 = optimize.leastsq(func3, param3, args=(x, y))\n",
    "a_fit3=res_leas3[0][0]\n",
    "b_fit3=res_leas3[0][1]\n",
    "c_fit3=res_leas3[0][2]\n",
    "d_fit3=res_leas3[0][3]\n",
    "print(a_fit3,b_fit3,c_fit3,d_fit3)\n",
    "\n",
    "# 4次式の近似\n",
    "def func4(param,x,y):\n",
    "    residual = y - (param[0]*x**4 + param[1]*x**3 + param[2]*x**2 + param[3]*x + param[4])\n",
    "    return residual\n",
    "param4 = [0, 0, 0, 0, 0]\n",
    "res_leas4 = optimize.leastsq(func4, param4, args=(x, y))\n",
    "a_fit4=res_leas4[0][0]\n",
    "b_fit4=res_leas4[0][1]\n",
    "c_fit4=res_leas4[0][2]\n",
    "d_fit4=res_leas4[0][3]\n",
    "e_fit4=res_leas4[0][4]\n",
    "print(a_fit4,b_fit4,c_fit4,d_fit4,e_fit4)\n",
    "\n",
    "# 5次式の近似\n",
    "def func5(param,x,y):\n",
    "    residual = y - (param[0]*x**5 + param[1]*x**4 + param[2]*x**3 + param[3]*x**2 + param[4]*x + param[5])\n",
    "    return residual\n",
    "param5 = [0, 0, 0, 0, 0, 0]\n",
    "res_leas5 = optimize.leastsq(func5, param5, args=(x, y))\n",
    "a_fit5=res_leas5[0][0]\n",
    "b_fit5=res_leas5[0][1]\n",
    "c_fit5=res_leas5[0][2]\n",
    "d_fit5=res_leas5[0][3]\n",
    "e_fit5=res_leas5[0][4]\n",
    "f_fit5=res_leas5[0][5]\n",
    "print(a_fit5,b_fit5,c_fit5,d_fit5,e_fit5,f_fit5)"
   ]
  },
  {
   "cell_type": "code",
   "execution_count": 37,
   "metadata": {},
   "outputs": [
    {
     "name": "stdout",
     "output_type": "stream",
     "text": [
      "係数１次 res_leas1 =  (array([-0.68176517,  0.52153262]), 3)\n",
      "係数２次 res_leas2 =  (array([ 1.34233264, -1.95698117,  0.71281502]), 2)\n",
      "係数３次 res_leas3 =  (array([-1.85510333,  3.98585488, -2.93601195,  0.78022484]), 3)\n",
      "係数４次 res_leas4 =  (array([ 1.97177115, -5.60146849,  6.23719499, -3.38423778,  0.79660181]), 1)\n",
      "係数５次 res_leas5 =  (array([-1.70039359,  6.01020563, -8.97391522,  7.39824465, -3.52726763,\n",
      "        0.79954409]), 1)\n"
     ]
    }
   ],
   "source": [
    "print('係数１次 res_leas1 = ', res_leas1)\n",
    "print('係数２次 res_leas2 = ', res_leas2)\n",
    "print('係数３次 res_leas3 = ', res_leas3)\n",
    "print('係数４次 res_leas4 = ', res_leas4)\n",
    "print('係数５次 res_leas5 = ', res_leas5)"
   ]
  },
  {
   "cell_type": "code",
   "execution_count": 38,
   "metadata": {},
   "outputs": [
    {
     "name": "stdout",
     "output_type": "stream",
     "text": [
      "-1.7003935851739225 6.010205625598366 -8.973915220993739 7.39824464553472 -3.527267633529383 0.7995440919917078\n"
     ]
    }
   ],
   "source": [
    "print(a_fit5,b_fit5,c_fit5,d_fit5,e_fit5,f_fit5)"
   ]
  },
  {
   "cell_type": "code",
   "execution_count": 39,
   "metadata": {},
   "outputs": [
    {
     "name": "stderr",
     "output_type": "stream",
     "text": [
      "/usr/local/envs/py3env/lib/python3.5/site-packages/matplotlib/font_manager.py:1320: UserWarning: findfont: Font family ['sans-serif'] not found. Falling back to DejaVu Sans\n",
      "  (prop.get_family(), self.defaultFamily[fontext]))\n"
     ]
    },
    {
     "data": {
      "image/png": "[encoded data removed]",
      "text/plain": [
       "<matplotlib.figure.Figure at 0x7f7ff805e2e8>"
      ]
     },
     "metadata": {},
     "output_type": "display_data"
    }
   ],
   "source": [
    "#PLot\n",
    "plt.figure(figsize=(8,5))\n",
    "plt.plot(x,y,'bo', label='Exp.')\n",
    "plt.plot(x,a_fit5*x**5+b_fit5*x**4+c_fit5*x**3+d_fit5*x**2+e_fit5*x+f_fit5,'k-', label='fitted parabora', linewidth=10, alpha=0.3)\n",
    "plt.xlabel('X-axis')\n",
    "plt.ylabel('Y-axis')\n",
    "plt.legend(loc='best',fancybox=True, shadow=True)\n",
    "plt.grid(True)\n",
    "plt.show()"
   ]
  },
  {
   "cell_type": "code",
   "execution_count": 40,
   "metadata": {},
   "outputs": [],
   "source": [
    "from scipy import optimize\n",
    "\n",
    "# 1次式の近似\n",
    "def func_c1(x, a1, b1):\n",
    "    return a1*x + b1\n",
    "res_c1 = optimize.curve_fit(func_c1, x, y)#係数\n",
    "\n",
    "# 2次式の近似\n",
    "def func_c2(x, a2, b2, c2):\n",
    "    return a2*x**2 + b2*x + c2\n",
    "res_c2 = optimize.curve_fit(func_c2, x, y)\n",
    "\n",
    "# 3次式の近似\n",
    "def func_c3(x, a3, b3, c3, d3):\n",
    "    return a3*x**3 + b3*x**2 + c3*x +d3\n",
    "res_c3 = optimize.curve_fit(func_c3, x, y)\n",
    "\n",
    "# 4次式の近似\n",
    "def func_c4(x, a4, b4, c4, d4, e4):\n",
    "    return a4*x**4 + b4*x**3 + c4*x**2 +d4*x +e4\n",
    "res_c4 = optimize.curve_fit(func_c4, x, y)\n",
    "\n",
    "# 5次式の近似\n",
    "def func_c5(x, a5, b5, c5, d5, e5 ,f5):\n",
    "    return a5*x**5 + b5*x**4 + c5*x**3 +d5*x**2 +e5*x +f5\n",
    "res_c5 = optimize.curve_fit(func_c5, x, y)"
   ]
  },
  {
   "cell_type": "code",
   "execution_count": 41,
   "metadata": {},
   "outputs": [
    {
     "name": "stdout",
     "output_type": "stream",
     "text": [
      "係数１次 res_c1 =  (array([-0.68176517,  0.52153262]), array([[ 0.00745682, -0.00354199],\n",
      "       [-0.00354199,  0.00230229]]))\n",
      "係数２次 res_c2 =  (array([ 1.34233263, -1.95698117,  0.71281502]), array([[ 0.01363662, -0.01295479,  0.00194322],\n",
      "       [-0.01295479,  0.01320707, -0.00227357],\n",
      "       [ 0.00194322, -0.00227357,  0.00055479]]))\n",
      "係数３次 res_c3 =  (array([-1.85510329,  3.98585482, -2.93601193,  0.78022484]), array([[ 1.54829278e-02, -2.20631719e-02,  8.17111504e-03,\n",
      "        -5.62610877e-04],\n",
      "       [-2.20631719e-02,  3.24129559e-02, -1.25681282e-02,\n",
      "         9.40363893e-04],\n",
      "       [ 8.17111504e-03, -1.25681282e-02,  5.25459457e-03,\n",
      "        -4.59130666e-04],\n",
      "       [-5.62610877e-04,  9.40363893e-04, -4.59130666e-04,\n",
      "         6.00265630e-05]]))\n",
      "係数４次 res_c4 =  (array([ 1.97177084, -5.6014679 ,  6.23719463, -3.38423771,  0.7966018 ]), array([[ 1.17592111e-02, -2.23425012e-02,  1.34264994e-02,\n",
      "        -2.67312071e-03,  9.76686432e-05],\n",
      "       [-2.23425012e-02,  4.31675046e-02, -2.65317206e-02,\n",
      "         5.45719525e-03, -2.11615400e-04],\n",
      "       [ 1.34264994e-02, -2.65317206e-02,  1.68306801e-02,\n",
      "        -3.63394812e-03,  1.55048981e-04],\n",
      "       [-2.67312071e-03,  5.45719525e-03, -3.63394812e-03,\n",
      "         8.50908866e-04, -4.34567374e-05],\n",
      "       [ 9.76686432e-05, -2.11615400e-04,  1.55048981e-04,\n",
      "        -4.34567374e-05,  3.59002081e-06]]))\n",
      "係数５次 res_c5 =  (array([-1.70039392,  6.01020645, -8.97391592,  7.39824489, -3.52726767,\n",
      "        0.79954409]), array([[ 6.35113071e-03, -1.50839313e-02,  1.25964030e-02,\n",
      "        -4.33662874e-03,  5.34229954e-04, -1.09897198e-05],\n",
      "       [-1.50839313e-02,  3.62002219e-02, -3.06306491e-02,\n",
      "         1.07286817e-02, -1.35424473e-03,  2.92226519e-05],\n",
      "       [ 1.25964030e-02, -3.06306491e-02,  2.63627454e-02,\n",
      "        -9.44908865e-03,  1.23400017e-03, -2.85607616e-05],\n",
      "       [-4.33662874e-03,  1.07286817e-02, -9.44908865e-03,\n",
      "         3.49911172e-03, -4.80941389e-04,  1.24602067e-05],\n",
      "       [ 5.34229954e-04, -1.35424473e-03,  1.23400017e-03,\n",
      "        -4.80941389e-04,  7.21372770e-05, -2.31354554e-06],\n",
      "       [-1.09897198e-05,  2.92226519e-05, -2.85607616e-05,\n",
      "         1.24602067e-05, -2.31354554e-06,  1.33774670e-07]]))\n"
     ]
    }
   ],
   "source": [
    "print('係数１次 res_c1 = ', res_c1)\n",
    "print('係数２次 res_c2 = ', res_c2)\n",
    "print('係数３次 res_c3 = ', res_c3)\n",
    "print('係数４次 res_c4 = ', res_c4)\n",
    "print('係数５次 res_c5 = ', res_c5)"
   ]
  },
  {
   "cell_type": "code",
   "execution_count": 42,
   "metadata": {},
   "outputs": [],
   "source": [
    "a5=res_c5[0][0]\n",
    "b5=res_c5[0][1]\n",
    "c5=res_c5[0][2]\n",
    "d5=res_c5[0][3]\n",
    "e5=res_c5[0][4]\n",
    "f5=res_c5[0][5]"
   ]
  },
  {
   "cell_type": "code",
   "execution_count": 43,
   "metadata": {},
   "outputs": [
    {
     "name": "stderr",
     "output_type": "stream",
     "text": [
      "/usr/local/envs/py3env/lib/python3.5/site-packages/matplotlib/font_manager.py:1320: UserWarning: findfont: Font family ['sans-serif'] not found. Falling back to DejaVu Sans\n",
      "  (prop.get_family(), self.defaultFamily[fontext]))\n"
     ]
    },
    {
     "data": {
      "image/png": "[encoded data removed]",
      "text/plain": [
       "<matplotlib.figure.Figure at 0x7f7ff80b6f98>"
      ]
     },
     "metadata": {},
     "output_type": "display_data"
    }
   ],
   "source": [
    "#PLot\n",
    "plt.figure(figsize=(8,5))\n",
    "plt.plot(x,y,'bo', label='Exp.')\n",
    "plt.plot(x,a5*x**5+b5*x**4+c5*x**3+d5*x**2+e5*x+f5,'k-', label='fitted parabora', linewidth=10, alpha=0.3)\n",
    "plt.xlabel('X-axis')\n",
    "plt.ylabel('Y-axis')\n",
    "plt.legend(loc='best',fancybox=True, shadow=True)\n",
    "plt.grid(True)\n",
    "plt.show()"
   ]
  },
  {
   "cell_type": "code",
   "execution_count": 44,
   "metadata": {},
   "outputs": [
    {
     "name": "stdout",
     "output_type": "stream",
     "text": [
      "(array([ 4.98684278, 10.18823929]), 2)\n",
      "4.986842777041219 10.188239294913\n"
     ]
    },
    {
     "name": "stderr",
     "output_type": "stream",
     "text": [
      "/usr/local/envs/py3env/lib/python3.5/site-packages/matplotlib/font_manager.py:1320: UserWarning: findfont: Font family ['sans-serif'] not found. Falling back to DejaVu Sans\n",
      "  (prop.get_family(), self.defaultFamily[fontext]))\n"
     ]
    },
    {
     "data": {
      "image/png": "[encoded data removed]",
      "text/plain": [
       "<matplotlib.figure.Figure at 0x7f7ff806a940>"
      ]
     },
     "metadata": {},
     "output_type": "display_data"
    }
   ],
   "source": [
    "import numpy as np\n",
    "import matplotlib.pyplot as plt\n",
    "from scipy import optimize\n",
    "\n",
    "def f(x):\n",
    "    return 5.*x + 10.\n",
    "\n",
    "#Pusedo measured data by random number\n",
    "xdata = np.linspace(-10, 10, num=101)\n",
    "np.random.seed(1234)\n",
    "ydata = f(xdata) + 5.*np.random.randn(xdata.size)\n",
    "\n",
    "#Least squares method with scipy.optimize\n",
    "def fit_func(parameter,x,y):\n",
    "    a = parameter[0]\n",
    "    b = parameter[1]\n",
    "    residual = y-(a*x+b)\n",
    "    return residual\n",
    "\n",
    "parameter0 = [0.,0.]\n",
    "result = optimize.leastsq(fit_func,parameter0,args=(xdata,ydata))\n",
    "print(result)\n",
    "a_fit=result[0][0]\n",
    "b_fit=result[0][1]\n",
    "\n",
    "print(a_fit,b_fit)\n",
    "\n",
    "#PLot\n",
    "plt.figure(figsize=(8,5))\n",
    "plt.plot(xdata,ydata,'bo', label='Exp.')\n",
    "plt.plot(xdata,a_fit*xdata+b_fit,'k-', label='fitted line', linewidth=10, alpha=0.3)\n",
    "plt.plot(xdata,f(xdata),'r-', label='mother line', linewidth=3)\n",
    "plt.xlabel('Time')\n",
    "plt.ylabel('Verocity')\n",
    "plt.legend(loc='best',fancybox=True, shadow=True)\n",
    "plt.grid(True)\n",
    "plt.show()"
   ]
  },
  {
   "cell_type": "code",
   "execution_count": 45,
   "metadata": {},
   "outputs": [],
   "source": [
    "import google.datalab.storage as storage\n",
    "import pandas as pd\n",
    "from io import BytesIO\n",
    "\n",
    "# Cloud Strage内のrsample_data.csvを変数dataに読み込む\n",
    "%gcs read --object gs://my-project-name-bucket/sample_data_K.csv --variable data\n",
    "\n",
    "# Cloud Storageから読み込んだデータをpandas dataframeに格納する。\n",
    "df = pd.read_csv(BytesIO(data))"
   ]
  },
  {
   "cell_type": "code",
   "execution_count": 46,
   "metadata": {},
   "outputs": [],
   "source": [
    "# 変数dfをCloud Storage内のtrain2.csvに書き出す\n",
    "%storage write --variable df --object gs://my-project-name-bucket/sample_data_K1.csv"
   ]
  },
  {
   "cell_type": "code",
   "execution_count": 47,
   "metadata": {},
   "outputs": [
    {
     "data": {
      "text/html": [
       "<div>\n",
       "<style scoped>\n",
       "    .dataframe tbody tr th:only-of-type {\n",
       "        vertical-align: middle;\n",
       "    }\n",
       "\n",
       "    .dataframe tbody tr th {\n",
       "        vertical-align: top;\n",
       "    }\n",
       "\n",
       "    .dataframe thead th {\n",
       "        text-align: right;\n",
       "    }\n",
       "</style>\n",
       "<table border=\"1\" class=\"dataframe\">\n",
       "  <thead>\n",
       "    <tr style=\"text-align: right;\">\n",
       "      <th></th>\n",
       "      <th>0</th>\n",
       "      <th>1</th>\n",
       "      <th>2</th>\n",
       "    </tr>\n",
       "  </thead>\n",
       "  <tbody>\n",
       "    <tr>\n",
       "      <th>0</th>\n",
       "      <td>-15</td>\n",
       "      <td>170</td>\n",
       "      <td>170</td>\n",
       "    </tr>\n",
       "    <tr>\n",
       "      <th>1</th>\n",
       "      <td>-13</td>\n",
       "      <td>172</td>\n",
       "      <td>172</td>\n",
       "    </tr>\n",
       "    <tr>\n",
       "      <th>2</th>\n",
       "      <td>-12</td>\n",
       "      <td>115</td>\n",
       "      <td>115</td>\n",
       "    </tr>\n",
       "    <tr>\n",
       "      <th>3</th>\n",
       "      <td>-10</td>\n",
       "      <td>120</td>\n",
       "      <td>120</td>\n",
       "    </tr>\n",
       "    <tr>\n",
       "      <th>4</th>\n",
       "      <td>-9</td>\n",
       "      <td>81</td>\n",
       "      <td>81</td>\n",
       "    </tr>\n",
       "    <tr>\n",
       "      <th>5</th>\n",
       "      <td>-7</td>\n",
       "      <td>52</td>\n",
       "      <td>52</td>\n",
       "    </tr>\n",
       "    <tr>\n",
       "      <th>6</th>\n",
       "      <td>-6</td>\n",
       "      <td>30</td>\n",
       "      <td>30</td>\n",
       "    </tr>\n",
       "    <tr>\n",
       "      <th>7</th>\n",
       "      <td>-4</td>\n",
       "      <td>18</td>\n",
       "      <td>18</td>\n",
       "    </tr>\n",
       "    <tr>\n",
       "      <th>8</th>\n",
       "      <td>-2</td>\n",
       "      <td>6</td>\n",
       "      <td>6</td>\n",
       "    </tr>\n",
       "    <tr>\n",
       "      <th>9</th>\n",
       "      <td>0</td>\n",
       "      <td>0</td>\n",
       "      <td>0</td>\n",
       "    </tr>\n",
       "    <tr>\n",
       "      <th>10</th>\n",
       "      <td>1</td>\n",
       "      <td>1</td>\n",
       "      <td>1</td>\n",
       "    </tr>\n",
       "    <tr>\n",
       "      <th>11</th>\n",
       "      <td>2</td>\n",
       "      <td>6</td>\n",
       "      <td>6</td>\n",
       "    </tr>\n",
       "    <tr>\n",
       "      <th>12</th>\n",
       "      <td>3</td>\n",
       "      <td>15</td>\n",
       "      <td>15</td>\n",
       "    </tr>\n",
       "    <tr>\n",
       "      <th>13</th>\n",
       "      <td>5</td>\n",
       "      <td>24</td>\n",
       "      <td>24</td>\n",
       "    </tr>\n",
       "    <tr>\n",
       "      <th>14</th>\n",
       "      <td>6</td>\n",
       "      <td>40</td>\n",
       "      <td>40</td>\n",
       "    </tr>\n",
       "    <tr>\n",
       "      <th>15</th>\n",
       "      <td>9</td>\n",
       "      <td>78</td>\n",
       "      <td>78</td>\n",
       "    </tr>\n",
       "    <tr>\n",
       "      <th>16</th>\n",
       "      <td>10</td>\n",
       "      <td>105</td>\n",
       "      <td>105</td>\n",
       "    </tr>\n",
       "    <tr>\n",
       "      <th>17</th>\n",
       "      <td>12</td>\n",
       "      <td>143</td>\n",
       "      <td>143</td>\n",
       "    </tr>\n",
       "    <tr>\n",
       "      <th>18</th>\n",
       "      <td>13</td>\n",
       "      <td>170</td>\n",
       "      <td>170</td>\n",
       "    </tr>\n",
       "    <tr>\n",
       "      <th>19</th>\n",
       "      <td>17</td>\n",
       "      <td>250</td>\n",
       "      <td>250</td>\n",
       "    </tr>\n",
       "    <tr>\n",
       "      <th>20</th>\n",
       "      <td>20</td>\n",
       "      <td>380</td>\n",
       "      <td>380</td>\n",
       "    </tr>\n",
       "  </tbody>\n",
       "</table>\n",
       "</div>"
      ],
      "text/plain": [
       "     0    1    2\n",
       "0  -15  170  170\n",
       "1  -13  172  172\n",
       "2  -12  115  115\n",
       "3  -10  120  120\n",
       "4   -9   81   81\n",
       "5   -7   52   52\n",
       "6   -6   30   30\n",
       "7   -4   18   18\n",
       "8   -2    6    6\n",
       "9    0    0    0\n",
       "10   1    1    1\n",
       "11   2    6    6\n",
       "12   3   15   15\n",
       "13   5   24   24\n",
       "14   6   40   40\n",
       "15   9   78   78\n",
       "16  10  105  105\n",
       "17  12  143  143\n",
       "18  13  170  170\n",
       "19  17  250  250\n",
       "20  20  380  380"
      ]
     },
     "execution_count": 47,
     "metadata": {},
     "output_type": "execute_result"
    }
   ],
   "source": [
    "df"
   ]
  },
  {
   "cell_type": "code",
   "execution_count": 48,
   "metadata": {},
   "outputs": [
    {
     "name": "stdout",
     "output_type": "stream",
     "text": [
      "     0    1    2\n",
      "0  -15  170  170\n",
      "1  -13  172  172\n",
      "2  -12  115  115\n",
      "3  -10  120  120\n",
      "4   -9   81   81\n",
      "5   -7   52   52\n",
      "6   -6   30   30\n",
      "7   -4   18   18\n",
      "8   -2    6    6\n",
      "9    0    0    0\n",
      "10   1    1    1\n",
      "11   2    6    6\n",
      "12   3   15   15\n",
      "13   5   24   24\n",
      "14   6   40   40\n",
      "15   9   78   78\n",
      "16  10  105  105\n",
      "17  12  143  143\n",
      "18  13  170  170\n",
      "19  17  250  250\n",
      "20  20  380  380\n"
     ]
    }
   ],
   "source": [
    "print( df[:] )"
   ]
  },
  {
   "cell_type": "code",
   "execution_count": 49,
   "metadata": {},
   "outputs": [
    {
     "data": {
      "text/html": [
       "<div>\n",
       "<style scoped>\n",
       "    .dataframe tbody tr th:only-of-type {\n",
       "        vertical-align: middle;\n",
       "    }\n",
       "\n",
       "    .dataframe tbody tr th {\n",
       "        vertical-align: top;\n",
       "    }\n",
       "\n",
       "    .dataframe thead th {\n",
       "        text-align: right;\n",
       "    }\n",
       "</style>\n",
       "<table border=\"1\" class=\"dataframe\">\n",
       "  <thead>\n",
       "    <tr style=\"text-align: right;\">\n",
       "      <th></th>\n",
       "      <th>0</th>\n",
       "      <th>1</th>\n",
       "      <th>2</th>\n",
       "    </tr>\n",
       "  </thead>\n",
       "  <tbody>\n",
       "    <tr>\n",
       "      <th>0</th>\n",
       "      <td>-15</td>\n",
       "      <td>170</td>\n",
       "      <td>170</td>\n",
       "    </tr>\n",
       "    <tr>\n",
       "      <th>1</th>\n",
       "      <td>-13</td>\n",
       "      <td>172</td>\n",
       "      <td>172</td>\n",
       "    </tr>\n",
       "    <tr>\n",
       "      <th>2</th>\n",
       "      <td>-12</td>\n",
       "      <td>115</td>\n",
       "      <td>115</td>\n",
       "    </tr>\n",
       "    <tr>\n",
       "      <th>3</th>\n",
       "      <td>-10</td>\n",
       "      <td>120</td>\n",
       "      <td>120</td>\n",
       "    </tr>\n",
       "    <tr>\n",
       "      <th>4</th>\n",
       "      <td>-9</td>\n",
       "      <td>81</td>\n",
       "      <td>81</td>\n",
       "    </tr>\n",
       "    <tr>\n",
       "      <th>5</th>\n",
       "      <td>-7</td>\n",
       "      <td>52</td>\n",
       "      <td>52</td>\n",
       "    </tr>\n",
       "    <tr>\n",
       "      <th>6</th>\n",
       "      <td>-6</td>\n",
       "      <td>30</td>\n",
       "      <td>30</td>\n",
       "    </tr>\n",
       "    <tr>\n",
       "      <th>7</th>\n",
       "      <td>-4</td>\n",
       "      <td>18</td>\n",
       "      <td>18</td>\n",
       "    </tr>\n",
       "    <tr>\n",
       "      <th>8</th>\n",
       "      <td>-2</td>\n",
       "      <td>6</td>\n",
       "      <td>6</td>\n",
       "    </tr>\n",
       "    <tr>\n",
       "      <th>9</th>\n",
       "      <td>0</td>\n",
       "      <td>0</td>\n",
       "      <td>0</td>\n",
       "    </tr>\n",
       "    <tr>\n",
       "      <th>10</th>\n",
       "      <td>1</td>\n",
       "      <td>1</td>\n",
       "      <td>1</td>\n",
       "    </tr>\n",
       "    <tr>\n",
       "      <th>11</th>\n",
       "      <td>2</td>\n",
       "      <td>6</td>\n",
       "      <td>6</td>\n",
       "    </tr>\n",
       "    <tr>\n",
       "      <th>12</th>\n",
       "      <td>3</td>\n",
       "      <td>15</td>\n",
       "      <td>15</td>\n",
       "    </tr>\n",
       "    <tr>\n",
       "      <th>13</th>\n",
       "      <td>5</td>\n",
       "      <td>24</td>\n",
       "      <td>24</td>\n",
       "    </tr>\n",
       "    <tr>\n",
       "      <th>14</th>\n",
       "      <td>6</td>\n",
       "      <td>40</td>\n",
       "      <td>40</td>\n",
       "    </tr>\n",
       "    <tr>\n",
       "      <th>15</th>\n",
       "      <td>9</td>\n",
       "      <td>78</td>\n",
       "      <td>78</td>\n",
       "    </tr>\n",
       "    <tr>\n",
       "      <th>16</th>\n",
       "      <td>10</td>\n",
       "      <td>105</td>\n",
       "      <td>105</td>\n",
       "    </tr>\n",
       "    <tr>\n",
       "      <th>17</th>\n",
       "      <td>12</td>\n",
       "      <td>143</td>\n",
       "      <td>143</td>\n",
       "    </tr>\n",
       "    <tr>\n",
       "      <th>18</th>\n",
       "      <td>13</td>\n",
       "      <td>170</td>\n",
       "      <td>170</td>\n",
       "    </tr>\n",
       "    <tr>\n",
       "      <th>19</th>\n",
       "      <td>17</td>\n",
       "      <td>250</td>\n",
       "      <td>250</td>\n",
       "    </tr>\n",
       "    <tr>\n",
       "      <th>20</th>\n",
       "      <td>20</td>\n",
       "      <td>380</td>\n",
       "      <td>380</td>\n",
       "    </tr>\n",
       "  </tbody>\n",
       "</table>\n",
       "</div>"
      ],
      "text/plain": [
       "     0    1    2\n",
       "0  -15  170  170\n",
       "1  -13  172  172\n",
       "2  -12  115  115\n",
       "3  -10  120  120\n",
       "4   -9   81   81\n",
       "5   -7   52   52\n",
       "6   -6   30   30\n",
       "7   -4   18   18\n",
       "8   -2    6    6\n",
       "9    0    0    0\n",
       "10   1    1    1\n",
       "11   2    6    6\n",
       "12   3   15   15\n",
       "13   5   24   24\n",
       "14   6   40   40\n",
       "15   9   78   78\n",
       "16  10  105  105\n",
       "17  12  143  143\n",
       "18  13  170  170\n",
       "19  17  250  250\n",
       "20  20  380  380"
      ]
     },
     "execution_count": 49,
     "metadata": {},
     "output_type": "execute_result"
    }
   ],
   "source": [
    "pd.DataFrame(df)"
   ]
  },
  {
   "cell_type": "code",
   "execution_count": 50,
   "metadata": {},
   "outputs": [
    {
     "data": {
      "text/plain": [
       "0    -15\n",
       "1    -13\n",
       "2    -12\n",
       "3    -10\n",
       "4     -9\n",
       "5     -7\n",
       "6     -6\n",
       "7     -4\n",
       "8     -2\n",
       "9      0\n",
       "10     1\n",
       "11     2\n",
       "12     3\n",
       "13     5\n",
       "14     6\n",
       "15     9\n",
       "16    10\n",
       "17    12\n",
       "18    13\n",
       "19    17\n",
       "20    20\n",
       "Name: 0, dtype: int64"
      ]
     },
     "execution_count": 50,
     "metadata": {},
     "output_type": "execute_result"
    }
   ],
   "source": [
    "df.iloc[:, 0]"
   ]
  },
  {
   "cell_type": "code",
   "execution_count": 72,
   "metadata": {},
   "outputs": [
    {
     "name": "stdout",
     "output_type": "stream",
     "text": [
      "0.8872050729458443 0.41856718927924796 5.73655692206277\n"
     ]
    },
    {
     "name": "stderr",
     "output_type": "stream",
     "text": [
      "/usr/local/envs/py3env/lib/python3.5/site-packages/matplotlib/font_manager.py:1320: UserWarning: findfont: Font family ['IPAexGothic'] not found. Falling back to DejaVu Sans\n",
      "  (prop.get_family(), self.defaultFamily[fontext]))\n"
     ]
    },
    {
     "data": {
      "image/png": "[encoded data removed]",
      "text/plain": [
       "<matplotlib.figure.Figure at 0x7f7ff0061eb8>"
      ]
     },
     "metadata": {},
     "output_type": "display_data"
    }
   ],
   "source": [
    "import numpy as np\n",
    "import matplotlib.pyplot as plt\n",
    "from scipy import optimize\n",
    "\n",
    "file_id = 'sample_data.csv'\n",
    "file_path = ''\n",
    "#file_path = './'\n",
    "\n",
    "rfile = file_path + file_id\n",
    "data = np.loadtxt(rfile, comments='#' ,delimiter=',')\n",
    "#data = df\n",
    "\n",
    "x_csv = data[:,0] #array読み込み\n",
    "y_csv = data[:,1] #array読み込み\n",
    "#x_csv = data.iloc[:,0] #pandas DataFrame読み込み\n",
    "#y_csv = data.iloc[:,1] #pandas DataFrame読み込み\n",
    "\n",
    "#Least squares method with scipy.optimize\n",
    "def fit_func(parameter,x,y):\n",
    "    a = parameter[0]\n",
    "    b = parameter[1]\n",
    "    c = parameter[2]\n",
    "    residual = y-(a*x**2+b*x+c)\n",
    "    return residual\n",
    "\n",
    "parameter0 = [0.,0.,0.]\n",
    "result = optimize.leastsq(fit_func,parameter0,args=(x_csv,y_csv))\n",
    "a_fit=result[0][0]\n",
    "b_fit=result[0][1]\n",
    "c_fit=result[0][2]\n",
    "print(a_fit,b_fit,c_fit)\n",
    "\n",
    "#PLot\n",
    "plt.figure(figsize=(8,5))\n",
    "plt.plot(x_csv,y_csv,'bo', label='Exp.')\n",
    "plt.plot(x_csv,a_fit*x_csv**2+b_fit*x_csv+c_fit,'k-', label='fitted parabora', linewidth=10, alpha=0.3)\n",
    "plt.xlabel('X-axis')\n",
    "plt.ylabel('Y-axis')\n",
    "plt.legend(loc='best',fancybox=True, shadow=True)\n",
    "plt.grid(True)\n",
    "plt.show()"
   ]
  },
  {
   "cell_type": "code",
   "execution_count": 52,
   "metadata": {},
   "outputs": [
    {
     "name": "stdout",
     "output_type": "stream",
     "text": [
      "Requirement already satisfied: keras in /usr/local/envs/py3env/lib/python3.5/site-packages (2.2.4)\n",
      "Requirement already satisfied: keras-preprocessing>=1.0.5 in /usr/local/envs/py3env/lib/python3.5/site-packages (from keras) (1.0.5)\n",
      "Requirement already satisfied: h5py in /usr/local/envs/py3env/lib/python3.5/site-packages (from keras) (2.7.1)\n",
      "Requirement already satisfied: scipy>=0.14 in /usr/local/envs/py3env/lib/python3.5/site-packages (from keras) (1.0.0)\n",
      "Requirement already satisfied: six>=1.9.0 in /usr/local/envs/py3env/lib/python3.5/site-packages (from keras) (1.10.0)\n",
      "Requirement already satisfied: keras-applications>=1.0.6 in /usr/local/envs/py3env/lib/python3.5/site-packages (from keras) (1.0.6)\n",
      "Requirement already satisfied: pyyaml in /usr/local/envs/py3env/lib/python3.5/site-packages (from keras) (3.13)\n",
      "Requirement already satisfied: numpy>=1.9.1 in /usr/local/envs/py3env/lib/python3.5/site-packages (from keras) (1.14.0)\n"
     ]
    }
   ],
   "source": [
    "!pip install keras"
   ]
  },
  {
   "cell_type": "code",
   "execution_count": 53,
   "metadata": {},
   "outputs": [
    {
     "name": "stderr",
     "output_type": "stream",
     "text": [
      "Using TensorFlow backend.\n"
     ]
    }
   ],
   "source": [
    "import keras\n",
    "\n",
    "(x_train, y_train), (x_test, y_test) = keras.datasets.boston_housing.load_data()"
   ]
  },
  {
   "cell_type": "code",
   "execution_count": 54,
   "metadata": {},
   "outputs": [
    {
     "name": "stderr",
     "output_type": "stream",
     "text": [
      "/usr/local/envs/py3env/lib/python3.5/site-packages/matplotlib/font_manager.py:1320: UserWarning: findfont: Font family ['IPAexGothic'] not found. Falling back to DejaVu Sans\n",
      "  (prop.get_family(), self.defaultFamily[fontext]))\n"
     ]
    },
    {
     "data": {
      "image/png": "[encoded data removed]",
      "text/plain": [
       "<matplotlib.figure.Figure at 0x7f7fe4424b00>"
      ]
     },
     "metadata": {},
     "output_type": "display_data"
    },
    {
     "data": {
      "text/plain": [
       "Text(0,0.5,'住宅価格($1,000単位)')"
      ]
     },
     "execution_count": 54,
     "metadata": {},
     "output_type": "execute_result"
    },
    {
     "data": {
      "image/png": "[encoded data removed]",
      "text/plain": [
       "<matplotlib.figure.Figure at 0x7f7fe43f1e80>"
      ]
     },
     "metadata": {},
     "output_type": "display_data"
    }
   ],
   "source": [
    "# matplotlibのグラフをインラインで表示する\n",
    "#%matplotlib inline\n",
    "\n",
    "import matplotlib.pyplot as plt\n",
    "\n",
    "\n",
    "plt.rcParams['font.family'] = ['IPAexGothic']\n",
    "plt.rcParams['font.size'] = 5*3           # 10*3\n",
    "plt.rcParams['figure.figsize'] = [9, 6]   # [18,12]\n",
    "\n",
    "plt.hist(y_train, bins=20)\n",
    "plt.xlabel('住宅価格($1,000単位)')\n",
    "plt.ylabel('データ数')\n",
    "plt.show()\n",
    "plt.plot(x_train[:, 5], y_train, 'o')\n",
    "plt.xlabel('部屋数')\n",
    "plt.ylabel('住宅価格($1,000単位)')"
   ]
  },
  {
   "cell_type": "code",
   "execution_count": 55,
   "metadata": {},
   "outputs": [
    {
     "data": {
      "text/plain": [
       "Text(0,0.5,'住宅価格(標準化後)')"
      ]
     },
     "execution_count": 55,
     "metadata": {},
     "output_type": "execute_result"
    },
    {
     "name": "stderr",
     "output_type": "stream",
     "text": [
      "/usr/local/envs/py3env/lib/python3.5/site-packages/matplotlib/font_manager.py:1320: UserWarning: findfont: Font family ['IPAexGothic'] not found. Falling back to DejaVu Sans\n",
      "  (prop.get_family(), self.defaultFamily[fontext]))\n"
     ]
    },
    {
     "data": {
      "image/png": "[encoded data removed]",
      "text/plain": [
       "<matplotlib.figure.Figure at 0x7f7fe43f5eb8>"
      ]
     },
     "metadata": {},
     "output_type": "display_data"
    }
   ],
   "source": [
    "x_train_mean = x_train.mean(axis=0)\n",
    "x_train_std = x_train.std(axis=0)\n",
    "y_train_mean = y_train.mean()\n",
    "y_train_std = y_train.std()\n",
    "\n",
    "x_train = (x_train - x_train_mean)/x_train_std\n",
    "y_train = (y_train - y_train_mean)/y_train_std\n",
    "# x_test に対しても x_train_mean と x_train_std を使う\n",
    "x_test = (x_test - x_train_mean)/x_train_std\n",
    "# y_test に対しても y_train_mean と y_train_std を使う\n",
    "y_test = (y_test - y_train_mean)/y_train_std\n",
    "\n",
    "\n",
    "plt.plot(x_train[:, 5], y_train, 'o')\n",
    "plt.xlabel('部屋数(標準化後)')\n",
    "plt.ylabel('住宅価格(標準化後)')"
   ]
  },
  {
   "cell_type": "code",
   "execution_count": 56,
   "metadata": {},
   "outputs": [],
   "source": [
    "# 説明変数用のプレースホルダー\n",
    "x = tf.placeholder(tf.float32, (None, 13), name='x')\n",
    "# 正解データ(住宅価格)用のプレースホルダー\n",
    "y = tf.placeholder(tf.float32, (None, 1), name='y')\n",
    "\n",
    "# 説明変数を重み w で足し合わせただけの簡単なモデル\n",
    "w = tf.Variable(tf.random_normal((13, 1)))\n",
    "pred = tf.matmul(x, w)"
   ]
  },
  {
   "cell_type": "code",
   "execution_count": 57,
   "metadata": {},
   "outputs": [],
   "source": [
    "# 実データと推定値の差の二乗の平均を誤差とする\n",
    "loss = tf.reduce_mean((y - pred)**2)\n",
    "optimizer = tf.train.GradientDescentOptimizer(\n",
    "    learning_rate=0.1\n",
    ")\n",
    "train_step = optimizer.minimize(loss)"
   ]
  },
  {
   "cell_type": "code",
   "execution_count": 58,
   "metadata": {},
   "outputs": [
    {
     "name": "stdout",
     "output_type": "stream",
     "text": [
      "step: 0, train_loss: 21.132474899291992\n",
      "step: 1, train_loss: 3.7415106296539307\n",
      "step: 2, train_loss: 2.077911138534546\n",
      "step: 3, train_loss: 1.5341225862503052\n",
      "step: 4, train_loss: 1.2049915790557861\n",
      "step: 5, train_loss: 0.9817855358123779\n",
      "step: 6, train_loss: 0.8243058323860168\n",
      "step: 7, train_loss: 0.7099213004112244\n",
      "step: 8, train_loss: 0.6247974634170532\n",
      "step: 9, train_loss: 0.5601449012756348\n",
      "step: 10, train_loss: 0.5101876854896545\n",
      "step: 11, train_loss: 0.4710114300251007\n",
      "step: 12, train_loss: 0.43988874554634094\n",
      "step: 13, train_loss: 0.4148750305175781\n",
      "step: 14, train_loss: 0.39455538988113403\n",
      "step: 15, train_loss: 0.3778839111328125\n",
      "step: 16, train_loss: 0.3640769422054291\n",
      "step: 17, train_loss: 0.35254010558128357\n",
      "step: 18, train_loss: 0.34281855821609497\n",
      "step: 19, train_loss: 0.33456099033355713\n",
      "step: 20, train_loss: 0.3274936079978943\n",
      "step: 21, train_loss: 0.3214016854763031\n",
      "step: 22, train_loss: 0.31611543893814087\n",
      "step: 23, train_loss: 0.31149956583976746\n",
      "step: 24, train_loss: 0.3074455261230469\n",
      "step: 25, train_loss: 0.3038657009601593\n",
      "step: 26, train_loss: 0.3006887137889862\n",
      "step: 27, train_loss: 0.2978561520576477\n",
      "step: 28, train_loss: 0.2953197956085205\n",
      "step: 29, train_loss: 0.2930395007133484\n",
      "step: 30, train_loss: 0.29098185896873474\n",
      "step: 31, train_loss: 0.2891186773777008\n",
      "step: 32, train_loss: 0.28742608428001404\n",
      "step: 33, train_loss: 0.2858838140964508\n",
      "step: 34, train_loss: 0.2844744622707367\n",
      "step: 35, train_loss: 0.2831830680370331\n",
      "step: 36, train_loss: 0.28199678659439087\n",
      "step: 37, train_loss: 0.2809043526649475\n",
      "step: 38, train_loss: 0.27989596128463745\n",
      "step: 39, train_loss: 0.2789631187915802\n",
      "step: 40, train_loss: 0.27809831500053406\n",
      "step: 41, train_loss: 0.2772948741912842\n",
      "step: 42, train_loss: 0.2765469551086426\n",
      "step: 43, train_loss: 0.27584943175315857\n",
      "step: 44, train_loss: 0.2751975953578949\n",
      "step: 45, train_loss: 0.2745875120162964\n",
      "step: 46, train_loss: 0.27401530742645264\n",
      "step: 47, train_loss: 0.2734779119491577\n",
      "step: 48, train_loss: 0.2729722559452057\n",
      "step: 49, train_loss: 0.27249574661254883\n",
      "step: 50, train_loss: 0.2720460295677185\n",
      "step: 51, train_loss: 0.2716209292411804\n",
      "step: 52, train_loss: 0.27121856808662415\n",
      "step: 53, train_loss: 0.27083712816238403\n",
      "step: 54, train_loss: 0.2704750895500183\n",
      "step: 55, train_loss: 0.27013105154037476\n",
      "step: 56, train_loss: 0.26980361342430115\n",
      "step: 57, train_loss: 0.26949167251586914\n",
      "step: 58, train_loss: 0.2691941261291504\n",
      "step: 59, train_loss: 0.2689100503921509\n",
      "step: 60, train_loss: 0.2686384916305542\n",
      "step: 61, train_loss: 0.2683786153793335\n",
      "step: 62, train_loss: 0.26812973618507385\n",
      "step: 63, train_loss: 0.2678910493850708\n",
      "step: 64, train_loss: 0.2676621377468109\n",
      "step: 65, train_loss: 0.2674421966075897\n",
      "step: 66, train_loss: 0.2672308087348938\n",
      "step: 67, train_loss: 0.26702749729156494\n",
      "step: 68, train_loss: 0.26683175563812256\n",
      "step: 69, train_loss: 0.2666431665420532\n",
      "step: 70, train_loss: 0.26646140217781067\n",
      "step: 71, train_loss: 0.26628604531288147\n",
      "step: 72, train_loss: 0.26611679792404175\n",
      "step: 73, train_loss: 0.26595333218574524\n",
      "step: 74, train_loss: 0.26579535007476807\n",
      "step: 75, train_loss: 0.26564261317253113\n",
      "step: 76, train_loss: 0.26549485325813293\n",
      "step: 77, train_loss: 0.26535192131996155\n",
      "step: 78, train_loss: 0.2652134597301483\n",
      "step: 79, train_loss: 0.2650793790817261\n",
      "step: 80, train_loss: 0.26494941115379333\n",
      "step: 81, train_loss: 0.26482343673706055\n",
      "step: 82, train_loss: 0.2647011876106262\n",
      "step: 83, train_loss: 0.26458269357681274\n",
      "step: 84, train_loss: 0.26446765661239624\n",
      "step: 85, train_loss: 0.26435595750808716\n",
      "step: 86, train_loss: 0.26424750685691833\n",
      "step: 87, train_loss: 0.2641421854496002\n",
      "step: 88, train_loss: 0.26403987407684326\n",
      "step: 89, train_loss: 0.26394036412239075\n",
      "step: 90, train_loss: 0.26384368538856506\n",
      "step: 91, train_loss: 0.2637496292591095\n",
      "step: 92, train_loss: 0.26365816593170166\n",
      "step: 93, train_loss: 0.26356926560401917\n",
      "step: 94, train_loss: 0.2634827196598053\n",
      "step: 95, train_loss: 0.2633984684944153\n",
      "step: 96, train_loss: 0.26331648230552673\n",
      "step: 97, train_loss: 0.2632367014884949\n",
      "step: 98, train_loss: 0.26315900683403015\n",
      "step: 99, train_loss: 0.2630833089351654\n"
     ]
    }
   ],
   "source": [
    "import numpy as np\n",
    "Train_loss_data = np.zeros(100)\n",
    "num = np.zeros(100)\n",
    "\n",
    "for n in range(100):\n",
    "    num[n]=n\n",
    "\n",
    "with tf.Session() as sess:\n",
    "    sess.run(tf.global_variables_initializer())\n",
    "    for step in range(100):\n",
    "        # train_step が None を返すので、 _ で受けておく\n",
    "        train_loss, _ = sess.run(\n",
    "            [loss, train_step],\n",
    "            feed_dict={\n",
    "                x: x_train,\n",
    "                # y_trainとyの次元を揃えるためにreshapeが必要\n",
    "                y: y_train.reshape((-1, 1))\n",
    "            }\n",
    "        )\n",
    "        print('step: {}, train_loss: {}'.format(\n",
    "            step, train_loss\n",
    "        ))\n",
    "        Train_loss_data[step] = train_loss\n",
    "\n",
    "    # 学習が終わったら、評価用データに対して予測してみる\n",
    "    pred_ = sess.run(\n",
    "        pred,\n",
    "        feed_dict={\n",
    "            x: x_test\n",
    "        }\n",
    "    )\n"
   ]
  },
  {
   "cell_type": "code",
   "execution_count": 59,
   "metadata": {},
   "outputs": [
    {
     "name": "stderr",
     "output_type": "stream",
     "text": [
      "/usr/local/envs/py3env/lib/python3.5/site-packages/matplotlib/font_manager.py:1320: UserWarning: findfont: Font family ['IPAexGothic'] not found. Falling back to DejaVu Sans\n",
      "  (prop.get_family(), self.defaultFamily[fontext]))\n"
     ]
    },
    {
     "data": {
      "image/png": "[encoded data removed]",
      "text/plain": [
       "<matplotlib.figure.Figure at 0x7f7fe42e1080>"
      ]
     },
     "metadata": {},
     "output_type": "display_data"
    }
   ],
   "source": [
    "plt.plot(num, Train_loss_data, color='red',  linestyle='--', marker='.')\n",
    "plt.grid(True)"
   ]
  },
  {
   "cell_type": "code",
   "execution_count": 60,
   "metadata": {},
   "outputs": [
    {
     "name": "stdout",
     "output_type": "stream",
     "text": [
      "train_loss = 0.2630833\n"
     ]
    }
   ],
   "source": [
    "print('train_loss = ' + str(train_loss) )"
   ]
  },
  {
   "cell_type": "code",
   "execution_count": 61,
   "metadata": {},
   "outputs": [
    {
     "data": {
      "text/plain": [
       "Text(0,0.5,'住宅価格(標準化後)')"
      ]
     },
     "execution_count": 61,
     "metadata": {},
     "output_type": "execute_result"
    },
    {
     "name": "stderr",
     "output_type": "stream",
     "text": [
      "/usr/local/envs/py3env/lib/python3.5/site-packages/matplotlib/font_manager.py:1320: UserWarning: findfont: Font family ['IPAexGothic'] not found. Falling back to DejaVu Sans\n",
      "  (prop.get_family(), self.defaultFamily[fontext]))\n"
     ]
    },
    {
     "data": {
      "image/png": "[encoded data removed]",
      "text/plain": [
       "<matplotlib.figure.Figure at 0x7f7fe42a76a0>"
      ]
     },
     "metadata": {},
     "output_type": "display_data"
    }
   ],
   "source": [
    "plt.plot(x_test[:, 5], pred_, 'o', label='予測値')\n",
    "plt.plot(x_test[:, 5], y_test, 'x', label='実データ')\n",
    "plt.legend(loc='upper left')\n",
    "plt.xlabel('部屋数(標準化後)')\n",
    "plt.ylabel('住宅価格(標準化後)')"
   ]
  },
  {
   "cell_type": "code",
   "execution_count": 62,
   "metadata": {},
   "outputs": [],
   "source": [
    "import numpy as np\n",
    "\n",
    "\n",
    "def get_batches(x, y, batch_size):\n",
    "    n_data = len(x)\n",
    "    indices = np.arange(n_data)\n",
    "    np.random.shuffle(indices)\n",
    "    x_shuffled = x[indices]\n",
    "    y_shuffled = y[indices]\n",
    "    \n",
    "    # 元データからランダムに batch_size 個ずつ抽出する\n",
    "    for i in range(0, n_data, batch_size):\n",
    "        x_batch = x_shuffled[i: i + batch_size]\n",
    "        y_batch = y_shuffled[i: i + batch_size]\n",
    "        yield x_batch, y_batch"
   ]
  },
  {
   "cell_type": "code",
   "execution_count": 63,
   "metadata": {},
   "outputs": [
    {
     "name": "stderr",
     "output_type": "stream",
     "text": [
      "/usr/local/envs/py3env/lib/python3.5/site-packages/matplotlib/font_manager.py:1320: UserWarning: findfont: Font family ['IPAexGothic'] not found. Falling back to DejaVu Sans\n",
      "  (prop.get_family(), self.defaultFamily[fontext]))\n"
     ]
    },
    {
     "data": {
      "image/png": "[encoded data removed]",
      "text/plain": [
       "<matplotlib.figure.Figure at 0x7f7fe428deb8>"
      ]
     },
     "metadata": {},
     "output_type": "display_data"
    }
   ],
   "source": [
    "# ミニバッチのサイズ\n",
    "BATCH_SIZE = 32\n",
    "Train_loss_data_E = np.zeros(100)\n",
    "num_E = np.zeros(100)\n",
    "\n",
    "for n in range(100):\n",
    "    num_E[n]=n\n",
    "\n",
    "Train_loss_data = np.zeros(100*13)\n",
    "num = np.zeros(100*13)\n",
    "\n",
    "for n in range(100*13):\n",
    "    num[n]=n\n",
    "    \n",
    "step = 0\n",
    "with tf.Session() as sess:\n",
    "    sess.run(tf.global_variables_initializer())\n",
    "    # 100エポック回す\n",
    "    for epoch in range(100):\n",
    "        train_loss_s = 0\n",
    "        for x_batch, y_batch in get_batches(x_train, y_train, 32):\n",
    "            train_loss, _ = sess.run(\n",
    "                [loss, train_step],\n",
    "                feed_dict={\n",
    "                    x: x_batch,\n",
    "                    y: y_batch.reshape((-1, 1))\n",
    "                }\n",
    "            )\n",
    "            # print('step: {}, train_loss: {}'.format(step, train_loss)) # 数列ではなくて、下記グラフの表示に変更\n",
    "            step += 1\n",
    "            Train_loss_data[step-1] = train_loss\n",
    "            train_loss_s = train_loss_s + train_loss\n",
    "            #print('train_loss_s = ',train_loss_s)\n",
    "        #Train_loss_data_E[epoch-1] = train_loss_s/13 #　1個ズレる\n",
    "        Train_loss_data_E[epoch] = train_loss_s/13 #　ズレ無い\n",
    "        #print('Train_loss_data_E[',epoch,'] = ',Train_loss_data_E[epoch])\n",
    "    pred_ = sess.run(\n",
    "        pred,\n",
    "        feed_dict={\n",
    "            x: x_test\n",
    "        }\n",
    "    )\n",
    "\n",
    "plt.figure(figsize=(18, 6)) # figureの縦横の大きさ\n",
    "plt.subplot(1, 2, 1)\n",
    "plt.plot(num, Train_loss_data, color='blue',  linestyle='none', marker='.')\n",
    "plt.grid(True)\n",
    "plt.subplot(1, 2, 2)\n",
    "plt.plot(num, Train_loss_data, color='red',  linestyle='-')\n",
    "plt.grid(True)"
   ]
  },
  {
   "cell_type": "code",
   "execution_count": 64,
   "metadata": {},
   "outputs": [
    {
     "name": "stderr",
     "output_type": "stream",
     "text": [
      "/usr/local/envs/py3env/lib/python3.5/site-packages/matplotlib/font_manager.py:1320: UserWarning: findfont: Font family ['IPAexGothic'] not found. Falling back to DejaVu Sans\n",
      "  (prop.get_family(), self.defaultFamily[fontext]))\n"
     ]
    },
    {
     "data": {
      "image/png": "[encoded data removed]",
      "text/plain": [
       "<matplotlib.figure.Figure at 0x7f7fe422d2e8>"
      ]
     },
     "metadata": {},
     "output_type": "display_data"
    }
   ],
   "source": [
    "fig, ax = plt.subplots(2, 2, figsize=(12, 8))\n",
    "\n",
    "# 左上\n",
    "ax[0, 0].plot(num, Train_loss_data, color='blue',  linestyle='none', marker='.')\n",
    "ax[0, 0].grid(True)\n",
    "# 右上\n",
    "ax[0, 1].plot(num, Train_loss_data, color='red',  linestyle='-')\n",
    "ax[0, 1].grid(True)\n",
    "# 左下\n",
    "ax[1, 0].plot(num, Train_loss_data, color='green',  linestyle='-', marker='.')\n",
    "ax[1, 0].grid(True)\n",
    "# 右下\n",
    "ax[1, 1].plot(num, Train_loss_data, color='pink',  linestyle='-', marker='o')\n",
    "ax[1, 1].grid(True)\n"
   ]
  },
  {
   "cell_type": "code",
   "execution_count": 65,
   "metadata": {},
   "outputs": [
    {
     "name": "stderr",
     "output_type": "stream",
     "text": [
      "/usr/local/envs/py3env/lib/python3.5/site-packages/matplotlib/font_manager.py:1320: UserWarning: findfont: Font family ['IPAexGothic'] not found. Falling back to DejaVu Sans\n",
      "  (prop.get_family(), self.defaultFamily[fontext]))\n"
     ]
    },
    {
     "data": {
      "image/png": "[encoded data removed]",
      "text/plain": [
       "<matplotlib.figure.Figure at 0x7f7fe42f4a58>"
      ]
     },
     "metadata": {},
     "output_type": "display_data"
    }
   ],
   "source": [
    "plt.plot(num_E, Train_loss_data_E, color='gray',  linestyle='-', marker='.')\n",
    "plt.grid(True)"
   ]
  },
  {
   "cell_type": "code",
   "execution_count": 66,
   "metadata": {},
   "outputs": [
    {
     "data": {
      "text/html": [
       "\n",
       "<button id=\"code-show-switch-btn\">スクリプトを非表示にする</button>\n",
       "\n",
       "<script>\n",
       "var code_show = true;\n",
       "\n",
       "function switch_display_setting() {\n",
       "    var switch_btn = $(\"#code-show-switch-btn\");\n",
       "    if (code_show) {\n",
       "        $(\"div.input\").hide();\n",
       "        code_show = false;\n",
       "        switch_btn.text(\"スクリプトを表示する\");\n",
       "    }else {\n",
       "        $(\"div.input\").show();\n",
       "        code_show = true;\n",
       "        switch_btn.text(\"スクリプトを非表示にする\");\n",
       "    }\n",
       "}\n",
       "\n",
       "$(\"#code-show-switch-btn\").click(switch_display_setting);\n",
       "</script>\n"
      ],
      "text/plain": [
       "<IPython.core.display.HTML object>"
      ]
     },
     "execution_count": 66,
     "metadata": {},
     "output_type": "execute_result"
    }
   ],
   "source": [
    "from IPython.display import HTML\n",
    "\n",
    "HTML(\"\"\"\n",
    "<button id=\"code-show-switch-btn\">スクリプトを非表示にする</button>\n",
    "\n",
    "<script>\n",
    "var code_show = true;\n",
    "\n",
    "function switch_display_setting() {\n",
    "    var switch_btn = $(\"#code-show-switch-btn\");\n",
    "    if (code_show) {\n",
    "        $(\"div.input\").hide();\n",
    "        code_show = false;\n",
    "        switch_btn.text(\"スクリプトを表示する\");\n",
    "    }else {\n",
    "        $(\"div.input\").show();\n",
    "        code_show = true;\n",
    "        switch_btn.text(\"スクリプトを非表示にする\");\n",
    "    }\n",
    "}\n",
    "\n",
    "$(\"#code-show-switch-btn\").click(switch_display_setting);\n",
    "</script>\n",
    "\"\"\")"
   ]
  },
  {
   "cell_type": "code",
   "execution_count": null,
   "metadata": {},
   "outputs": [],
   "source": []
  }
 ],
 "metadata": {
  "kernelspec": {
   "display_name": "Python 3",
   "language": "python",
   "name": "python3"
  },
  "language_info": {
   "codemirror_mode": {
    "name": "ipython",
    "version": 3
   },
   "file_extension": ".py",
   "mimetype": "text/x-python",
   "name": "python",
   "nbconvert_exporter": "python",
   "pygments_lexer": "ipython3",
   "version": "3.5.6"
  }
 },
 "nbformat": 4,
 "nbformat_minor": 2
}
