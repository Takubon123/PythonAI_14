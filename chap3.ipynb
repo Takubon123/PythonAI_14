{
 "cells": [
  {
   "cell_type": "markdown",
   "metadata": {
    "toc": true
   },
   "source": [
    "<h1>Table of Contents<span class=\"tocSkip\"></span></h1>\n",
    "<div class=\"toc\"><ul class=\"toc-item\"><li><span><a href=\"#第3章　簡単なサンプルで学ぶTensorFlowの基本\" data-toc-modified-id=\"第3章　簡単なサンプルで学ぶTensorFlowの基本-1\"><span class=\"toc-item-num\">1&nbsp;&nbsp;</span>第3章　簡単なサンプルで学ぶTensorFlowの基本</a></span></li></ul></div>"
   ]
  },
  {
   "cell_type": "markdown",
   "metadata": {},
   "source": [
    "# 第3章　簡単なサンプルで学ぶTensorFlowの基本"
   ]
  },
  {
   "cell_type": "code",
   "execution_count": 628,
   "metadata": {},
   "outputs": [],
   "source": [
    "# Ubuntu環境の場合は以下のコマンドで IPAexGothicを入れることができる\n",
    "# !apt-get install  -y fonts-ipaexfont\n",
    "# フォントのキャッシュを削除\n",
    "# !rm ~/.cache/matplotlib/fontList.json"
   ]
  },
  {
   "cell_type": "markdown",
   "metadata": {},
   "source": [
    "**フォントを使うには、IPAexGothicを入れた後で、一度 Kernel > Restart を実行する必要があります。なおWindows環境の場合はP.076の方法でIPAexGothicをインストールしてください。**"
   ]
  },
  {
   "cell_type": "code",
   "execution_count": 1,
   "metadata": {},
   "outputs": [],
   "source": [
    "%matplotlib inline\n",
    "\n",
    "import matplotlib.pyplot as plt"
   ]
  },
  {
   "cell_type": "markdown",
   "metadata": {},
   "source": [
    "**リスト3.1:TensorFlow による1+1**"
   ]
  },
  {
   "cell_type": "code",
   "execution_count": 2,
   "metadata": {
    "scrolled": false
   },
   "outputs": [
    {
     "name": "stdout",
     "output_type": "stream",
     "text": [
      "2\n"
     ]
    }
   ],
   "source": [
    "import tensorflow as tf\n",
    "\n",
    "\n",
    "a = tf.constant(1, name='a')\n",
    "b = tf.constant(1, name='b')\n",
    "c = a + b\n",
    "\n",
    "with tf.Session() as sess:\n",
    "    print(sess.run(c))"
   ]
  },
  {
   "cell_type": "markdown",
   "metadata": {},
   "source": [
    "**リスト3.2:演算結果の型を調べる**"
   ]
  },
  {
   "cell_type": "code",
   "execution_count": 3,
   "metadata": {
    "scrolled": false
   },
   "outputs": [
    {
     "name": "stdout",
     "output_type": "stream",
     "text": [
      "Tensor(\"add_1:0\", shape=(), dtype=int32)\n"
     ]
    }
   ],
   "source": [
    "import tensorflow as tf\n",
    "\n",
    "\n",
    "a = tf.constant(1, name='a')\n",
    "b = tf.constant(1, name='b')\n",
    "c = a + b\n",
    "\n",
    "print(c)"
   ]
  },
  {
   "cell_type": "markdown",
   "metadata": {},
   "source": [
    "**Tensorboard起動**\n",
    "\n",
    "Anaconda Prompt- Jupyter起動させる\n",
    "\n",
    "(base) C:\\Users\\a4070>cd C:\\Users\\a4070\\Python\\Jupyter\\PythonAI_14\n",
    "\n",
    "(base) C:\\Users\\a4070\\Python\\Jupyter\\PythonAI_14>tensorboard --logdir=logs"
   ]
  },
  {
   "cell_type": "code",
   "execution_count": 5,
   "metadata": {},
   "outputs": [],
   "source": [
    "LOG_DIR = './logs'\n",
    "graph = tf.get_default_graph()\n",
    "with tf.summary.FileWriter(LOG_DIR) as writer:\n",
    "    writer.add_graph(graph)"
   ]
  },
  {
   "cell_type": "markdown",
   "metadata": {},
   "source": [
    "http://localhost:6006/\n",
    "\n",
    "W1204 11:00:23.120339 Reloader tf_logging.py:120] Found more than one graph event per run, or there was a metagraph containing a graph_def, as well as one or more graph events.  Overwriting the graph with the newest event.\n",
    "\n",
    "W1204 11:00:23.120339 19020 tf_logging.py:120] Found more than one graph event per run, or there was a metagraph containing a graph_def, as well as one or more graph events.  Overwriting the graph with the newest event.\n",
    "\n",
    "events.out.tfevents.1543888820.PC-A4070-1807-1\n",
    "\n",
    "![CNT](TensorBoard_0.png \"CNT\")"
   ]
  },
  {
   "cell_type": "code",
   "execution_count": 6,
   "metadata": {},
   "outputs": [],
   "source": [
    "# リスト3.3の結果がわかりづらくならいよう、グラフをリセットする\n",
    "tf.reset_default_graph()"
   ]
  },
  {
   "cell_type": "code",
   "execution_count": 7,
   "metadata": {},
   "outputs": [],
   "source": [
    "LOG_DIR = './logs'\n",
    "graph = tf.get_default_graph()\n",
    "with tf.summary.FileWriter(LOG_DIR) as writer:\n",
    "    writer.add_graph(graph)"
   ]
  },
  {
   "cell_type": "markdown",
   "metadata": {},
   "source": [
    "http://localhost:6006/\n",
    "\n",
    "events.out.tfevents.1543889519.PC-A4070-1807-1\n",
    "\n",
    "![CNT](TensorBoard_1.png \"CNT\")"
   ]
  },
  {
   "cell_type": "markdown",
   "metadata": {},
   "source": [
    "**リスト3.3:データフロ ーグラフの 定義の表示。出力を見ると、aやaddがノードとな っていることがわかる**"
   ]
  },
  {
   "cell_type": "code",
   "execution_count": 10,
   "metadata": {},
   "outputs": [
    {
     "name": "stdout",
     "output_type": "stream",
     "text": [
      "node {\n",
      "  name: \"a\"\n",
      "  op: \"Const\"\n",
      "  attr {\n",
      "    key: \"dtype\"\n",
      "    value {\n",
      "      type: DT_INT32\n",
      "    }\n",
      "  }\n",
      "  attr {\n",
      "    key: \"value\"\n",
      "    value {\n",
      "      tensor {\n",
      "        dtype: DT_INT32\n",
      "        tensor_shape {\n",
      "        }\n",
      "        int_val: 1\n",
      "      }\n",
      "    }\n",
      "  }\n",
      "}\n",
      "node {\n",
      "  name: \"b\"\n",
      "  op: \"Const\"\n",
      "  attr {\n",
      "    key: \"dtype\"\n",
      "    value {\n",
      "      type: DT_INT32\n",
      "    }\n",
      "  }\n",
      "  attr {\n",
      "    key: \"value\"\n",
      "    value {\n",
      "      tensor {\n",
      "        dtype: DT_INT32\n",
      "        tensor_shape {\n",
      "        }\n",
      "        int_val: 1\n",
      "      }\n",
      "    }\n",
      "  }\n",
      "}\n",
      "node {\n",
      "  name: \"add\"\n",
      "  op: \"Add\"\n",
      "  input: \"a\"\n",
      "  input: \"b\"\n",
      "  attr {\n",
      "    key: \"T\"\n",
      "    value {\n",
      "      type: DT_INT32\n",
      "    }\n",
      "  }\n",
      "}\n",
      "node {\n",
      "  name: \"a_1\"\n",
      "  op: \"Const\"\n",
      "  attr {\n",
      "    key: \"dtype\"\n",
      "    value {\n",
      "      type: DT_INT32\n",
      "    }\n",
      "  }\n",
      "  attr {\n",
      "    key: \"value\"\n",
      "    value {\n",
      "      tensor {\n",
      "        dtype: DT_INT32\n",
      "        tensor_shape {\n",
      "        }\n",
      "        int_val: 1\n",
      "      }\n",
      "    }\n",
      "  }\n",
      "}\n",
      "node {\n",
      "  name: \"b_1\"\n",
      "  op: \"Const\"\n",
      "  attr {\n",
      "    key: \"dtype\"\n",
      "    value {\n",
      "      type: DT_INT32\n",
      "    }\n",
      "  }\n",
      "  attr {\n",
      "    key: \"value\"\n",
      "    value {\n",
      "      tensor {\n",
      "        dtype: DT_INT32\n",
      "        tensor_shape {\n",
      "        }\n",
      "        int_val: 1\n",
      "      }\n",
      "    }\n",
      "  }\n",
      "}\n",
      "node {\n",
      "  name: \"add_1\"\n",
      "  op: \"Add\"\n",
      "  input: \"a_1\"\n",
      "  input: \"b_1\"\n",
      "  attr {\n",
      "    key: \"T\"\n",
      "    value {\n",
      "      type: DT_INT32\n",
      "    }\n",
      "  }\n",
      "}\n",
      "versions {\n",
      "  producer: 27\n",
      "}\n",
      "\n"
     ]
    }
   ],
   "source": [
    "import tensorflow as tf\n",
    "\n",
    "\n",
    "a = tf.constant(1, name='a')\n",
    "b = tf.constant(1, name='b')\n",
    "c = a + b\n",
    "\n",
    "graph = tf.get_default_graph()\n",
    "print(graph.as_graph_def())"
   ]
  },
  {
   "cell_type": "code",
   "execution_count": 12,
   "metadata": {},
   "outputs": [],
   "source": [
    "LOG_DIR = './logs'\n",
    "graph = tf.get_default_graph()\n",
    "with tf.summary.FileWriter(LOG_DIR) as writer:\n",
    "    writer.add_graph(graph)"
   ]
  },
  {
   "cell_type": "markdown",
   "metadata": {},
   "source": [
    "http://localhost:6006/\n",
    "\n",
    "events.out.tfevents.1543889806.PC-A4070-1807-1\n",
    "\n",
    "![CNT](TensorBoard_2.png \"CNT\")"
   ]
  },
  {
   "cell_type": "markdown",
   "metadata": {},
   "source": [
    "**リスト3.4:変数の例**"
   ]
  },
  {
   "cell_type": "code",
   "execution_count": 13,
   "metadata": {},
   "outputs": [
    {
     "name": "stdout",
     "output_type": "stream",
     "text": [
      "一回目: [c, a] = [2, 2]\n",
      "二回目: [c, a] = [3, 3]\n"
     ]
    }
   ],
   "source": [
    "import tensorflow as tf\n",
    "\n",
    "\n",
    "a = tf.Variable(1, name='a')\n",
    "b = tf.constant(1, name='b')\n",
    "c = tf.assign(a, a + b)\n",
    "\n",
    "with tf.Session() as sess:\n",
    "    sess.run(tf.global_variables_initializer())\n",
    "    print('一回目: [c, a] =', sess.run([c, a]))\n",
    "    # 変数 c が更新されている\n",
    "    print('二回目: [c, a] =', sess.run([c, a])) "
   ]
  },
  {
   "cell_type": "code",
   "execution_count": 14,
   "metadata": {},
   "outputs": [],
   "source": [
    "LOG_DIR = './logs'\n",
    "graph = tf.get_default_graph()\n",
    "with tf.summary.FileWriter(LOG_DIR) as writer:\n",
    "    writer.add_graph(graph)"
   ]
  },
  {
   "cell_type": "markdown",
   "metadata": {},
   "source": [
    "http://localhost:6006/\n",
    "\n",
    "events.out.tfevents.1543890298.PC-A4070-1807-1\n",
    "\n",
    "![CNT](TensorBoard_3.png \"CNT\")"
   ]
  },
  {
   "cell_type": "markdown",
   "metadata": {},
   "source": [
    "**リスト3.5:プレースホルダーの例**"
   ]
  },
  {
   "cell_type": "code",
   "execution_count": 15,
   "metadata": {},
   "outputs": [
    {
     "name": "stdout",
     "output_type": "stream",
     "text": [
      "a + b = 2\n"
     ]
    }
   ],
   "source": [
    "import tensorflow as tf\n",
    "\n",
    "\n",
    "a = tf.placeholder(dtype=tf.int32, name='a')\n",
    "b = tf.constant(1, name='b')\n",
    "c = a + b\n",
    "\n",
    "with tf.Session() as sess:\n",
    "    print('a + b =', sess.run(c, feed_dict={a: 1}))"
   ]
  },
  {
   "cell_type": "code",
   "execution_count": 16,
   "metadata": {},
   "outputs": [],
   "source": [
    "LOG_DIR = './logs'\n",
    "graph = tf.get_default_graph()\n",
    "with tf.summary.FileWriter(LOG_DIR) as writer:\n",
    "    writer.add_graph(graph)"
   ]
  },
  {
   "cell_type": "markdown",
   "metadata": {},
   "source": [
    "http://localhost:6006/\n",
    "\n",
    "events.out.tfevents.1543890604.PC-A4070-1807-1\n",
    "\n",
    "![CNT](TensorBoard_4.png \"CNT\")"
   ]
  },
  {
   "cell_type": "markdown",
   "metadata": {},
   "source": [
    "**リスト3.6:演算の例**"
   ]
  },
  {
   "cell_type": "code",
   "execution_count": 17,
   "metadata": {},
   "outputs": [
    {
     "name": "stdout",
     "output_type": "stream",
     "text": [
      "a + b =  5\n",
      "a * b =  6\n"
     ]
    }
   ],
   "source": [
    "import tensorflow as tf\n",
    "\n",
    "\n",
    "a = tf.constant(2, name='a')\n",
    "b = tf.constant(3, name='b')\n",
    "c = tf.add(a, b)  # a + b と等価\n",
    "d = tf.multiply(a, b)  # a*b と等価\n",
    "\n",
    "with tf.Session() as sess:\n",
    "    print('a + b = ', sess.run(c))\n",
    "    print('a * b = ', sess.run(d))"
   ]
  },
  {
   "cell_type": "code",
   "execution_count": 18,
   "metadata": {},
   "outputs": [],
   "source": [
    "LOG_DIR = './logs'\n",
    "graph = tf.get_default_graph()\n",
    "with tf.summary.FileWriter(LOG_DIR) as writer:\n",
    "    writer.add_graph(graph)"
   ]
  },
  {
   "cell_type": "markdown",
   "metadata": {},
   "source": [
    "http://localhost:6006/\n",
    "\n",
    "events.out.tfevents.1543890872.PC-A4070-1807-1\n",
    "\n",
    "![CNT](TensorBoard_5.png \"CNT\")"
   ]
  },
  {
   "cell_type": "markdown",
   "metadata": {},
   "source": [
    "**リスト3.7:ベクトル演算の例**"
   ]
  },
  {
   "cell_type": "code",
   "execution_count": 19,
   "metadata": {},
   "outputs": [
    {
     "name": "stdout",
     "output_type": "stream",
     "text": [
      "a + b =  [5 7 9]\n"
     ]
    }
   ],
   "source": [
    "import tensorflow as tf\n",
    "\n",
    "\n",
    "a = tf.constant([1, 2, 3], name='a')\n",
    "b = tf.constant([4, 5, 6], name='b')\n",
    "c = a + b\n",
    "\n",
    "with tf.Session() as sess:\n",
    "    print('a + b = ', sess.run(c))"
   ]
  },
  {
   "cell_type": "code",
   "execution_count": 20,
   "metadata": {},
   "outputs": [],
   "source": [
    "LOG_DIR = './logs'\n",
    "graph = tf.get_default_graph()\n",
    "with tf.summary.FileWriter(LOG_DIR) as writer:\n",
    "    writer.add_graph(graph)"
   ]
  },
  {
   "cell_type": "markdown",
   "metadata": {},
   "source": [
    "http://localhost:6006/\n",
    "\n",
    "events.out.tfevents.1543891048.PC-A4070-1807-1\n",
    "\n",
    "![CNT](TensorBoard_6.png \"CNT\")"
   ]
  },
  {
   "cell_type": "markdown",
   "metadata": {},
   "source": [
    "**リスト3.8:行列演算の例**"
   ]
  },
  {
   "cell_type": "code",
   "execution_count": 21,
   "metadata": {
    "scrolled": true
   },
   "outputs": [
    {
     "name": "stdout",
     "output_type": "stream",
     "text": [
      "shape of a:  (2, 2)\n",
      "shape of b:  (2, 1)\n",
      "shape of c:  (2, 1)\n",
      "a = \n",
      " [[1 2]\n",
      " [3 4]]\n",
      "b = \n",
      " [[1]\n",
      " [2]]\n",
      "c = \n",
      " [[ 5]\n",
      " [11]]\n"
     ]
    }
   ],
   "source": [
    "import tensorflow as tf\n",
    "\n",
    "\n",
    "a = tf.constant([[1, 2], [3, 4]], name='a')\n",
    "b = tf.constant([[1], [2]], name='b')\n",
    "c = tf.matmul(a, b)\n",
    "\n",
    "print('shape of a: ', a.shape)\n",
    "print('shape of b: ', b.shape)\n",
    "print('shape of c: ', c.shape)\n",
    "\n",
    "with tf.Session() as sess:\n",
    "    print('a = \\n', sess.run(a))\n",
    "    print('b = \\n', sess.run(b))\n",
    "    print('c = \\n', sess.run(c))"
   ]
  },
  {
   "cell_type": "code",
   "execution_count": 22,
   "metadata": {},
   "outputs": [],
   "source": [
    "LOG_DIR = './logs'\n",
    "graph = tf.get_default_graph()\n",
    "with tf.summary.FileWriter(LOG_DIR) as writer:\n",
    "    writer.add_graph(graph)"
   ]
  },
  {
   "cell_type": "markdown",
   "metadata": {},
   "source": [
    "http://localhost:6006/\n",
    "\n",
    "events.out.tfevents.1543891247.PC-A4070-1807-1\n",
    "\n",
    "![CNT](TensorBoard_7.png \"CNT\")"
   ]
  },
  {
   "cell_type": "markdown",
   "metadata": {},
   "source": [
    "**リスト3.9:テンソルのプ レースホルダーと未知の次元**"
   ]
  },
  {
   "cell_type": "code",
   "execution_count": 23,
   "metadata": {
    "scrolled": false
   },
   "outputs": [
    {
     "name": "stdout",
     "output_type": "stream",
     "text": [
      "-- [[1, 2]]を代入 --\n",
      "a =  [[1 2]]\n",
      "\n",
      "-- [[1, 2], [3, 4]]を代入 --\n",
      "a =  [[1 2]\n",
      " [3 4]]\n"
     ]
    }
   ],
   "source": [
    "import tensorflow as tf\n",
    "\n",
    "a = tf.placeholder(shape=(None, 2), dtype=tf.int32, name='a')\n",
    "\n",
    "with tf.Session() as sess:\n",
    "    print('-- [[1, 2]]を代入 --')\n",
    "    print('a = ', sess.run(a, feed_dict={a: [[1, 2]]}))\n",
    "    print('\\n-- [[1, 2], [3, 4]]を代入 --')\n",
    "    print('a = ', sess.run(a, feed_dict={a: [[1, 2], [3, 4]]}))"
   ]
  },
  {
   "cell_type": "code",
   "execution_count": 24,
   "metadata": {},
   "outputs": [],
   "source": [
    "LOG_DIR = './logs'\n",
    "graph = tf.get_default_graph()\n",
    "with tf.summary.FileWriter(LOG_DIR) as writer:\n",
    "    writer.add_graph(graph)"
   ]
  },
  {
   "cell_type": "markdown",
   "metadata": {},
   "source": [
    "http://localhost:6006/\n",
    "\n",
    "events.out.tfevents.1543891486.PC-A4070-1807-1\n",
    "\n",
    "![CNT](TensorBoard_8.png \"CNT\")"
   ]
  },
  {
   "cell_type": "markdown",
   "metadata": {},
   "source": [
    "**リスト3.10:セッションが変わると、変数が初期化されてしまう**"
   ]
  },
  {
   "cell_type": "code",
   "execution_count": 25,
   "metadata": {
    "scrolled": true
   },
   "outputs": [
    {
     "name": "stdout",
     "output_type": "stream",
     "text": [
      "一回目 b =  2\n",
      "二回目 b =  3\n",
      "-- 新しいセッション --\n",
      "一回目 b =  2\n",
      "二回目 b =  3\n"
     ]
    }
   ],
   "source": [
    "import tensorflow as tf\n",
    "\n",
    "\n",
    "a = tf.Variable(1, name='a')\n",
    "b = tf.assign(a, a + 1)\n",
    "\n",
    "with tf.Session() as sess:\n",
    "    sess.run(tf.global_variables_initializer())\n",
    "    print('一回目 b = ', sess.run(b))\n",
    "    print('二回目 b = ', sess.run(b))\n",
    "\n",
    "# セッションが変わると元の値に戻ってしまう\n",
    "with tf.Session() as sess:\n",
    "    print('-- 新しいセッション --')\n",
    "    sess.run(tf.global_variables_initializer())\n",
    "    print('一回目 b = ', sess.run(b))\n",
    "    print('二回目 b = ', sess.run(b))"
   ]
  },
  {
   "cell_type": "code",
   "execution_count": 26,
   "metadata": {},
   "outputs": [],
   "source": [
    "LOG_DIR = './logs'\n",
    "graph = tf.get_default_graph()\n",
    "with tf.summary.FileWriter(LOG_DIR) as writer:\n",
    "    writer.add_graph(graph)"
   ]
  },
  {
   "cell_type": "markdown",
   "metadata": {},
   "source": [
    "http://localhost:6006/\n",
    "\n",
    "events.out.tfevents.1543899197.PC-A4070-1807-1\n",
    "\n",
    "![CNT](TensorBoard_9.png \"CNT\")"
   ]
  },
  {
   "cell_type": "markdown",
   "metadata": {},
   "source": [
    "**リスト3.11:Saver による変数の保存**"
   ]
  },
  {
   "cell_type": "code",
   "execution_count": 27,
   "metadata": {
    "scrolled": false
   },
   "outputs": [
    {
     "name": "stdout",
     "output_type": "stream",
     "text": [
      "2\n",
      "3\n",
      "INFO:tensorflow:Restoring parameters from model/model.ckpt\n",
      "4\n",
      "5\n"
     ]
    }
   ],
   "source": [
    "import tensorflow as tf\n",
    "\n",
    "\n",
    "a = tf.Variable(1, name='a')\n",
    "b = tf.assign(a, a + 1)\n",
    "\n",
    "saver = tf.train.Saver()\n",
    "with tf.Session() as sess:\n",
    "    sess.run(tf.global_variables_initializer())\n",
    "    print(sess.run(b))\n",
    "    print(sess.run(b))\n",
    "    # 変数の値を model/model.ckpt に保存する\n",
    "    saver.save(sess, 'model/model.ckpt')\n",
    "\n",
    "# Saver を利用すると\n",
    "saver = tf.train.Saver()\n",
    "with tf.Session() as sess:\n",
    "    sess.run(tf.global_variables_initializer())\n",
    "    # model/model.ckpt から変数の値をリストアする\n",
    "    saver.restore(sess, save_path='model/model.ckpt')\n",
    "    print(sess.run(b))\n",
    "    print(sess.run(b))"
   ]
  },
  {
   "cell_type": "code",
   "execution_count": 28,
   "metadata": {},
   "outputs": [],
   "source": [
    "LOG_DIR = './logs'\n",
    "graph = tf.get_default_graph()\n",
    "with tf.summary.FileWriter(LOG_DIR) as writer:\n",
    "    writer.add_graph(graph)"
   ]
  },
  {
   "cell_type": "markdown",
   "metadata": {},
   "source": [
    "http://localhost:6006/\n",
    "\n",
    "events.out.tfevents.1543899346.PC-A4070-1807-1\n",
    "\n",
    "![CNT](TensorBoard_10.png \"CNT\")"
   ]
  },
  {
   "cell_type": "markdown",
   "metadata": {},
   "source": [
    "**リスト3.12:サマリの書き出し**"
   ]
  },
  {
   "cell_type": "code",
   "execution_count": 29,
   "metadata": {},
   "outputs": [],
   "source": [
    "import tensorflow as tf\n",
    "\n",
    "\n",
    "LOG_DIR = './logs'\n",
    "\n",
    "a = tf.constant(1, name='a')\n",
    "b = tf.constant(1, name='b')\n",
    "c = a + b\n",
    "\n",
    "graph = tf.get_default_graph()\n",
    "with tf.summary.FileWriter(LOG_DIR) as writer:\n",
    "    writer.add_graph(graph)"
   ]
  },
  {
   "cell_type": "markdown",
   "metadata": {},
   "source": [
    "http://localhost:6006/\n",
    "\n",
    "events.out.tfevents.1543899545.PC-A4070-1807-1\n",
    "\n",
    "![CNT](TensorBoard_11.png \"CNT\")"
   ]
  },
  {
   "cell_type": "markdown",
   "metadata": {},
   "source": [
    "LOG_DIRの確認"
   ]
  },
  {
   "cell_type": "code",
   "execution_count": 30,
   "metadata": {
    "scrolled": true
   },
   "outputs": [
    {
     "name": "stdout",
     "output_type": "stream",
     "text": [
      " ドライブ C のボリューム ラベルは Windows です\n",
      " ボリューム シリアル番号は 2E66-D345 です\n",
      "\n",
      " C:\\Users\\a4070\\Python\\Jupyter\\PythonAI_14\\logs のディレクトリ\n",
      "\n",
      "2018/12/04  13:59    <DIR>          .\n",
      "2018/12/04  13:59    <DIR>          ..\n",
      "2018/12/04  11:00               460 events.out.tfevents.1543888820.PC-A4070-1807-1\n",
      "2018/12/04  11:11                71 events.out.tfevents.1543889519.PC-A4070-1807-1\n",
      "2018/12/04  11:16               261 events.out.tfevents.1543889806.PC-A4070-1807-1\n",
      "2018/12/04  11:24             1,167 events.out.tfevents.1543890298.PC-A4070-1807-1\n",
      "2018/12/04  11:30             1,371 events.out.tfevents.1543890604.PC-A4070-1807-1\n",
      "2018/12/04  11:34             1,625 events.out.tfevents.1543890872.PC-A4070-1807-1\n",
      "2018/12/04  11:37             1,866 events.out.tfevents.1543891048.PC-A4070-1807-1\n",
      "2018/12/04  11:40             2,169 events.out.tfevents.1543891247.PC-A4070-1807-1\n",
      "2018/12/04  11:44             2,273 events.out.tfevents.1543891486.PC-A4070-1807-1\n",
      "2018/12/04  13:53             3,048 events.out.tfevents.1543899197.PC-A4070-1807-1\n",
      "2018/12/04  13:55             6,885 events.out.tfevents.1543899346.PC-A4070-1807-1\n",
      "2018/12/04  13:59             7,086 events.out.tfevents.1543899545.PC-A4070-1807-1\n",
      "              12 個のファイル              28,282 バイト\n",
      "               2 個のディレクトリ  18,684,764,160 バイトの空き領域\n"
     ]
    }
   ],
   "source": [
    "# !ls ./logs\n",
    "!dir logs"
   ]
  },
  {
   "cell_type": "markdown",
   "metadata": {},
   "source": [
    "Tensorboard起動\n",
    "\n",
    "①　Anaconda Prompt- Jupyter　を起動しPromptを出す。\n",
    "\n",
    "②　所望のデイレクリに移動する。\n",
    "\n",
    "③　tensorboard --logdir=logs　を実行する\n",
    "\n",
    "④　TensorBoard 1.11.0 at http://PC-A4070-1807-1:6006 (Press CTRL+C to quit)が表示されたら　http://localhost:6006/　にアクセスする。\n",
    "\n",
    "⑤　表示される\n",
    "\n",
    "以下、実行結果の表示（ログ）\n",
    "\n",
    "(base) C:\\Users\\a4070>cd C:\\Users\\a4070\\Python\\Jupyter\\PythonAI_14\n",
    "\n",
    "(base) C:\\Users\\a4070\\Python\\Jupyter\\PythonAI_14>tensorboard --logdir=logs\n",
    "W1204 09:48:21.949468 Reloader tf_logging.py:120] Found more than one graph event per run, or there was a metagraph containing a graph_def, as well as one or more graph events.  Overwriting the graph with the newest event.\n",
    "W1204 09:48:21.949467 19020 tf_logging.py:120] Found more than one graph event per run, or there was a metagraph containing a graph_def, as well as one or more graph events.  Overwriting the graph with the newest event.\n",
    "W1204 09:48:22.051740 Reloader tf_logging.py:120] Found more than one graph event per run, or there was a metagraph containing a graph_def, as well as one or more graph events.  Overwriting the graph with the newest event.\n",
    "W1204 09:48:22.051740 19020 tf_logging.py:120] Found more than one graph event per run, or there was a metagraph containing a graph_def, as well as one or more graph events.  Overwriting the graph with the newest event.\n",
    "TensorBoard 1.11.0 at http://PC-A4070-1807-1:6006 (Press CTRL+C to quit)\n",
    "\n",
    "上記URLではtensorboardが表示されない (NG  http://PC-A4070-1807-1:6006)\n",
    "\n",
    "以下で表示可能となる　　　　　　　　（OK　http://localhost:6006/）\n",
    "\n",
    "http://localhost:6006/\n",
    "\n",
    "![CNT](TensorBoard_12.png \"CNT\")"
   ]
  },
  {
   "cell_type": "markdown",
   "metadata": {},
   "source": [
    "**リスト3.13:最急降下法による２次関数の最小化**"
   ]
  },
  {
   "cell_type": "code",
   "execution_count": 2,
   "metadata": {},
   "outputs": [
    {
     "name": "stdout",
     "output_type": "stream",
     "text": [
      "num[i] =  0.0\n",
      "num[i] =  0.05\n",
      "num[i] =  0.1\n",
      "num[i] =  0.15\n",
      "num[i] =  0.2\n",
      "num[i] =  0.25\n",
      "num[i] =  0.3\n",
      "num[i] =  0.35\n",
      "num[i] =  0.4\n",
      "num[i] =  0.45\n",
      "num[i] =  0.5\n",
      "num[i] =  0.55\n",
      "num[i] =  0.6\n",
      "num[i] =  0.65\n",
      "num[i] =  0.7\n",
      "num[i] =  0.75\n",
      "num[i] =  0.8\n",
      "num[i] =  0.85\n",
      "num[i] =  0.9\n",
      "num[i] =  0.95\n"
     ]
    }
   ],
   "source": [
    "import numpy as np\n",
    "import math\n",
    "from scipy.interpolate import interp1d\n",
    "\n",
    "Min_data = np.zeros(20)\n",
    "num = np.zeros(20)\n",
    "\n",
    "for n in range(20):\n",
    "    num[n]=n/20\n",
    "    \n",
    "Houbutsu_data1 = np.zeros(100)\n",
    "num1 = np.zeros(100)\n",
    "for n in range(100):\n",
    "    num1[n]=n/50\n",
    "    #Houbutsu_data1[n] = 0.8*(num1[n]-1)**2\n",
    "    Houbutsu_data1[n] = 1 - 0.8*(num1[n]-1)**2\n",
    "    \n",
    "Houbutsu_data2 = np.zeros(100)\n",
    "num2 = np.zeros(100)\n",
    "for n in range(100):\n",
    "    num2[n]=n/50\n",
    "    # Houbutsu_data2[n] = 4-2*math.sqrt(4-(num2[n]-1)**2)\n",
    "    Houbutsu_data2[n] = 6-3*math.sqrt(4-(num2[n]-1)**2)\n",
    "\n",
    "Houbutsu_data3 = np.zeros(100)\n",
    "num3 = np.zeros(100)\n",
    "for n in range(100):\n",
    "    num3[n]=n/50\n",
    "\n",
    "for i in range(20):\n",
    "    print('num[i] = ', num[i])"
   ]
  },
  {
   "cell_type": "code",
   "execution_count": 3,
   "metadata": {},
   "outputs": [
    {
     "name": "stdout",
     "output_type": "stream",
     "text": [
      "x(i) =  0.2\n",
      "num(i) =  0.0\n",
      "x(i) =  0.36\n",
      "num(i) =  0.05\n",
      "x(i) =  0.48800004\n",
      "num(i) =  0.1\n",
      "x(i) =  0.59040004\n",
      "num(i) =  0.15000000000000002\n",
      "x(i) =  0.67232\n",
      "num(i) =  0.2\n",
      "x(i) =  0.73785603\n",
      "num(i) =  0.25\n",
      "x(i) =  0.7902848\n",
      "num(i) =  0.30000000000000004\n",
      "x(i) =  0.8322278\n",
      "num(i) =  0.35000000000000003\n",
      "x(i) =  0.86578226\n",
      "num(i) =  0.4\n",
      "x(i) =  0.8926258\n",
      "num(i) =  0.45\n",
      "x(i) =  0.91410065\n",
      "num(i) =  0.5\n",
      "x(i) =  0.9312805\n",
      "num(i) =  0.55\n",
      "x(i) =  0.9450244\n",
      "num(i) =  0.6000000000000001\n",
      "x(i) =  0.9560195\n",
      "num(i) =  0.65\n",
      "x(i) =  0.9648156\n",
      "num(i) =  0.7000000000000001\n",
      "x(i) =  0.9718525\n",
      "num(i) =  0.75\n",
      "x(i) =  0.97748196\n",
      "num(i) =  0.8\n",
      "x(i) =  0.98198557\n",
      "num(i) =  0.8500000000000001\n",
      "x(i) =  0.98558843\n",
      "num(i) =  0.9\n",
      "x(i) =  0.98847073\n",
      "num(i) =  0.9500000000000001\n",
      "x =  0.98847073\n"
     ]
    }
   ],
   "source": [
    "import tensorflow as tf\n",
    "\n",
    "\n",
    "# パラメータは変数として定義\n",
    "x = tf.Variable(0., name='x')\n",
    "# パラメータを使って最小化したい関数を定義\n",
    "func = (x - 1)**2\n",
    "\n",
    "# learning_rate は一度にずらす大きさを決める\n",
    "optimizer = tf.train.GradientDescentOptimizer(\n",
    "    learning_rate=0.1\n",
    ") \n",
    "# train_step が x を少しずらす操作を表す\n",
    "train_step = optimizer.minimize(func)\n",
    "\n",
    "# train_step を繰り返し実行する\n",
    "with tf.Session() as sess:\n",
    "    sess.run(tf.global_variables_initializer())\n",
    "    for i in range(20):\n",
    "        sess.run(train_step)\n",
    "        Min_data[i] = 1 - sess.run(x) # 経過LOG\n",
    "        num[i] = 0.05*i \n",
    "        print('x(i) = ', sess.run(x))\n",
    "        print('num(i) = ', num[i])\n",
    "    print('x = ', sess.run(x))\n",
    "    \n"
   ]
  },
  {
   "cell_type": "markdown",
   "metadata": {},
   "source": [
    "3次スプライン補間"
   ]
  },
  {
   "cell_type": "code",
   "execution_count": 4,
   "metadata": {},
   "outputs": [
    {
     "name": "stdout",
     "output_type": "stream",
     "text": [
      "xnew =  [0.   0.05 0.1  0.15 0.2  0.25 0.3  0.35 0.4  0.45 0.5  0.55 0.6  0.65\n",
      " 0.7  0.75 0.8  0.85 0.9  0.95]\n"
     ]
    }
   ],
   "source": [
    "Houbutsu_data3 = interp1d(num, Min_data, kind='cubic')  #3次スプライン補間実行！\n",
    "xnew =np.linspace(0,0.95,num=20)\n",
    "print('xnew = ', xnew)\n",
    "# print('Houbutsu_data3 = ', Houbutsu_data3)"
   ]
  },
  {
   "cell_type": "code",
   "execution_count": 6,
   "metadata": {},
   "outputs": [
    {
     "data": {
      "text/plain": [
       "(0, 2)"
      ]
     },
     "execution_count": 6,
     "metadata": {},
     "output_type": "execute_result"
    }
   ],
   "source": [
    "import matplotlib.pyplot as plt\n",
    "# 経過LOG\n",
    "\n",
    "plt.plot(num, Min_data, color='red',  linestyle='--', marker='.')\n",
    "plt.plot(num1, Houbutsu_data1, color='blue',  linestyle='--', marker='.')\n",
    "plt.plot(num2, Houbutsu_data2, color='green',  linestyle='--', marker='.')\n",
    "#plt.plot(num, Min_data, 'o',   xnew, Houbutsu_data3(xnew), '-')\n",
    "plt.grid(True)\n",
    "plt.ylim(0, 1.0)\n",
    "plt.xlim(0, 2)\n",
    "#plt.yticks([0,0.1,0.2,0.3,0.4,0.5,0.6,0.7,0.8,0.9,1.0])"
   ]
  },
  {
   "cell_type": "markdown",
   "metadata": {},
   "source": [
    "3次スプライン補間 表示"
   ]
  },
  {
   "cell_type": "code",
   "execution_count": 7,
   "metadata": {},
   "outputs": [
    {
     "data": {
      "text/plain": [
       "(0, 2)"
      ]
     },
     "execution_count": 7,
     "metadata": {},
     "output_type": "execute_result"
    },
    {
     "data": {
      "image/png": "[encoded data removed]",
      "text/plain": [
       "<Figure size 432x288 with 1 Axes>"
      ]
     },
     "metadata": {
      "needs_background": "light"
     },
     "output_type": "display_data"
    }
   ],
   "source": [
    "plt.plot(num, Min_data, 'o',   xnew, Houbutsu_data3(xnew), '-')\n",
    "plt.grid(True)\n",
    "plt.ylim(0, 1.0)\n",
    "plt.xlim(0, 2)"
   ]
  },
  {
   "cell_type": "markdown",
   "metadata": {},
   "source": [
    "近似曲線\n",
    "\n",
    "numpyによる方法\n",
    "\n",
    "polyfit"
   ]
  },
  {
   "cell_type": "code",
   "execution_count": 8,
   "metadata": {},
   "outputs": [
    {
     "data": {
      "image/png": "[encoded data removed]",
      "text/plain": [
       "<Figure size 432x288 with 1 Axes>"
      ]
     },
     "metadata": {
      "needs_background": "light"
     },
     "output_type": "display_data"
    }
   ],
   "source": [
    "#近似式の係数\n",
    "res1=np.polyfit(num, Min_data, 1)\n",
    "res2=np.polyfit(num, Min_data, 2)\n",
    "res3=np.polyfit(num, Min_data, 3)\n",
    "res4=np.polyfit(num, Min_data, 4)\n",
    "res5=np.polyfit(num, Min_data, 5)\n",
    "\n",
    "#近似式の計算\n",
    "y1 = np.poly1d(res1)(num) #1次\n",
    "y2 = np.poly1d(res2)(num) #2次\n",
    "y3 = np.poly1d(res3)(num) #3次\n",
    "y4 = np.poly1d(res4)(num) #4次\n",
    "y5 = np.poly1d(res5)(num) #5次\n",
    "\n",
    "#グラフ表示\n",
    "plt.scatter(num, Min_data, label='元データ')\n",
    "plt.plot(num, y1, label='1次')\n",
    "plt.plot(num, y2, label='2次')\n",
    "plt.plot(num, y3, label='3次')\n",
    "plt.plot(num, y4, label='4次')\n",
    "plt.plot(num, y5, label='5次')\n",
    "plt.legend()\n",
    "plt.show()"
   ]
  },
  {
   "cell_type": "code",
   "execution_count": 9,
   "metadata": {},
   "outputs": [
    {
     "name": "stdout",
     "output_type": "stream",
     "text": [
      "係数１次 =  [-0.68176517  0.52153262]\n",
      "係数２次 =  [ 1.34233264 -1.95698117  0.71281502]\n",
      "係数３次 =  [-1.85510331  3.98585485 -2.93601194  0.78022484]\n",
      "係数４次 =  [ 1.97177088 -5.60146798  6.23719467 -3.38423772  0.7966018 ]\n",
      "係数５次 =  [-1.70039385  6.01020626 -8.97391577  7.39824484 -3.52726766  0.79954409]\n"
     ]
    }
   ],
   "source": [
    "print('係数１次 = ', res1)\n",
    "print('係数２次 = ', res2)\n",
    "print('係数３次 = ', res3)\n",
    "print('係数４次 = ', res4)\n",
    "print('係数５次 = ', res5)"
   ]
  },
  {
   "cell_type": "code",
   "execution_count": 10,
   "metadata": {},
   "outputs": [
    {
     "data": {
      "image/png": "[encoded data removed]",
      "text/plain": [
       "<Figure size 576x360 with 1 Axes>"
      ]
     },
     "metadata": {
      "needs_background": "light"
     },
     "output_type": "display_data"
    }
   ],
   "source": [
    "plt.figure(figsize=(8,5))\n",
    "plt.plot(num,Min_data,'bo', label='Exp.')\n",
    "plt.plot(num,res5[0]*num**5+res5[1]*num**4+res5[2]*num**3+res5[3]*num**2+res5[4]*num+res5[5],'k-', label='fitted parabora', linewidth=10, alpha=0.3)\n",
    "plt.xlabel('X-axis')\n",
    "plt.ylabel('Y-axis')\n",
    "plt.legend(loc='best',fancybox=True, shadow=True)\n",
    "plt.grid(True)\n",
    "plt.show()"
   ]
  },
  {
   "cell_type": "code",
   "execution_count": 11,
   "metadata": {},
   "outputs": [],
   "source": [
    "y = Min_data\n",
    "x = num\n",
    "# print('Min_data = ', Min_data)\n",
    "# print('y = ', y)"
   ]
  },
  {
   "cell_type": "markdown",
   "metadata": {},
   "source": [
    "近似曲線\n",
    "\n",
    "scipyによる方法\n",
    "\n",
    "leastsqによる近似\n",
    "\n",
    "参考 http://www2.kaiyodai.ac.jp/~kentaro/materials/new_HP/python/15fit_data3.html\n",
    "\n",
    "参考 https://qiita.com/wrblue_mica34/items/0f26612207b78b68c4a1\n",
    "     "
   ]
  },
  {
   "cell_type": "code",
   "execution_count": 13,
   "metadata": {},
   "outputs": [
    {
     "name": "stdout",
     "output_type": "stream",
     "text": [
      "-0.6817651672489452 0.5215326211021231\n",
      "1.3423326355091147 -1.9569811712557243 0.7128150218940751\n",
      "-1.8551033271550972 3.9858548761190424 -2.936011951615773 0.7802248389548224\n",
      "1.9717711462153815 -5.601468494003642 6.237194988326187 -3.384237780824525 0.7966018065313463\n",
      "-1.7003935851739225 6.010205625598366 -8.973915220993739 7.39824464553472 -3.527267633529383 0.7995440919917078\n"
     ]
    }
   ],
   "source": [
    "from scipy import optimize\n",
    "\n",
    "# 1次式の近似\n",
    "def func1(param,x,y):\n",
    "    residual = y - (param[0]*x + param[1])\n",
    "    return residual\n",
    "param1 = [0, 0]\n",
    "res_leas1 = optimize.leastsq(func1, param1, args=(x, y))#係数\n",
    "a_fit1=res_leas1[0][0]\n",
    "b_fit1=res_leas1[0][1]\n",
    "print(a_fit1,b_fit1)\n",
    "\n",
    "# 2次式の近似\n",
    "def func2(param,x,y):\n",
    "    residual = y - (param[0]*x**2 + param[1]*x + param[2])\n",
    "    return residual\n",
    "param2 = [0, 0, 0]\n",
    "res_leas2 = optimize.leastsq(func2, param2, args=(x, y))\n",
    "a_fit2=res_leas2[0][0]\n",
    "b_fit2=res_leas2[0][1]\n",
    "c_fit2=res_leas2[0][2]\n",
    "print(a_fit2,b_fit2,c_fit2)\n",
    "\n",
    "# 3次式の近似\n",
    "def func3(param,x,y):\n",
    "    residual = y - (param[0]*x**3 + param[1]*x**2 + param[2]*x + param[3])\n",
    "    return residual\n",
    "param3 = [0, 0, 0, 0]\n",
    "res_leas3 = optimize.leastsq(func3, param3, args=(x, y))\n",
    "a_fit3=res_leas3[0][0]\n",
    "b_fit3=res_leas3[0][1]\n",
    "c_fit3=res_leas3[0][2]\n",
    "d_fit3=res_leas3[0][3]\n",
    "print(a_fit3,b_fit3,c_fit3,d_fit3)\n",
    "\n",
    "# 4次式の近似\n",
    "def func4(param,x,y):\n",
    "    residual = y - (param[0]*x**4 + param[1]*x**3 + param[2]*x**2 + param[3]*x + param[4])\n",
    "    return residual\n",
    "param4 = [0, 0, 0, 0, 0]\n",
    "res_leas4 = optimize.leastsq(func4, param4, args=(x, y))\n",
    "a_fit4=res_leas4[0][0]\n",
    "b_fit4=res_leas4[0][1]\n",
    "c_fit4=res_leas4[0][2]\n",
    "d_fit4=res_leas4[0][3]\n",
    "e_fit4=res_leas4[0][4]\n",
    "print(a_fit4,b_fit4,c_fit4,d_fit4,e_fit4)\n",
    "\n",
    "# 5次式の近似\n",
    "def func5(param,x,y):\n",
    "    residual = y - (param[0]*x**5 + param[1]*x**4 + param[2]*x**3 + param[3]*x**2 + param[4]*x + param[5])\n",
    "    return residual\n",
    "param5 = [0, 0, 0, 0, 0, 0]\n",
    "res_leas5 = optimize.leastsq(func5, param5, args=(x, y))\n",
    "a_fit5=res_leas5[0][0]\n",
    "b_fit5=res_leas5[0][1]\n",
    "c_fit5=res_leas5[0][2]\n",
    "d_fit5=res_leas5[0][3]\n",
    "e_fit5=res_leas5[0][4]\n",
    "f_fit5=res_leas5[0][5]\n",
    "print(a_fit5,b_fit5,c_fit5,d_fit5,e_fit5,f_fit5)"
   ]
  },
  {
   "cell_type": "code",
   "execution_count": 415,
   "metadata": {},
   "outputs": [
    {
     "name": "stdout",
     "output_type": "stream",
     "text": [
      "係数１次 res_leas1 =  (array([-0.68176517,  0.52153262]), 3)\n",
      "係数２次 res_leas2 =  (array([ 1.34233264, -1.95698117,  0.71281502]), 2)\n",
      "係数３次 res_leas3 =  (array([-1.85510333,  3.98585488, -2.93601195,  0.78022484]), 3)\n",
      "係数４次 res_leas4 =  (array([ 1.97177115, -5.60146849,  6.23719499, -3.38423778,  0.79660181]), 1)\n",
      "係数５次 res_leas5 =  (array([-1.70039359,  6.01020563, -8.97391522,  7.39824465, -3.52726763,\n",
      "        0.79954409]), 1)\n"
     ]
    }
   ],
   "source": [
    "print('係数１次 res_leas1 = ', res_leas1)\n",
    "print('係数２次 res_leas2 = ', res_leas2)\n",
    "print('係数３次 res_leas3 = ', res_leas3)\n",
    "print('係数４次 res_leas4 = ', res_leas4)\n",
    "print('係数５次 res_leas5 = ', res_leas5)"
   ]
  },
  {
   "cell_type": "code",
   "execution_count": 15,
   "metadata": {},
   "outputs": [
    {
     "name": "stdout",
     "output_type": "stream",
     "text": [
      "-1.7003935851739225 6.010205625598366 -8.973915220993739 7.39824464553472 -3.527267633529383 0.7995440919917078\n"
     ]
    }
   ],
   "source": [
    "print(a_fit5,b_fit5,c_fit5,d_fit5,e_fit5,f_fit5)"
   ]
  },
  {
   "cell_type": "code",
   "execution_count": 417,
   "metadata": {},
   "outputs": [
    {
     "data": {
      "image/png": "[encoded data removed]",
      "text/plain": [
       "<Figure size 576x360 with 1 Axes>"
      ]
     },
     "metadata": {
      "needs_background": "light"
     },
     "output_type": "display_data"
    }
   ],
   "source": [
    "#PLot\n",
    "plt.figure(figsize=(8,5))\n",
    "plt.plot(x,y,'bo', label='Exp.')\n",
    "plt.plot(x,a_fit5*x**5+b_fit5*x**4+c_fit5*x**3+d_fit5*x**2+e_fit5*x+f_fit5,'k-', label='fitted parabora', linewidth=10, alpha=0.3)\n",
    "plt.xlabel('X-axis')\n",
    "plt.ylabel('Y-axis')\n",
    "plt.legend(loc='best',fancybox=True, shadow=True)\n",
    "plt.grid(True)\n",
    "plt.show()"
   ]
  },
  {
   "cell_type": "markdown",
   "metadata": {},
   "source": [
    "近似曲線\n",
    "\n",
    "curve_fitによる近似"
   ]
  },
  {
   "cell_type": "code",
   "execution_count": 418,
   "metadata": {},
   "outputs": [],
   "source": [
    "from scipy import optimize\n",
    "\n",
    "# 1次式の近似\n",
    "def func_c1(x, a1, b1):\n",
    "    return a1*x + b1\n",
    "res_c1 = optimize.curve_fit(func_c1, x, y)#係数\n",
    "\n",
    "# 2次式の近似\n",
    "def func_c2(x, a2, b2, c2):\n",
    "    return a2*x**2 + b2*x + c2\n",
    "res_c2 = optimize.curve_fit(func_c2, x, y)\n",
    "\n",
    "# 3次式の近似\n",
    "def func_c3(x, a3, b3, c3, d3):\n",
    "    return a3*x**3 + b3*x**2 + c3*x +d3\n",
    "res_c3 = optimize.curve_fit(func_c3, x, y)\n",
    "\n",
    "# 4次式の近似\n",
    "def func_c4(x, a4, b4, c4, d4, e4):\n",
    "    return a4*x**4 + b4*x**3 + c4*x**2 +d4*x +e4\n",
    "res_c4 = optimize.curve_fit(func_c4, x, y)\n",
    "\n",
    "# 5次式の近似\n",
    "def func_c5(x, a5, b5, c5, d5, e5 ,f5):\n",
    "    return a5*x**5 + b5*x**4 + c5*x**3 +d5*x**2 +e5*x +f5\n",
    "res_c5 = optimize.curve_fit(func_c5, x, y)"
   ]
  },
  {
   "cell_type": "code",
   "execution_count": 419,
   "metadata": {},
   "outputs": [
    {
     "name": "stdout",
     "output_type": "stream",
     "text": [
      "係数１次 res_c1 =  (array([-0.68176517,  0.52153262]), array([[ 0.00745682, -0.00354199],\n",
      "       [-0.00354199,  0.00230229]]))\n",
      "係数２次 res_c2 =  (array([ 1.34233263, -1.95698117,  0.71281502]), array([[ 0.01363662, -0.01295479,  0.00194322],\n",
      "       [-0.01295479,  0.01320707, -0.00227357],\n",
      "       [ 0.00194322, -0.00227357,  0.00055479]]))\n",
      "係数３次 res_c3 =  (array([-1.85510329,  3.98585482, -2.93601193,  0.78022484]), array([[ 1.54829278e-02, -2.20631719e-02,  8.17111504e-03,\n",
      "        -5.62610877e-04],\n",
      "       [-2.20631719e-02,  3.24129559e-02, -1.25681282e-02,\n",
      "         9.40363893e-04],\n",
      "       [ 8.17111504e-03, -1.25681282e-02,  5.25459457e-03,\n",
      "        -4.59130666e-04],\n",
      "       [-5.62610877e-04,  9.40363893e-04, -4.59130666e-04,\n",
      "         6.00265630e-05]]))\n",
      "係数４次 res_c4 =  (array([ 1.97177084, -5.6014679 ,  6.23719463, -3.38423771,  0.7966018 ]), array([[ 1.17592111e-02, -2.23425012e-02,  1.34264994e-02,\n",
      "        -2.67312071e-03,  9.76686432e-05],\n",
      "       [-2.23425012e-02,  4.31675046e-02, -2.65317206e-02,\n",
      "         5.45719525e-03, -2.11615400e-04],\n",
      "       [ 1.34264994e-02, -2.65317206e-02,  1.68306801e-02,\n",
      "        -3.63394812e-03,  1.55048981e-04],\n",
      "       [-2.67312071e-03,  5.45719525e-03, -3.63394812e-03,\n",
      "         8.50908866e-04, -4.34567374e-05],\n",
      "       [ 9.76686432e-05, -2.11615400e-04,  1.55048981e-04,\n",
      "        -4.34567374e-05,  3.59002081e-06]]))\n",
      "係数５次 res_c5 =  (array([-1.70039392,  6.01020645, -8.97391592,  7.39824489, -3.52726767,\n",
      "        0.79954409]), array([[ 6.35113071e-03, -1.50839313e-02,  1.25964030e-02,\n",
      "        -4.33662874e-03,  5.34229954e-04, -1.09897198e-05],\n",
      "       [-1.50839313e-02,  3.62002219e-02, -3.06306491e-02,\n",
      "         1.07286817e-02, -1.35424473e-03,  2.92226519e-05],\n",
      "       [ 1.25964030e-02, -3.06306491e-02,  2.63627454e-02,\n",
      "        -9.44908865e-03,  1.23400017e-03, -2.85607616e-05],\n",
      "       [-4.33662874e-03,  1.07286817e-02, -9.44908865e-03,\n",
      "         3.49911172e-03, -4.80941389e-04,  1.24602067e-05],\n",
      "       [ 5.34229954e-04, -1.35424473e-03,  1.23400017e-03,\n",
      "        -4.80941389e-04,  7.21372770e-05, -2.31354554e-06],\n",
      "       [-1.09897198e-05,  2.92226519e-05, -2.85607616e-05,\n",
      "         1.24602067e-05, -2.31354554e-06,  1.33774670e-07]]))\n"
     ]
    }
   ],
   "source": [
    "print('係数１次 res_c1 = ', res_c1)\n",
    "print('係数２次 res_c2 = ', res_c2)\n",
    "print('係数３次 res_c3 = ', res_c3)\n",
    "print('係数４次 res_c4 = ', res_c4)\n",
    "print('係数５次 res_c5 = ', res_c5)"
   ]
  },
  {
   "cell_type": "code",
   "execution_count": 420,
   "metadata": {},
   "outputs": [],
   "source": [
    "a5=res_c5[0][0]\n",
    "b5=res_c5[0][1]\n",
    "c5=res_c5[0][2]\n",
    "d5=res_c5[0][3]\n",
    "e5=res_c5[0][4]\n",
    "f5=res_c5[0][5]"
   ]
  },
  {
   "cell_type": "code",
   "execution_count": 421,
   "metadata": {},
   "outputs": [
    {
     "data": {
      "image/png": "[encoded data removed]",
      "text/plain": [
       "<Figure size 576x360 with 1 Axes>"
      ]
     },
     "metadata": {
      "needs_background": "light"
     },
     "output_type": "display_data"
    }
   ],
   "source": [
    "#PLot\n",
    "plt.figure(figsize=(8,5))\n",
    "plt.plot(x,y,'bo', label='Exp.')\n",
    "plt.plot(x,a5*x**5+b5*x**4+c5*x**3+d5*x**2+e5*x+f5,'k-', label='fitted parabora', linewidth=10, alpha=0.3)\n",
    "plt.xlabel('X-axis')\n",
    "plt.ylabel('Y-axis')\n",
    "plt.legend(loc='best',fancybox=True, shadow=True)\n",
    "plt.grid(True)\n",
    "plt.show()"
   ]
  },
  {
   "cell_type": "markdown",
   "metadata": {},
   "source": [
    "** フィッティング３(最小二乗法，optimizeの利用) **\n",
    "\n",
    "http://www2.kaiyodai.ac.jp/~kentaro/materials/new_HP/python/15fit_data3.html"
   ]
  },
  {
   "cell_type": "code",
   "execution_count": 425,
   "metadata": {},
   "outputs": [
    {
     "name": "stdout",
     "output_type": "stream",
     "text": [
      "(array([ 4.98684278, 10.18823929]), 2)\n",
      "4.986842777041219 10.188239294913\n"
     ]
    },
    {
     "data": {
      "image/png": "[encoded data removed]",
      "text/plain": [
       "<Figure size 576x360 with 1 Axes>"
      ]
     },
     "metadata": {
      "needs_background": "light"
     },
     "output_type": "display_data"
    }
   ],
   "source": [
    "import numpy as np\n",
    "import matplotlib.pyplot as plt\n",
    "from scipy import optimize\n",
    "\n",
    "def f(x):\n",
    "    return 5.*x + 10.\n",
    "\n",
    "#Pusedo measured data by random number\n",
    "xdata = np.linspace(-10, 10, num=101)\n",
    "np.random.seed(1234)\n",
    "ydata = f(xdata) + 5.*np.random.randn(xdata.size)\n",
    "\n",
    "#Least squares method with scipy.optimize\n",
    "def fit_func(parameter,x,y):\n",
    "    a = parameter[0]\n",
    "    b = parameter[1]\n",
    "    residual = y-(a*x+b)\n",
    "    return residual\n",
    "\n",
    "parameter0 = [0.,0.]\n",
    "result = optimize.leastsq(fit_func,parameter0,args=(xdata,ydata))\n",
    "print(result)\n",
    "a_fit=result[0][0]\n",
    "b_fit=result[0][1]\n",
    "\n",
    "print(a_fit,b_fit)\n",
    "\n",
    "#PLot\n",
    "plt.figure(figsize=(8,5))\n",
    "plt.plot(xdata,ydata,'bo', label='Exp.')\n",
    "plt.plot(xdata,a_fit*xdata+b_fit,'k-', label='fitted line', linewidth=10, alpha=0.3)\n",
    "plt.plot(xdata,f(xdata),'r-', label='mother line', linewidth=3)\n",
    "plt.xlabel('Time')\n",
    "plt.ylabel('Verocity')\n",
    "plt.legend(loc='best',fancybox=True, shadow=True)\n",
    "plt.grid(True)\n",
    "plt.show()"
   ]
  },
  {
   "cell_type": "code",
   "execution_count": 440,
   "metadata": {},
   "outputs": [
    {
     "name": "stdout",
     "output_type": "stream",
     "text": [
      "0.8872050729458443 0.41856718927924796 5.73655692206277\n"
     ]
    },
    {
     "data": {
      "image/png": "[encoded data removed]",
      "text/plain": [
       "<Figure size 576x360 with 1 Axes>"
      ]
     },
     "metadata": {
      "needs_background": "light"
     },
     "output_type": "display_data"
    }
   ],
   "source": [
    "import numpy as np\n",
    "import matplotlib.pyplot as plt\n",
    "from scipy import optimize\n",
    "\n",
    "file_id = 'sample_data.csv'\n",
    "file_path = 'C:/Users/a4070/Python/Jupyter/PythonAI_14/'\n",
    "#file_path = './'\n",
    "\n",
    "rfile = file_path + file_id\n",
    "data = np.loadtxt(rfile, comments='#' ,delimiter=',')\n",
    "\n",
    "x_csv = data[:,0]\n",
    "y_csv = data[:,1]\n",
    "\n",
    "#Least squares method with scipy.optimize\n",
    "def fit_func(parameter,x,y):\n",
    "    a = parameter[0]\n",
    "    b = parameter[1]\n",
    "    c = parameter[2]\n",
    "    residual = y-(a*x**2+b*x+c)\n",
    "    return residual\n",
    "\n",
    "parameter0 = [0.,0.,0.]\n",
    "result = optimize.leastsq(fit_func,parameter0,args=(x_csv,y_csv))\n",
    "a_fit=result[0][0]\n",
    "b_fit=result[0][1]\n",
    "c_fit=result[0][2]\n",
    "print(a_fit,b_fit,c_fit)\n",
    "\n",
    "#PLot\n",
    "plt.figure(figsize=(8,5))\n",
    "plt.plot(x_csv,y_csv,'bo', label='Exp.')\n",
    "plt.plot(x_csv,a_fit*x_csv**2+b_fit*x_csv+c_fit,'k-', label='fitted parabora', linewidth=10, alpha=0.3)\n",
    "plt.xlabel('X-axis')\n",
    "plt.ylabel('Y-axis')\n",
    "plt.legend(loc='best',fancybox=True, shadow=True)\n",
    "plt.grid(True)\n",
    "plt.show()"
   ]
  },
  {
   "cell_type": "markdown",
   "metadata": {},
   "source": [
    "**リスト3.14:Bos ton house -pricesデ ータセ ットのダウンロ ード**"
   ]
  },
  {
   "cell_type": "code",
   "execution_count": 61,
   "metadata": {},
   "outputs": [],
   "source": [
    "# TensorFlow r1.5.0 では、Kerasのバグのためエラーとなる\n",
    "# (x_train, y_train), (x_test, y_test) = tf.keras.datasets.boston_housing.load_data()"
   ]
  },
  {
   "cell_type": "markdown",
   "metadata": {},
   "source": [
    "上記のデータセットは、もう1つのkeras実装を使うことでダウンロードできます。誌面ではpip install kerasを利用した方法を紹介しています。以下のコマンドでもインストールできます。"
   ]
  },
  {
   "cell_type": "code",
   "execution_count": 66,
   "metadata": {
    "scrolled": true
   },
   "outputs": [],
   "source": [
    "#!pip install keras"
   ]
  },
  {
   "cell_type": "markdown",
   "metadata": {},
   "source": [
    "Requirement already satisfied: keras in c:\\users\\a4070\\appdata\\local\\continuum\\anaconda3\\lib\\site-packages (2.2.4)\n",
    "\n",
    "Requirement already satisfied: scipy>=0.14 in c:\\users\\a4070\\appdata\\local\\continuum\\anaconda3\\lib\\site-packages (from keras) (1.1.0)\n",
    "\n",
    "Requirement already satisfied: pyyaml in c:\\users\\a4070\\appdata\\local\\continuum\\anaconda3\\lib\\site-packages (from keras) (3.12)\n",
    "\n",
    "Requirement already satisfied: h5py in c:\\users\\a4070\\appdata\\local\\continuum\\anaconda3\\lib\\site-packages (from keras) (2.8.0)\n",
    "\n",
    "Requirement already satisfied: keras-applications>=1.0.6 in c:\\users\\a4070\\appdata\\local\\continuum\\anaconda3\\lib\\site-packages (from keras) (1.0.6)\n",
    "\n",
    "Requirement already satisfied: keras-preprocessing>=1.0.5 in c:\\users\\a4070\\appdata\\local\\continuum\\anaconda3\\lib\\site-packages (from keras) (1.0.5)\n",
    "\n",
    "Requirement already satisfied: numpy>=1.9.1 in c:\\users\\a4070\\appdata\\local\\continuum\\anaconda3\\lib\\site-packages (from keras) (1.15.3)\n",
    "\n",
    "Requirement already satisfied: six>=1.9.0 in c:\\users\\a4070\\appdata\\local\\continuum\\anaconda3\\lib\\site-packages (from keras) (1.11.0)"
   ]
  },
  {
   "cell_type": "markdown",
   "metadata": {},
   "source": [
    "**リスト3.15:Kerasのインポート**"
   ]
  },
  {
   "cell_type": "code",
   "execution_count": 423,
   "metadata": {},
   "outputs": [],
   "source": [
    "import keras\n",
    "\n",
    "(x_train, y_train), (x_test, y_test) = keras.datasets.boston_housing.load_data()"
   ]
  },
  {
   "cell_type": "markdown",
   "metadata": {},
   "source": [
    "**リスト3.16:ヒストグラムを表示**"
   ]
  },
  {
   "cell_type": "code",
   "execution_count": 562,
   "metadata": {
    "scrolled": false
   },
   "outputs": [
    {
     "data": {
      "image/png": "[encoded data removed]",
      "text/plain": [
       "<Figure size 648x432 with 1 Axes>"
      ]
     },
     "metadata": {
      "needs_background": "light"
     },
     "output_type": "display_data"
    },
    {
     "data": {
      "text/plain": [
       "Text(0,0.5,'住宅価格($1,000単位)')"
      ]
     },
     "execution_count": 562,
     "metadata": {},
     "output_type": "execute_result"
    },
    {
     "data": {
      "image/png": "[encoded data removed]",
      "text/plain": [
       "<Figure size 648x432 with 1 Axes>"
      ]
     },
     "metadata": {
      "needs_background": "light"
     },
     "output_type": "display_data"
    }
   ],
   "source": [
    "# matplotlibのグラフをインラインで表示する\n",
    "%matplotlib inline\n",
    "\n",
    "import matplotlib.pyplot as plt\n",
    "\n",
    "\n",
    "plt.rcParams['font.family'] = ['IPAexGothic']\n",
    "plt.rcParams['font.size'] = 5*3           # 10*3\n",
    "plt.rcParams['figure.figsize'] = [9, 6]   # [18,12]\n",
    "\n",
    "plt.hist(y_train, bins=20)\n",
    "plt.xlabel('住宅価格($1,000単位)')\n",
    "plt.ylabel('データ数')\n",
    "plt.show()\n",
    "plt.plot(x_train[:, 5], y_train, 'o')\n",
    "plt.xlabel('部屋数')\n",
    "plt.ylabel('住宅価格($1,000単位)')"
   ]
  },
  {
   "cell_type": "markdown",
   "metadata": {},
   "source": [
    "**リスト3.17:データの 標準化**"
   ]
  },
  {
   "cell_type": "code",
   "execution_count": 563,
   "metadata": {
    "scrolled": false
   },
   "outputs": [
    {
     "data": {
      "text/plain": [
       "Text(0,0.5,'住宅価格(標準化後)')"
      ]
     },
     "execution_count": 563,
     "metadata": {},
     "output_type": "execute_result"
    },
    {
     "data": {
      "image/png": "[encoded data removed]",
      "text/plain": [
       "<Figure size 648x432 with 1 Axes>"
      ]
     },
     "metadata": {
      "needs_background": "light"
     },
     "output_type": "display_data"
    }
   ],
   "source": [
    "x_train_mean = x_train.mean(axis=0)\n",
    "x_train_std = x_train.std(axis=0)\n",
    "y_train_mean = y_train.mean()\n",
    "y_train_std = y_train.std()\n",
    "\n",
    "x_train = (x_train - x_train_mean)/x_train_std\n",
    "y_train = (y_train - y_train_mean)/y_train_std\n",
    "# x_test に対しても x_train_mean と x_train_std を使う\n",
    "x_test = (x_test - x_train_mean)/x_train_std\n",
    "# y_test に対しても y_train_mean と y_train_std を使う\n",
    "y_test = (y_test - y_train_mean)/y_train_std\n",
    "\n",
    "\n",
    "plt.plot(x_train[:, 5], y_train, 'o')\n",
    "plt.xlabel('部屋数(標準化後)')\n",
    "plt.ylabel('住宅価格(標準化後)')"
   ]
  },
  {
   "cell_type": "markdown",
   "metadata": {},
   "source": [
    "**リスト3.18:住宅価格を推定するモデル**"
   ]
  },
  {
   "cell_type": "code",
   "execution_count": 564,
   "metadata": {},
   "outputs": [],
   "source": [
    "# 説明変数用のプレースホルダー\n",
    "x = tf.placeholder(tf.float32, (None, 13), name='x')\n",
    "# 正解データ(住宅価格)用のプレースホルダー\n",
    "y = tf.placeholder(tf.float32, (None, 1), name='y')\n",
    "\n",
    "# 説明変数を重み w で足し合わせただけの簡単なモデル\n",
    "w = tf.Variable(tf.random_normal((13, 1)))\n",
    "pred = tf.matmul(x, w)"
   ]
  },
  {
   "cell_type": "markdown",
   "metadata": {},
   "source": [
    "**リスト3.19:誤差の定義とtrain_stepの定義**"
   ]
  },
  {
   "cell_type": "code",
   "execution_count": 565,
   "metadata": {},
   "outputs": [],
   "source": [
    "# 実データと推定値の差の二乗の平均を誤差とする\n",
    "loss = tf.reduce_mean((y - pred)**2)\n",
    "optimizer = tf.train.GradientDescentOptimizer(\n",
    "    learning_rate=0.1\n",
    ")\n",
    "train_step = optimizer.minimize(loss)"
   ]
  },
  {
   "cell_type": "markdown",
   "metadata": {},
   "source": [
    "**リスト3.20:学習のル ープ**"
   ]
  },
  {
   "cell_type": "code",
   "execution_count": 566,
   "metadata": {
    "scrolled": true
   },
   "outputs": [
    {
     "name": "stdout",
     "output_type": "stream",
     "text": [
      "step: 0, train_loss: 25.950313568115234\n",
      "step: 1, train_loss: 7.779414653778076\n",
      "step: 2, train_loss: 5.406745433807373\n",
      "step: 3, train_loss: 4.277370452880859\n",
      "step: 4, train_loss: 3.4737861156463623\n",
      "step: 5, train_loss: 2.868887186050415\n",
      "step: 6, train_loss: 2.4048938751220703\n",
      "step: 7, train_loss: 2.0440008640289307\n",
      "step: 8, train_loss: 1.7598944902420044\n",
      "step: 9, train_loss: 1.5337834358215332\n",
      "step: 10, train_loss: 1.351990818977356\n",
      "step: 11, train_loss: 1.2044094800949097\n",
      "step: 12, train_loss: 1.0834746360778809\n",
      "step: 13, train_loss: 0.9834659695625305\n",
      "step: 14, train_loss: 0.9000201225280762\n",
      "step: 15, train_loss: 0.8297820687294006\n",
      "step: 16, train_loss: 0.7701560854911804\n",
      "step: 17, train_loss: 0.7191199660301208\n",
      "step: 18, train_loss: 0.6750891804695129\n",
      "step: 19, train_loss: 0.6368153095245361\n",
      "step: 20, train_loss: 0.6033084392547607\n",
      "step: 21, train_loss: 0.5737796425819397\n",
      "step: 22, train_loss: 0.5475960373878479\n",
      "step: 23, train_loss: 0.5242471694946289\n",
      "step: 24, train_loss: 0.5033184885978699\n",
      "step: 25, train_loss: 0.4844714105129242\n",
      "step: 26, train_loss: 0.46742740273475647\n",
      "step: 27, train_loss: 0.45195576548576355\n",
      "step: 28, train_loss: 0.4378645122051239\n",
      "step: 29, train_loss: 0.42499208450317383\n",
      "step: 30, train_loss: 0.4132022559642792\n",
      "step: 31, train_loss: 0.4023786783218384\n",
      "step: 32, train_loss: 0.3924219608306885\n",
      "step: 33, train_loss: 0.38324615359306335\n",
      "step: 34, train_loss: 0.37477660179138184\n",
      "step: 35, train_loss: 0.3669482171535492\n",
      "step: 36, train_loss: 0.3597034513950348\n",
      "step: 37, train_loss: 0.3529917299747467\n",
      "step: 38, train_loss: 0.3467678725719452\n",
      "step: 39, train_loss: 0.34099164605140686\n",
      "step: 40, train_loss: 0.3356268107891083\n",
      "step: 41, train_loss: 0.33064091205596924\n",
      "step: 42, train_loss: 0.32600435614585876\n",
      "step: 43, train_loss: 0.3216905891895294\n",
      "step: 44, train_loss: 0.31767508387565613\n",
      "step: 45, train_loss: 0.31393563747406006\n",
      "step: 46, train_loss: 0.31045201420783997\n",
      "step: 47, train_loss: 0.30720558762550354\n",
      "step: 48, train_loss: 0.30417919158935547\n",
      "step: 49, train_loss: 0.30135709047317505\n",
      "step: 50, train_loss: 0.2987247705459595\n",
      "step: 51, train_loss: 0.2962688207626343\n",
      "step: 52, train_loss: 0.29397693276405334\n",
      "step: 53, train_loss: 0.2918376326560974\n",
      "step: 54, train_loss: 0.28984031081199646\n",
      "step: 55, train_loss: 0.28797516226768494\n",
      "step: 56, train_loss: 0.28623315691947937\n",
      "step: 57, train_loss: 0.2846057713031769\n",
      "step: 58, train_loss: 0.2830851972103119\n",
      "step: 59, train_loss: 0.2816641926765442\n",
      "step: 60, train_loss: 0.2803359925746918\n",
      "step: 61, train_loss: 0.27909430861473083\n",
      "step: 62, train_loss: 0.27793335914611816\n",
      "step: 63, train_loss: 0.27684760093688965\n",
      "step: 64, train_loss: 0.2758321166038513\n",
      "step: 65, train_loss: 0.27488207817077637\n",
      "step: 66, train_loss: 0.2739931643009186\n",
      "step: 67, train_loss: 0.2731613218784332\n",
      "step: 68, train_loss: 0.2723827064037323\n",
      "step: 69, train_loss: 0.27165383100509644\n",
      "step: 70, train_loss: 0.2709713876247406\n",
      "step: 71, train_loss: 0.2703322470188141\n",
      "step: 72, train_loss: 0.2697336673736572\n",
      "step: 73, train_loss: 0.2691728174686432\n",
      "step: 74, train_loss: 0.26864737272262573\n",
      "step: 75, train_loss: 0.26815491914749146\n",
      "step: 76, train_loss: 0.26769331097602844\n",
      "step: 77, train_loss: 0.26726052165031433\n",
      "step: 78, train_loss: 0.2668547034263611\n",
      "step: 79, train_loss: 0.26647406816482544\n",
      "step: 80, train_loss: 0.26611700654029846\n",
      "step: 81, train_loss: 0.2657819390296936\n",
      "step: 82, train_loss: 0.26546749472618103\n",
      "step: 83, train_loss: 0.2651722729206085\n",
      "step: 84, train_loss: 0.26489511132240295\n",
      "step: 85, train_loss: 0.26463475823402405\n",
      "step: 86, train_loss: 0.2643902003765106\n",
      "step: 87, train_loss: 0.2641604542732239\n",
      "step: 88, train_loss: 0.26394444704055786\n",
      "step: 89, train_loss: 0.2637414038181305\n",
      "step: 90, train_loss: 0.2635504901409149\n",
      "step: 91, train_loss: 0.2633708715438843\n",
      "step: 92, train_loss: 0.26320186257362366\n",
      "step: 93, train_loss: 0.2630428373813629\n",
      "step: 94, train_loss: 0.26289308071136475\n",
      "step: 95, train_loss: 0.26275208592414856\n",
      "step: 96, train_loss: 0.2626192569732666\n",
      "step: 97, train_loss: 0.2624940574169159\n",
      "step: 98, train_loss: 0.2623760998249054\n",
      "step: 99, train_loss: 0.26226481795310974\n"
     ]
    }
   ],
   "source": [
    "import numpy as np\n",
    "Train_loss_data = np.zeros(100)\n",
    "num = np.zeros(100)\n",
    "\n",
    "for n in range(100):\n",
    "    num[n]=n\n",
    "\n",
    "with tf.Session() as sess:\n",
    "    sess.run(tf.global_variables_initializer())\n",
    "    for step in range(100):\n",
    "        # train_step が None を返すので、 _ で受けておく\n",
    "        train_loss, _ = sess.run(\n",
    "            [loss, train_step],\n",
    "            feed_dict={\n",
    "                x: x_train,\n",
    "                # y_trainとyの次元を揃えるためにreshapeが必要\n",
    "                y: y_train.reshape((-1, 1))\n",
    "            }\n",
    "        )\n",
    "        print('step: {}, train_loss: {}'.format(\n",
    "            step, train_loss\n",
    "        ))\n",
    "        Train_loss_data[step] = train_loss\n",
    "\n",
    "    # 学習が終わったら、評価用データに対して予測してみる\n",
    "    pred_ = sess.run(\n",
    "        pred,\n",
    "        feed_dict={\n",
    "            x: x_test\n",
    "        }\n",
    "    )\n"
   ]
  },
  {
   "cell_type": "code",
   "execution_count": 567,
   "metadata": {},
   "outputs": [
    {
     "data": {
      "image/png": "[encoded data removed]",
      "text/plain": [
       "<Figure size 648x432 with 1 Axes>"
      ]
     },
     "metadata": {
      "needs_background": "light"
     },
     "output_type": "display_data"
    }
   ],
   "source": [
    "plt.plot(num, Train_loss_data, color='red',  linestyle='--', marker='.')\n",
    "plt.grid(True)"
   ]
  },
  {
   "cell_type": "code",
   "execution_count": 568,
   "metadata": {},
   "outputs": [
    {
     "name": "stdout",
     "output_type": "stream",
     "text": [
      "train_loss = 0.26226482\n"
     ]
    }
   ],
   "source": [
    "print('train_loss = ' + str(train_loss) )"
   ]
  },
  {
   "cell_type": "markdown",
   "metadata": {},
   "source": [
    "**図3.12:評価用データに対する実測値と推定値**"
   ]
  },
  {
   "cell_type": "code",
   "execution_count": 569,
   "metadata": {
    "scrolled": false
   },
   "outputs": [
    {
     "data": {
      "text/plain": [
       "Text(0,0.5,'住宅価格(標準化後)')"
      ]
     },
     "execution_count": 569,
     "metadata": {},
     "output_type": "execute_result"
    },
    {
     "data": {
      "image/png": "[encoded data removed]",
      "text/plain": [
       "<Figure size 648x432 with 1 Axes>"
      ]
     },
     "metadata": {
      "needs_background": "light"
     },
     "output_type": "display_data"
    }
   ],
   "source": [
    "plt.plot(x_test[:, 5], pred_, 'o', label='予測値')\n",
    "plt.plot(x_test[:, 5], y_test, 'x', label='実データ')\n",
    "plt.legend(loc='upper left')\n",
    "plt.xlabel('部屋数(標準化後)')\n",
    "plt.ylabel('住宅価格(標準化後)')"
   ]
  },
  {
   "cell_type": "markdown",
   "metadata": {},
   "source": [
    "**リスト3.21:ミニバッチを1つずつ返すジェネレータ**"
   ]
  },
  {
   "cell_type": "code",
   "execution_count": 570,
   "metadata": {},
   "outputs": [],
   "source": [
    "import numpy as np\n",
    "\n",
    "\n",
    "def get_batches(x, y, batch_size):\n",
    "    n_data = len(x)\n",
    "    indices = np.arange(n_data)\n",
    "    np.random.shuffle(indices)\n",
    "    x_shuffled = x[indices]\n",
    "    y_shuffled = y[indices]\n",
    "    \n",
    "    # 元データからランダムに batch_size 個ずつ抽出する\n",
    "    for i in range(0, n_data, batch_size):\n",
    "        x_batch = x_shuffled[i: i + batch_size]\n",
    "        y_batch = y_shuffled[i: i + batch_size]\n",
    "        yield x_batch, y_batch"
   ]
  },
  {
   "cell_type": "markdown",
   "metadata": {},
   "source": [
    "**リスト3.22:ミニバッチを用いた学習**"
   ]
  },
  {
   "cell_type": "code",
   "execution_count": 624,
   "metadata": {
    "scrolled": false
   },
   "outputs": [
    {
     "data": {
      "image/png": "[encoded data removed]",
      "text/plain": [
       "<Figure size 1296x432 with 2 Axes>"
      ]
     },
     "metadata": {
      "needs_background": "light"
     },
     "output_type": "display_data"
    }
   ],
   "source": [
    "# ミニバッチのサイズ\n",
    "BATCH_SIZE = 32\n",
    "Train_loss_data_E = np.zeros(100)\n",
    "num_E = np.zeros(100)\n",
    "\n",
    "for n in range(100):\n",
    "    num_E[n]=n\n",
    "\n",
    "Train_loss_data = np.zeros(100*13)\n",
    "num = np.zeros(100*13)\n",
    "\n",
    "for n in range(100*13):\n",
    "    num[n]=n\n",
    "    \n",
    "step = 0\n",
    "with tf.Session() as sess:\n",
    "    sess.run(tf.global_variables_initializer())\n",
    "    # 100エポック回す\n",
    "    for epoch in range(100):\n",
    "        train_loss_s = 0\n",
    "        for x_batch, y_batch in get_batches(x_train, y_train, 32):\n",
    "            train_loss, _ = sess.run(\n",
    "                [loss, train_step],\n",
    "                feed_dict={\n",
    "                    x: x_batch,\n",
    "                    y: y_batch.reshape((-1, 1))\n",
    "                }\n",
    "            )\n",
    "            # print('step: {}, train_loss: {}'.format(step, train_loss)) # 数列ではなくて、下記グラフの表示に変更\n",
    "            step += 1\n",
    "            Train_loss_data[step-1] = train_loss\n",
    "            train_loss_s = train_loss_s + train_loss\n",
    "            #print('train_loss_s = ',train_loss_s)\n",
    "        #Train_loss_data_E[epoch-1] = train_loss_s/13 #　1個ズレる\n",
    "        Train_loss_data_E[epoch] = train_loss_s/13 #　ズレ無い\n",
    "        #print('Train_loss_data_E[',epoch,'] = ',Train_loss_data_E[epoch])\n",
    "    pred_ = sess.run(\n",
    "        pred,\n",
    "        feed_dict={\n",
    "            x: x_test\n",
    "        }\n",
    "    )\n",
    "\n",
    "plt.figure(figsize=(18, 6)) # figureの縦横の大きさ\n",
    "plt.subplot(1, 2, 1)\n",
    "plt.plot(num, Train_loss_data, color='blue',  linestyle='none', marker='.')\n",
    "plt.grid(True)\n",
    "plt.subplot(1, 2, 2)\n",
    "plt.plot(num, Train_loss_data, color='red',  linestyle='-')\n",
    "plt.grid(True)"
   ]
  },
  {
   "cell_type": "code",
   "execution_count": 626,
   "metadata": {},
   "outputs": [
    {
     "data": {
      "image/png": "[encoded data removed]",
      "text/plain": [
       "<Figure size 864x576 with 4 Axes>"
      ]
     },
     "metadata": {
      "needs_background": "light"
     },
     "output_type": "display_data"
    }
   ],
   "source": [
    "fig, ax = plt.subplots(2, 2, figsize=(12, 8))\n",
    "\n",
    "# 左上\n",
    "ax[0, 0].plot(num, Train_loss_data, color='blue',  linestyle='none', marker='.')\n",
    "ax[0, 0].grid(True)\n",
    "# 右上\n",
    "ax[0, 1].plot(num, Train_loss_data, color='red',  linestyle='-')\n",
    "ax[0, 1].grid(True)\n",
    "# 左下\n",
    "ax[1, 0].plot(num, Train_loss_data, color='green',  linestyle='-', marker='.')\n",
    "ax[1, 0].grid(True)\n",
    "# 右下\n",
    "ax[1, 1].plot(num, Train_loss_data, color='pink',  linestyle='-', marker='o')\n",
    "ax[1, 1].grid(True)\n"
   ]
  },
  {
   "cell_type": "code",
   "execution_count": 627,
   "metadata": {
    "scrolled": false
   },
   "outputs": [
    {
     "data": {
      "image/png": "[encoded data removed]",
      "text/plain": [
       "<Figure size 648x432 with 1 Axes>"
      ]
     },
     "metadata": {
      "needs_background": "light"
     },
     "output_type": "display_data"
    }
   ],
   "source": [
    "plt.plot(num_E, Train_loss_data_E, color='gray',  linestyle='-', marker='.')\n",
    "plt.grid(True)"
   ]
  },
  {
   "cell_type": "code",
   "execution_count": 1,
   "metadata": {},
   "outputs": [
    {
     "data": {
      "text/html": [
       "\n",
       "<button id=\"code-show-switch-btn\">スクリプトを非表示にする</button>\n",
       "\n",
       "<script>\n",
       "var code_show = true;\n",
       "\n",
       "function switch_display_setting() {\n",
       "    var switch_btn = $(\"#code-show-switch-btn\");\n",
       "    if (code_show) {\n",
       "        $(\"div.input\").hide();\n",
       "        code_show = false;\n",
       "        switch_btn.text(\"スクリプトを表示する\");\n",
       "    }else {\n",
       "        $(\"div.input\").show();\n",
       "        code_show = true;\n",
       "        switch_btn.text(\"スクリプトを非表示にする\");\n",
       "    }\n",
       "}\n",
       "\n",
       "$(\"#code-show-switch-btn\").click(switch_display_setting);\n",
       "</script>\n"
      ],
      "text/plain": [
       "<IPython.core.display.HTML object>"
      ]
     },
     "execution_count": 1,
     "metadata": {},
     "output_type": "execute_result"
    }
   ],
   "source": [
    "from IPython.display import HTML\n",
    "\n",
    "HTML(\"\"\"\n",
    "<button id=\"code-show-switch-btn\">スクリプトを非表示にする</button>\n",
    "\n",
    "<script>\n",
    "var code_show = true;\n",
    "\n",
    "function switch_display_setting() {\n",
    "    var switch_btn = $(\"#code-show-switch-btn\");\n",
    "    if (code_show) {\n",
    "        $(\"div.input\").hide();\n",
    "        code_show = false;\n",
    "        switch_btn.text(\"スクリプトを表示する\");\n",
    "    }else {\n",
    "        $(\"div.input\").show();\n",
    "        code_show = true;\n",
    "        switch_btn.text(\"スクリプトを非表示にする\");\n",
    "    }\n",
    "}\n",
    "\n",
    "$(\"#code-show-switch-btn\").click(switch_display_setting);\n",
    "</script>\n",
    "\"\"\")"
   ]
  },
  {
   "cell_type": "code",
   "execution_count": null,
   "metadata": {},
   "outputs": [],
   "source": []
  }
 ],
 "metadata": {
  "kernelspec": {
   "display_name": "Python 3",
   "language": "python",
   "name": "python3"
  },
  "language_info": {
   "codemirror_mode": {
    "name": "ipython",
    "version": 3
   },
   "file_extension": ".py",
   "mimetype": "text/x-python",
   "name": "python",
   "nbconvert_exporter": "python",
   "pygments_lexer": "ipython3",
   "version": "3.6.4"
  },
  "toc": {
   "base_numbering": 1,
   "nav_menu": {},
   "number_sections": true,
   "sideBar": true,
   "skip_h1_title": false,
   "title_cell": "Table of Contents",
   "title_sidebar": "Contents",
   "toc_cell": true,
   "toc_position": {},
   "toc_section_display": true,
   "toc_window_display": false
  }
 },
 "nbformat": 4,
 "nbformat_minor": 2
}
